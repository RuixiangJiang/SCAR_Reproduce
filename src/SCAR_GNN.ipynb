{
 "cells": [
  {
   "cell_type": "code",
   "id": "initial_id",
   "metadata": {
    "collapsed": true,
    "ExecuteTime": {
     "end_time": "2025-08-25T14:36:50.296503Z",
     "start_time": "2025-08-25T14:36:50.285948Z"
    }
   },
   "source": [
    "import os\n",
    "import pandas as pd\n",
    "import numpy as np\n",
    "import networkx as nx\n",
    "import matplotlib.pyplot as plt\n",
    "import tensorflow as tf\n",
    "from tensorflow import keras\n",
    "from tensorflow.keras import layers\n",
    "from sklearn.model_selection import train_test_split"
   ],
   "outputs": [],
   "execution_count": 49
  },
  {
   "metadata": {
    "ExecuteTime": {
     "end_time": "2025-08-25T14:36:50.311473Z",
     "start_time": "2025-08-25T14:36:50.302797Z"
    }
   },
   "cell_type": "code",
   "source": [
    "nodeset = pd.read_csv(f\"../out/features.csv\")\n",
    "df = pd.read_csv(f\"../out/edges.csv\")"
   ],
   "id": "bec0bd6db085eb26",
   "outputs": [],
   "execution_count": 50
  },
  {
   "metadata": {
    "ExecuteTime": {
     "end_time": "2025-08-25T14:36:50.335371Z",
     "start_time": "2025-08-25T14:36:50.323708Z"
    }
   },
   "cell_type": "code",
   "source": [
    "nodeset[\"label\"] = nodeset[\"node\"].str.contains(r\"(sbox|mixcolumn)\",\n",
    "                                          case=False, na=False).astype(int)\n",
    "nodeset"
   ],
   "id": "cf0469a66023c4a8",
   "outputs": [
    {
     "name": "stderr",
     "output_type": "stream",
     "text": [
      "/var/folders/fc/rq9v0gn94dq1cpr9d1jydxq40000gn/T/ipykernel_39774/453769152.py:1: UserWarning: This pattern is interpreted as a regular expression, and has match groups. To actually get the groups, use str.extract.\n",
      "  nodeset[\"label\"] = nodeset[\"node\"].str.contains(r\"(sbox|mixcolumn)\",\n"
     ]
    },
    {
     "data": {
      "text/plain": [
       "                     node  Degree  Hamming distance  \\\n",
       "0                  325:AS      18              3607   \n",
       "1    InvMixColumn1.729:AS       1                 0   \n",
       "2                  188:AS       9              8747   \n",
       "3                   93:AL       3                 0   \n",
       "4                  209:IF       3                 0   \n",
       "..                    ...     ...               ...   \n",
       "222                326:AS      18              3659   \n",
       "223                156:AS       2                 0   \n",
       "224                147:NS       2                 0   \n",
       "225                344:IF       3                 0   \n",
       "226  InvMixColumn0.729:AS       1                 0   \n",
       "\n",
       "                                                  Node  Paths  and  mux  \\\n",
       "0    325:AS\\nadd_roundkey[95:64] = { m_col[0][1], m...      0    0    1   \n",
       "1    InvMixColumn1.729:AS\\nm2c = mul4x8({ 4'hd }, s...      0    0    0   \n",
       "2    188:AS\\nnext_key[63:32] = w[2] ^ next_key[95:64];      1    0    1   \n",
       "3                                                93:AL    510    0    0   \n",
       "4                                               209:IF      0    0    0   \n",
       "..                                                 ...    ...  ...  ...   \n",
       "222  326:AS\\nadd_roundkey[63:32] = { m_col[0][2], m...      0    0    1   \n",
       "223  156:AS\\ntext_out = (enc_dec == 1'b0)? { state[...      0    0    1   \n",
       "224                        147:NS\\nkey_val <= key_val;     31    0    0   \n",
       "225                                             344:IF      0    0    0   \n",
       "226  InvMixColumn0.729:AS\\nm2c = mul4x8({ 4'hd }, s...      0    0    0   \n",
       "\n",
       "     node_number  or  xor  label  \n",
       "0              0   0    1      0  \n",
       "1              1   0    1      1  \n",
       "2              2   0    1      0  \n",
       "3              3   0    0      0  \n",
       "4              4   0    0      0  \n",
       "..           ...  ..  ...    ...  \n",
       "222          222   0    1      0  \n",
       "223          223   0    0      0  \n",
       "224          224   0    0      0  \n",
       "225          225   0    0      0  \n",
       "226          226   0    1      1  \n",
       "\n",
       "[227 rows x 11 columns]"
      ],
      "text/html": [
       "<div>\n",
       "<style scoped>\n",
       "    .dataframe tbody tr th:only-of-type {\n",
       "        vertical-align: middle;\n",
       "    }\n",
       "\n",
       "    .dataframe tbody tr th {\n",
       "        vertical-align: top;\n",
       "    }\n",
       "\n",
       "    .dataframe thead th {\n",
       "        text-align: right;\n",
       "    }\n",
       "</style>\n",
       "<table border=\"1\" class=\"dataframe\">\n",
       "  <thead>\n",
       "    <tr style=\"text-align: right;\">\n",
       "      <th></th>\n",
       "      <th>node</th>\n",
       "      <th>Degree</th>\n",
       "      <th>Hamming distance</th>\n",
       "      <th>Node</th>\n",
       "      <th>Paths</th>\n",
       "      <th>and</th>\n",
       "      <th>mux</th>\n",
       "      <th>node_number</th>\n",
       "      <th>or</th>\n",
       "      <th>xor</th>\n",
       "      <th>label</th>\n",
       "    </tr>\n",
       "  </thead>\n",
       "  <tbody>\n",
       "    <tr>\n",
       "      <th>0</th>\n",
       "      <td>325:AS</td>\n",
       "      <td>18</td>\n",
       "      <td>3607</td>\n",
       "      <td>325:AS\\nadd_roundkey[95:64] = { m_col[0][1], m...</td>\n",
       "      <td>0</td>\n",
       "      <td>0</td>\n",
       "      <td>1</td>\n",
       "      <td>0</td>\n",
       "      <td>0</td>\n",
       "      <td>1</td>\n",
       "      <td>0</td>\n",
       "    </tr>\n",
       "    <tr>\n",
       "      <th>1</th>\n",
       "      <td>InvMixColumn1.729:AS</td>\n",
       "      <td>1</td>\n",
       "      <td>0</td>\n",
       "      <td>InvMixColumn1.729:AS\\nm2c = mul4x8({ 4'hd }, s...</td>\n",
       "      <td>0</td>\n",
       "      <td>0</td>\n",
       "      <td>0</td>\n",
       "      <td>1</td>\n",
       "      <td>0</td>\n",
       "      <td>1</td>\n",
       "      <td>1</td>\n",
       "    </tr>\n",
       "    <tr>\n",
       "      <th>2</th>\n",
       "      <td>188:AS</td>\n",
       "      <td>9</td>\n",
       "      <td>8747</td>\n",
       "      <td>188:AS\\nnext_key[63:32] = w[2] ^ next_key[95:64];</td>\n",
       "      <td>1</td>\n",
       "      <td>0</td>\n",
       "      <td>1</td>\n",
       "      <td>2</td>\n",
       "      <td>0</td>\n",
       "      <td>1</td>\n",
       "      <td>0</td>\n",
       "    </tr>\n",
       "    <tr>\n",
       "      <th>3</th>\n",
       "      <td>93:AL</td>\n",
       "      <td>3</td>\n",
       "      <td>0</td>\n",
       "      <td>93:AL</td>\n",
       "      <td>510</td>\n",
       "      <td>0</td>\n",
       "      <td>0</td>\n",
       "      <td>3</td>\n",
       "      <td>0</td>\n",
       "      <td>0</td>\n",
       "      <td>0</td>\n",
       "    </tr>\n",
       "    <tr>\n",
       "      <th>4</th>\n",
       "      <td>209:IF</td>\n",
       "      <td>3</td>\n",
       "      <td>0</td>\n",
       "      <td>209:IF</td>\n",
       "      <td>0</td>\n",
       "      <td>0</td>\n",
       "      <td>0</td>\n",
       "      <td>4</td>\n",
       "      <td>0</td>\n",
       "      <td>0</td>\n",
       "      <td>0</td>\n",
       "    </tr>\n",
       "    <tr>\n",
       "      <th>...</th>\n",
       "      <td>...</td>\n",
       "      <td>...</td>\n",
       "      <td>...</td>\n",
       "      <td>...</td>\n",
       "      <td>...</td>\n",
       "      <td>...</td>\n",
       "      <td>...</td>\n",
       "      <td>...</td>\n",
       "      <td>...</td>\n",
       "      <td>...</td>\n",
       "      <td>...</td>\n",
       "    </tr>\n",
       "    <tr>\n",
       "      <th>222</th>\n",
       "      <td>326:AS</td>\n",
       "      <td>18</td>\n",
       "      <td>3659</td>\n",
       "      <td>326:AS\\nadd_roundkey[63:32] = { m_col[0][2], m...</td>\n",
       "      <td>0</td>\n",
       "      <td>0</td>\n",
       "      <td>1</td>\n",
       "      <td>222</td>\n",
       "      <td>0</td>\n",
       "      <td>1</td>\n",
       "      <td>0</td>\n",
       "    </tr>\n",
       "    <tr>\n",
       "      <th>223</th>\n",
       "      <td>156:AS</td>\n",
       "      <td>2</td>\n",
       "      <td>0</td>\n",
       "      <td>156:AS\\ntext_out = (enc_dec == 1'b0)? { state[...</td>\n",
       "      <td>0</td>\n",
       "      <td>0</td>\n",
       "      <td>1</td>\n",
       "      <td>223</td>\n",
       "      <td>0</td>\n",
       "      <td>0</td>\n",
       "      <td>0</td>\n",
       "    </tr>\n",
       "    <tr>\n",
       "      <th>224</th>\n",
       "      <td>147:NS</td>\n",
       "      <td>2</td>\n",
       "      <td>0</td>\n",
       "      <td>147:NS\\nkey_val &lt;= key_val;</td>\n",
       "      <td>31</td>\n",
       "      <td>0</td>\n",
       "      <td>0</td>\n",
       "      <td>224</td>\n",
       "      <td>0</td>\n",
       "      <td>0</td>\n",
       "      <td>0</td>\n",
       "    </tr>\n",
       "    <tr>\n",
       "      <th>225</th>\n",
       "      <td>344:IF</td>\n",
       "      <td>3</td>\n",
       "      <td>0</td>\n",
       "      <td>344:IF</td>\n",
       "      <td>0</td>\n",
       "      <td>0</td>\n",
       "      <td>0</td>\n",
       "      <td>225</td>\n",
       "      <td>0</td>\n",
       "      <td>0</td>\n",
       "      <td>0</td>\n",
       "    </tr>\n",
       "    <tr>\n",
       "      <th>226</th>\n",
       "      <td>InvMixColumn0.729:AS</td>\n",
       "      <td>1</td>\n",
       "      <td>0</td>\n",
       "      <td>InvMixColumn0.729:AS\\nm2c = mul4x8({ 4'hd }, s...</td>\n",
       "      <td>0</td>\n",
       "      <td>0</td>\n",
       "      <td>0</td>\n",
       "      <td>226</td>\n",
       "      <td>0</td>\n",
       "      <td>1</td>\n",
       "      <td>1</td>\n",
       "    </tr>\n",
       "  </tbody>\n",
       "</table>\n",
       "<p>227 rows × 11 columns</p>\n",
       "</div>"
      ]
     },
     "execution_count": 51,
     "metadata": {},
     "output_type": "execute_result"
    }
   ],
   "execution_count": 51
  },
  {
   "metadata": {
    "ExecuteTime": {
     "end_time": "2025-08-25T14:36:50.375197Z",
     "start_time": "2025-08-25T14:36:50.370569Z"
    }
   },
   "cell_type": "code",
   "source": [
    "if \"label\" in nodeset.columns:\n",
    "    label = \"label\"\n",
    "else:\n",
    "    label = \"xor\" # suppose xor is the label\n",
    "# In the paper, nodes belonging to the Sbox and Mixcolumns modules are labeled as 1\n",
    "\n",
    "class_values = sorted(nodeset[label].unique())\n",
    "class_idx = {name: id for id, name in enumerate(class_values)}\n",
    "paper_idx = {name: idx for idx, name in enumerate(sorted(nodeset[\"node_number\"].unique()))}\n",
    "\n",
    "nodeset[\"node_number\"] = nodeset[\"node_number\"].apply(lambda name: paper_idx[name])\n",
    "df[\"source\"] = df[\"source\"].apply(lambda name: paper_idx[name])\n",
    "df[\"target\"] = df[\"target\"].apply(lambda name: paper_idx[name])\n",
    "nodeset[label] = nodeset[label].apply(lambda value: class_idx[value])\n",
    "\n",
    "print(nodeset.label.value_counts())"
   ],
   "id": "584a63c56f0b16b",
   "outputs": [
    {
     "name": "stdout",
     "output_type": "stream",
     "text": [
      "label\n",
      "0    195\n",
      "1     32\n",
      "Name: count, dtype: int64\n"
     ]
    }
   ],
   "execution_count": 52
  },
  {
   "metadata": {
    "ExecuteTime": {
     "end_time": "2025-08-25T14:36:50.426749Z",
     "start_time": "2025-08-25T14:36:50.424905Z"
    }
   },
   "cell_type": "code",
   "source": [
    "train_data = nodeset.iloc[0:196]\n",
    "test_data = nodeset.iloc[196:]"
   ],
   "id": "aca38d45d1dfa300",
   "outputs": [],
   "execution_count": 53
  },
  {
   "metadata": {
    "ExecuteTime": {
     "end_time": "2025-08-25T14:36:50.441584Z",
     "start_time": "2025-08-25T14:36:50.439738Z"
    }
   },
   "cell_type": "code",
   "source": [
    "hidden_units = [32, 32]\n",
    "learning_rate = 0.0001\n",
    "dropout_rate = 0.3\n",
    "num_epochs = 32\n",
    "batch_size = 20"
   ],
   "id": "38498a430d4e29ec",
   "outputs": [],
   "execution_count": 54
  },
  {
   "metadata": {
    "ExecuteTime": {
     "end_time": "2025-08-25T14:36:50.477444Z",
     "start_time": "2025-08-25T14:36:50.475087Z"
    }
   },
   "cell_type": "code",
   "source": [
    "def run_experiment(model, x_train, y_train):\n",
    "    # Compile the model.\n",
    "    model.compile(\n",
    "        optimizer=keras.optimizers.Adam(learning_rate),\n",
    "        loss=keras.losses.BinaryCrossentropy(from_logits=False),\n",
    "        metrics=[keras.metrics.BinaryAccuracy(name=\"acc\"),\n",
    "keras.metrics.Precision(), keras.metrics.Recall()],\n",
    "    )\n",
    "    # Create an early stopping callback.\n",
    "    early_stopping = keras.callbacks.EarlyStopping(\n",
    "        monitor=\"val_acc\", patience=50, restore_best_weights=True\n",
    "    )\n",
    "    # Fit the model.\n",
    "    history = model.fit(\n",
    "        x=x_train,\n",
    "        y=y_train,\n",
    "        epochs=num_epochs,\n",
    "        batch_size=batch_size,\n",
    "        validation_split=0.10,\n",
    "        callbacks=[early_stopping],\n",
    "    )\n",
    "\n",
    "    return history"
   ],
   "id": "ee389b4d92939c2d",
   "outputs": [],
   "execution_count": 55
  },
  {
   "metadata": {
    "ExecuteTime": {
     "end_time": "2025-08-25T14:36:50.503779Z",
     "start_time": "2025-08-25T14:36:50.501385Z"
    }
   },
   "cell_type": "code",
   "source": [
    "def display_learning_curves(history):\n",
    "    fig, (ax1, ax2) = plt.subplots(1, 2, figsize=(15, 5))\n",
    "\n",
    "    ax1.plot(history.history[\"loss\"])\n",
    "    ax1.plot(history.history[\"val_loss\"])\n",
    "    ax1.legend([\"train\", \"test\"], loc=\"upper right\")\n",
    "    ax1.set_xlabel(\"Epochs\")\n",
    "    ax1.set_ylabel(\"Loss\")\n",
    "\n",
    "    ax2.plot(history.history[\"acc\"])\n",
    "    ax2.plot(history.history[\"val_acc\"])\n",
    "    ax2.legend([\"train\", \"test\"], loc=\"upper right\")\n",
    "    ax2.set_xlabel(\"Epochs\")\n",
    "    ax2.set_ylabel(\"Accuracy\")\n",
    "    plt.show()"
   ],
   "id": "db00035001c7a259",
   "outputs": [],
   "execution_count": 56
  },
  {
   "metadata": {
    "ExecuteTime": {
     "end_time": "2025-08-25T14:36:50.515844Z",
     "start_time": "2025-08-25T14:36:50.514001Z"
    }
   },
   "cell_type": "code",
   "source": [
    "def create_ffn(hidden_units, dropout_rate, name=None):\n",
    "    fnn_layers = []\n",
    "\n",
    "    for units in hidden_units:\n",
    "        fnn_layers.append(layers.BatchNormalization())\n",
    "        fnn_layers.append(layers.Dropout(dropout_rate))\n",
    "        fnn_layers.append(layers.Dense(units, activation=tf.nn.relu))\n",
    "\n",
    "    return keras.Sequential(fnn_layers, name=name)"
   ],
   "id": "537e489acd6562a4",
   "outputs": [],
   "execution_count": 57
  },
  {
   "metadata": {
    "ExecuteTime": {
     "end_time": "2025-08-25T14:36:50.528814Z",
     "start_time": "2025-08-25T14:36:50.524940Z"
    }
   },
   "cell_type": "code",
   "source": [
    "feature_names = set(nodeset.columns) - {\"node_number\", \"Node\", \"node\", label}\n",
    "num_features = len(feature_names)\n",
    "num_classes = len(class_idx)\n",
    "\n",
    "print(train_data[list(feature_names)])\n",
    "# Create train and test features as a numpy array.\n",
    "x_train = train_data[list(feature_names)].to_numpy()\n",
    "x_test = test_data[list(feature_names)].to_numpy()\n",
    "#print(x_train)\n",
    "# Create train and test targets as a numpy array.\n",
    "y_train = train_data[label]\n",
    "y_test = test_data[label]"
   ],
   "id": "5bc80a83d9b0d489",
   "outputs": [
    {
     "name": "stdout",
     "output_type": "stream",
     "text": [
      "     mux  xor  Paths  Hamming distance  Degree  or  and\n",
      "0      1    1      0              3607      18   0    0\n",
      "1      0    1      0                 0       1   0    0\n",
      "2      1    1      1              8747       9   0    0\n",
      "3      0    0    510                 0       3   0    0\n",
      "4      0    0      0                 0       3   0    0\n",
      "..   ...  ...    ...               ...     ...  ..  ...\n",
      "191    0    0      0                 0       8   0    0\n",
      "192    0    0    374                 0       3   0    0\n",
      "193    0    0      0                 0       4   0    0\n",
      "194    0    0      0                 0       8   0    0\n",
      "195    0    1      0                 0       4   0    0\n",
      "\n",
      "[196 rows x 7 columns]\n"
     ]
    }
   ],
   "execution_count": 58
  },
  {
   "metadata": {
    "ExecuteTime": {
     "end_time": "2025-08-25T14:36:54.057138Z",
     "start_time": "2025-08-25T14:36:50.539393Z"
    }
   },
   "cell_type": "code",
   "source": [
    "def create_baseline_model(hidden_units, num_classes, dropout_rate=0.2):\n",
    "    inputs = layers.Input(shape=(num_features,), name=\"input_features\")\n",
    "    x = create_ffn(hidden_units, dropout_rate, name=f\"ffn_block1\")(inputs)\n",
    "    for block_idx in range(4):\n",
    "        # Create an FFN block.\n",
    "        x1 = create_ffn(hidden_units, dropout_rate, name=f\"ffn_block{block_idx + 2}\")(x)\n",
    "        # Add skip connection.\n",
    "        x = layers.Add(name=f\"skip_connection{block_idx + 2}\")([x, x1])\n",
    "    # Compute logits.\n",
    "    logits = layers.Dense(num_classes-1, name=\"logits\")(x)\n",
    "    # Create the model.\n",
    "    return keras.Model(inputs=inputs, outputs=logits, name=\"baseline\")\n",
    "\n",
    "\n",
    "baseline_model = create_baseline_model(hidden_units, num_classes, dropout_rate)\n",
    "baseline_model.summary()\n",
    "\n",
    "history = run_experiment(baseline_model, x_train, y_train)"
   ],
   "id": "a540e91d81dc91c",
   "outputs": [
    {
     "data": {
      "text/plain": [
       "\u001B[1mModel: \"baseline\"\u001B[0m\n"
      ],
      "text/html": [
       "<pre style=\"white-space:pre;overflow-x:auto;line-height:normal;font-family:Menlo,'DejaVu Sans Mono',consolas,'Courier New',monospace\"><span style=\"font-weight: bold\">Model: \"baseline\"</span>\n",
       "</pre>\n"
      ]
     },
     "metadata": {},
     "output_type": "display_data"
    },
    {
     "data": {
      "text/plain": [
       "┏━━━━━━━━━━━━━━━━━━━━━┳━━━━━━━━━━━━━━━━━━━┳━━━━━━━━━━━━┳━━━━━━━━━━━━━━━━━━━┓\n",
       "┃\u001B[1m \u001B[0m\u001B[1mLayer (type)       \u001B[0m\u001B[1m \u001B[0m┃\u001B[1m \u001B[0m\u001B[1mOutput Shape     \u001B[0m\u001B[1m \u001B[0m┃\u001B[1m \u001B[0m\u001B[1m   Param #\u001B[0m\u001B[1m \u001B[0m┃\u001B[1m \u001B[0m\u001B[1mConnected to     \u001B[0m\u001B[1m \u001B[0m┃\n",
       "┡━━━━━━━━━━━━━━━━━━━━━╇━━━━━━━━━━━━━━━━━━━╇━━━━━━━━━━━━╇━━━━━━━━━━━━━━━━━━━┩\n",
       "│ input_features      │ (\u001B[38;5;45mNone\u001B[0m, \u001B[38;5;34m7\u001B[0m)         │          \u001B[38;5;34m0\u001B[0m │ -                 │\n",
       "│ (\u001B[38;5;33mInputLayer\u001B[0m)        │                   │            │                   │\n",
       "├─────────────────────┼───────────────────┼────────────┼───────────────────┤\n",
       "│ ffn_block1          │ (\u001B[38;5;45mNone\u001B[0m, \u001B[38;5;34m32\u001B[0m)        │      \u001B[38;5;34m1,468\u001B[0m │ input_features[\u001B[38;5;34m0\u001B[0m… │\n",
       "│ (\u001B[38;5;33mSequential\u001B[0m)        │                   │            │                   │\n",
       "├─────────────────────┼───────────────────┼────────────┼───────────────────┤\n",
       "│ ffn_block2          │ (\u001B[38;5;45mNone\u001B[0m, \u001B[38;5;34m32\u001B[0m)        │      \u001B[38;5;34m2,368\u001B[0m │ ffn_block1[\u001B[38;5;34m0\u001B[0m][\u001B[38;5;34m0\u001B[0m]  │\n",
       "│ (\u001B[38;5;33mSequential\u001B[0m)        │                   │            │                   │\n",
       "├─────────────────────┼───────────────────┼────────────┼───────────────────┤\n",
       "│ skip_connection2    │ (\u001B[38;5;45mNone\u001B[0m, \u001B[38;5;34m32\u001B[0m)        │          \u001B[38;5;34m0\u001B[0m │ ffn_block1[\u001B[38;5;34m0\u001B[0m][\u001B[38;5;34m0\u001B[0m], │\n",
       "│ (\u001B[38;5;33mAdd\u001B[0m)               │                   │            │ ffn_block2[\u001B[38;5;34m0\u001B[0m][\u001B[38;5;34m0\u001B[0m]  │\n",
       "├─────────────────────┼───────────────────┼────────────┼───────────────────┤\n",
       "│ ffn_block3          │ (\u001B[38;5;45mNone\u001B[0m, \u001B[38;5;34m32\u001B[0m)        │      \u001B[38;5;34m2,368\u001B[0m │ skip_connection2… │\n",
       "│ (\u001B[38;5;33mSequential\u001B[0m)        │                   │            │                   │\n",
       "├─────────────────────┼───────────────────┼────────────┼───────────────────┤\n",
       "│ skip_connection3    │ (\u001B[38;5;45mNone\u001B[0m, \u001B[38;5;34m32\u001B[0m)        │          \u001B[38;5;34m0\u001B[0m │ skip_connection2… │\n",
       "│ (\u001B[38;5;33mAdd\u001B[0m)               │                   │            │ ffn_block3[\u001B[38;5;34m0\u001B[0m][\u001B[38;5;34m0\u001B[0m]  │\n",
       "├─────────────────────┼───────────────────┼────────────┼───────────────────┤\n",
       "│ ffn_block4          │ (\u001B[38;5;45mNone\u001B[0m, \u001B[38;5;34m32\u001B[0m)        │      \u001B[38;5;34m2,368\u001B[0m │ skip_connection3… │\n",
       "│ (\u001B[38;5;33mSequential\u001B[0m)        │                   │            │                   │\n",
       "├─────────────────────┼───────────────────┼────────────┼───────────────────┤\n",
       "│ skip_connection4    │ (\u001B[38;5;45mNone\u001B[0m, \u001B[38;5;34m32\u001B[0m)        │          \u001B[38;5;34m0\u001B[0m │ skip_connection3… │\n",
       "│ (\u001B[38;5;33mAdd\u001B[0m)               │                   │            │ ffn_block4[\u001B[38;5;34m0\u001B[0m][\u001B[38;5;34m0\u001B[0m]  │\n",
       "├─────────────────────┼───────────────────┼────────────┼───────────────────┤\n",
       "│ ffn_block5          │ (\u001B[38;5;45mNone\u001B[0m, \u001B[38;5;34m32\u001B[0m)        │      \u001B[38;5;34m2,368\u001B[0m │ skip_connection4… │\n",
       "│ (\u001B[38;5;33mSequential\u001B[0m)        │                   │            │                   │\n",
       "├─────────────────────┼───────────────────┼────────────┼───────────────────┤\n",
       "│ skip_connection5    │ (\u001B[38;5;45mNone\u001B[0m, \u001B[38;5;34m32\u001B[0m)        │          \u001B[38;5;34m0\u001B[0m │ skip_connection4… │\n",
       "│ (\u001B[38;5;33mAdd\u001B[0m)               │                   │            │ ffn_block5[\u001B[38;5;34m0\u001B[0m][\u001B[38;5;34m0\u001B[0m]  │\n",
       "├─────────────────────┼───────────────────┼────────────┼───────────────────┤\n",
       "│ logits (\u001B[38;5;33mDense\u001B[0m)      │ (\u001B[38;5;45mNone\u001B[0m, \u001B[38;5;34m1\u001B[0m)         │         \u001B[38;5;34m33\u001B[0m │ skip_connection5… │\n",
       "└─────────────────────┴───────────────────┴────────────┴───────────────────┘\n"
      ],
      "text/html": [
       "<pre style=\"white-space:pre;overflow-x:auto;line-height:normal;font-family:Menlo,'DejaVu Sans Mono',consolas,'Courier New',monospace\">┏━━━━━━━━━━━━━━━━━━━━━┳━━━━━━━━━━━━━━━━━━━┳━━━━━━━━━━━━┳━━━━━━━━━━━━━━━━━━━┓\n",
       "┃<span style=\"font-weight: bold\"> Layer (type)        </span>┃<span style=\"font-weight: bold\"> Output Shape      </span>┃<span style=\"font-weight: bold\">    Param # </span>┃<span style=\"font-weight: bold\"> Connected to      </span>┃\n",
       "┡━━━━━━━━━━━━━━━━━━━━━╇━━━━━━━━━━━━━━━━━━━╇━━━━━━━━━━━━╇━━━━━━━━━━━━━━━━━━━┩\n",
       "│ input_features      │ (<span style=\"color: #00d7ff; text-decoration-color: #00d7ff\">None</span>, <span style=\"color: #00af00; text-decoration-color: #00af00\">7</span>)         │          <span style=\"color: #00af00; text-decoration-color: #00af00\">0</span> │ -                 │\n",
       "│ (<span style=\"color: #0087ff; text-decoration-color: #0087ff\">InputLayer</span>)        │                   │            │                   │\n",
       "├─────────────────────┼───────────────────┼────────────┼───────────────────┤\n",
       "│ ffn_block1          │ (<span style=\"color: #00d7ff; text-decoration-color: #00d7ff\">None</span>, <span style=\"color: #00af00; text-decoration-color: #00af00\">32</span>)        │      <span style=\"color: #00af00; text-decoration-color: #00af00\">1,468</span> │ input_features[<span style=\"color: #00af00; text-decoration-color: #00af00\">0</span>… │\n",
       "│ (<span style=\"color: #0087ff; text-decoration-color: #0087ff\">Sequential</span>)        │                   │            │                   │\n",
       "├─────────────────────┼───────────────────┼────────────┼───────────────────┤\n",
       "│ ffn_block2          │ (<span style=\"color: #00d7ff; text-decoration-color: #00d7ff\">None</span>, <span style=\"color: #00af00; text-decoration-color: #00af00\">32</span>)        │      <span style=\"color: #00af00; text-decoration-color: #00af00\">2,368</span> │ ffn_block1[<span style=\"color: #00af00; text-decoration-color: #00af00\">0</span>][<span style=\"color: #00af00; text-decoration-color: #00af00\">0</span>]  │\n",
       "│ (<span style=\"color: #0087ff; text-decoration-color: #0087ff\">Sequential</span>)        │                   │            │                   │\n",
       "├─────────────────────┼───────────────────┼────────────┼───────────────────┤\n",
       "│ skip_connection2    │ (<span style=\"color: #00d7ff; text-decoration-color: #00d7ff\">None</span>, <span style=\"color: #00af00; text-decoration-color: #00af00\">32</span>)        │          <span style=\"color: #00af00; text-decoration-color: #00af00\">0</span> │ ffn_block1[<span style=\"color: #00af00; text-decoration-color: #00af00\">0</span>][<span style=\"color: #00af00; text-decoration-color: #00af00\">0</span>], │\n",
       "│ (<span style=\"color: #0087ff; text-decoration-color: #0087ff\">Add</span>)               │                   │            │ ffn_block2[<span style=\"color: #00af00; text-decoration-color: #00af00\">0</span>][<span style=\"color: #00af00; text-decoration-color: #00af00\">0</span>]  │\n",
       "├─────────────────────┼───────────────────┼────────────┼───────────────────┤\n",
       "│ ffn_block3          │ (<span style=\"color: #00d7ff; text-decoration-color: #00d7ff\">None</span>, <span style=\"color: #00af00; text-decoration-color: #00af00\">32</span>)        │      <span style=\"color: #00af00; text-decoration-color: #00af00\">2,368</span> │ skip_connection2… │\n",
       "│ (<span style=\"color: #0087ff; text-decoration-color: #0087ff\">Sequential</span>)        │                   │            │                   │\n",
       "├─────────────────────┼───────────────────┼────────────┼───────────────────┤\n",
       "│ skip_connection3    │ (<span style=\"color: #00d7ff; text-decoration-color: #00d7ff\">None</span>, <span style=\"color: #00af00; text-decoration-color: #00af00\">32</span>)        │          <span style=\"color: #00af00; text-decoration-color: #00af00\">0</span> │ skip_connection2… │\n",
       "│ (<span style=\"color: #0087ff; text-decoration-color: #0087ff\">Add</span>)               │                   │            │ ffn_block3[<span style=\"color: #00af00; text-decoration-color: #00af00\">0</span>][<span style=\"color: #00af00; text-decoration-color: #00af00\">0</span>]  │\n",
       "├─────────────────────┼───────────────────┼────────────┼───────────────────┤\n",
       "│ ffn_block4          │ (<span style=\"color: #00d7ff; text-decoration-color: #00d7ff\">None</span>, <span style=\"color: #00af00; text-decoration-color: #00af00\">32</span>)        │      <span style=\"color: #00af00; text-decoration-color: #00af00\">2,368</span> │ skip_connection3… │\n",
       "│ (<span style=\"color: #0087ff; text-decoration-color: #0087ff\">Sequential</span>)        │                   │            │                   │\n",
       "├─────────────────────┼───────────────────┼────────────┼───────────────────┤\n",
       "│ skip_connection4    │ (<span style=\"color: #00d7ff; text-decoration-color: #00d7ff\">None</span>, <span style=\"color: #00af00; text-decoration-color: #00af00\">32</span>)        │          <span style=\"color: #00af00; text-decoration-color: #00af00\">0</span> │ skip_connection3… │\n",
       "│ (<span style=\"color: #0087ff; text-decoration-color: #0087ff\">Add</span>)               │                   │            │ ffn_block4[<span style=\"color: #00af00; text-decoration-color: #00af00\">0</span>][<span style=\"color: #00af00; text-decoration-color: #00af00\">0</span>]  │\n",
       "├─────────────────────┼───────────────────┼────────────┼───────────────────┤\n",
       "│ ffn_block5          │ (<span style=\"color: #00d7ff; text-decoration-color: #00d7ff\">None</span>, <span style=\"color: #00af00; text-decoration-color: #00af00\">32</span>)        │      <span style=\"color: #00af00; text-decoration-color: #00af00\">2,368</span> │ skip_connection4… │\n",
       "│ (<span style=\"color: #0087ff; text-decoration-color: #0087ff\">Sequential</span>)        │                   │            │                   │\n",
       "├─────────────────────┼───────────────────┼────────────┼───────────────────┤\n",
       "│ skip_connection5    │ (<span style=\"color: #00d7ff; text-decoration-color: #00d7ff\">None</span>, <span style=\"color: #00af00; text-decoration-color: #00af00\">32</span>)        │          <span style=\"color: #00af00; text-decoration-color: #00af00\">0</span> │ skip_connection4… │\n",
       "│ (<span style=\"color: #0087ff; text-decoration-color: #0087ff\">Add</span>)               │                   │            │ ffn_block5[<span style=\"color: #00af00; text-decoration-color: #00af00\">0</span>][<span style=\"color: #00af00; text-decoration-color: #00af00\">0</span>]  │\n",
       "├─────────────────────┼───────────────────┼────────────┼───────────────────┤\n",
       "│ logits (<span style=\"color: #0087ff; text-decoration-color: #0087ff\">Dense</span>)      │ (<span style=\"color: #00d7ff; text-decoration-color: #00d7ff\">None</span>, <span style=\"color: #00af00; text-decoration-color: #00af00\">1</span>)         │         <span style=\"color: #00af00; text-decoration-color: #00af00\">33</span> │ skip_connection5… │\n",
       "└─────────────────────┴───────────────────┴────────────┴───────────────────┘\n",
       "</pre>\n"
      ]
     },
     "metadata": {},
     "output_type": "display_data"
    },
    {
     "data": {
      "text/plain": [
       "\u001B[1m Total params: \u001B[0m\u001B[38;5;34m10,973\u001B[0m (42.86 KB)\n"
      ],
      "text/html": [
       "<pre style=\"white-space:pre;overflow-x:auto;line-height:normal;font-family:Menlo,'DejaVu Sans Mono',consolas,'Courier New',monospace\"><span style=\"font-weight: bold\"> Total params: </span><span style=\"color: #00af00; text-decoration-color: #00af00\">10,973</span> (42.86 KB)\n",
       "</pre>\n"
      ]
     },
     "metadata": {},
     "output_type": "display_data"
    },
    {
     "data": {
      "text/plain": [
       "\u001B[1m Trainable params: \u001B[0m\u001B[38;5;34m10,383\u001B[0m (40.56 KB)\n"
      ],
      "text/html": [
       "<pre style=\"white-space:pre;overflow-x:auto;line-height:normal;font-family:Menlo,'DejaVu Sans Mono',consolas,'Courier New',monospace\"><span style=\"font-weight: bold\"> Trainable params: </span><span style=\"color: #00af00; text-decoration-color: #00af00\">10,383</span> (40.56 KB)\n",
       "</pre>\n"
      ]
     },
     "metadata": {},
     "output_type": "display_data"
    },
    {
     "data": {
      "text/plain": [
       "\u001B[1m Non-trainable params: \u001B[0m\u001B[38;5;34m590\u001B[0m (2.30 KB)\n"
      ],
      "text/html": [
       "<pre style=\"white-space:pre;overflow-x:auto;line-height:normal;font-family:Menlo,'DejaVu Sans Mono',consolas,'Courier New',monospace\"><span style=\"font-weight: bold\"> Non-trainable params: </span><span style=\"color: #00af00; text-decoration-color: #00af00\">590</span> (2.30 KB)\n",
       "</pre>\n"
      ]
     },
     "metadata": {},
     "output_type": "display_data"
    },
    {
     "name": "stdout",
     "output_type": "stream",
     "text": [
      "Epoch 1/32\n",
      "\u001B[1m9/9\u001B[0m \u001B[32m━━━━━━━━━━━━━━━━━━━━\u001B[0m\u001B[37m\u001B[0m \u001B[1m2s\u001B[0m 24ms/step - acc: 0.8646 - loss: 2.1822 - precision_4: 0.0000e+00 - recall_4: 0.0000e+00 - val_acc: 0.8500 - val_loss: 2.4177 - val_precision_4: 0.0000e+00 - val_recall_4: 0.0000e+00\n",
      "Epoch 2/32\n",
      "\u001B[1m9/9\u001B[0m \u001B[32m━━━━━━━━━━━━━━━━━━━━\u001B[0m\u001B[37m\u001B[0m \u001B[1m0s\u001B[0m 4ms/step - acc: 0.8728 - loss: 2.0507 - precision_4: 0.0000e+00 - recall_4: 0.0000e+00 - val_acc: 0.8500 - val_loss: 2.4177 - val_precision_4: 0.0000e+00 - val_recall_4: 0.0000e+00\n",
      "Epoch 3/32\n",
      "\u001B[1m9/9\u001B[0m \u001B[32m━━━━━━━━━━━━━━━━━━━━\u001B[0m\u001B[37m\u001B[0m \u001B[1m0s\u001B[0m 3ms/step - acc: 0.8751 - loss: 2.0132 - precision_4: 0.0000e+00 - recall_4: 0.0000e+00 - val_acc: 0.8500 - val_loss: 2.4177 - val_precision_4: 0.0000e+00 - val_recall_4: 0.0000e+00\n",
      "Epoch 4/32\n",
      "\u001B[1m9/9\u001B[0m \u001B[32m━━━━━━━━━━━━━━━━━━━━\u001B[0m\u001B[37m\u001B[0m \u001B[1m0s\u001B[0m 3ms/step - acc: 0.8510 - loss: 2.4021 - precision_4: 0.0000e+00 - recall_4: 0.0000e+00 - val_acc: 0.8500 - val_loss: 2.4177 - val_precision_4: 0.0000e+00 - val_recall_4: 0.0000e+00\n",
      "Epoch 5/32\n",
      "\u001B[1m9/9\u001B[0m \u001B[32m━━━━━━━━━━━━━━━━━━━━\u001B[0m\u001B[37m\u001B[0m \u001B[1m0s\u001B[0m 3ms/step - acc: 0.8690 - loss: 2.1113 - precision_4: 0.0000e+00 - recall_4: 0.0000e+00 - val_acc: 0.8500 - val_loss: 2.4177 - val_precision_4: 0.0000e+00 - val_recall_4: 0.0000e+00\n",
      "Epoch 6/32\n",
      "\u001B[1m9/9\u001B[0m \u001B[32m━━━━━━━━━━━━━━━━━━━━\u001B[0m\u001B[37m\u001B[0m \u001B[1m0s\u001B[0m 3ms/step - acc: 0.8672 - loss: 2.1401 - precision_4: 0.0000e+00 - recall_4: 0.0000e+00 - val_acc: 0.8500 - val_loss: 2.4177 - val_precision_4: 0.0000e+00 - val_recall_4: 0.0000e+00\n",
      "Epoch 7/32\n",
      "\u001B[1m9/9\u001B[0m \u001B[32m━━━━━━━━━━━━━━━━━━━━\u001B[0m\u001B[37m\u001B[0m \u001B[1m0s\u001B[0m 2ms/step - acc: 0.8417 - loss: 2.5520 - precision_4: 0.0000e+00 - recall_4: 0.0000e+00 - val_acc: 0.8500 - val_loss: 2.4177 - val_precision_4: 0.0000e+00 - val_recall_4: 0.0000e+00\n",
      "Epoch 8/32\n",
      "\u001B[1m9/9\u001B[0m \u001B[32m━━━━━━━━━━━━━━━━━━━━\u001B[0m\u001B[37m\u001B[0m \u001B[1m0s\u001B[0m 3ms/step - acc: 0.9225 - loss: 1.2499 - precision_4: 0.0000e+00 - recall_4: 0.0000e+00 - val_acc: 0.8500 - val_loss: 2.4177 - val_precision_4: 0.0000e+00 - val_recall_4: 0.0000e+00\n",
      "Epoch 9/32\n",
      "\u001B[1m9/9\u001B[0m \u001B[32m━━━━━━━━━━━━━━━━━━━━\u001B[0m\u001B[37m\u001B[0m \u001B[1m0s\u001B[0m 3ms/step - acc: 0.8906 - loss: 1.7638 - precision_4: 0.0000e+00 - recall_4: 0.0000e+00 - val_acc: 0.8500 - val_loss: 2.4177 - val_precision_4: 0.0000e+00 - val_recall_4: 0.0000e+00\n",
      "Epoch 10/32\n",
      "\u001B[1m9/9\u001B[0m \u001B[32m━━━━━━━━━━━━━━━━━━━━\u001B[0m\u001B[37m\u001B[0m \u001B[1m0s\u001B[0m 3ms/step - acc: 0.8486 - loss: 2.4398 - precision_4: 0.0000e+00 - recall_4: 0.0000e+00 - val_acc: 0.8500 - val_loss: 2.4177 - val_precision_4: 0.0000e+00 - val_recall_4: 0.0000e+00\n",
      "Epoch 11/32\n",
      "\u001B[1m9/9\u001B[0m \u001B[32m━━━━━━━━━━━━━━━━━━━━\u001B[0m\u001B[37m\u001B[0m \u001B[1m0s\u001B[0m 3ms/step - acc: 0.8560 - loss: 2.3213 - precision_4: 0.0000e+00 - recall_4: 0.0000e+00 - val_acc: 0.8500 - val_loss: 2.4177 - val_precision_4: 0.0000e+00 - val_recall_4: 0.0000e+00\n",
      "Epoch 12/32\n",
      "\u001B[1m9/9\u001B[0m \u001B[32m━━━━━━━━━━━━━━━━━━━━\u001B[0m\u001B[37m\u001B[0m \u001B[1m0s\u001B[0m 4ms/step - acc: 0.8082 - loss: 3.0921 - precision_4: 0.0000e+00 - recall_4: 0.0000e+00 - val_acc: 0.8500 - val_loss: 2.4177 - val_precision_4: 0.0000e+00 - val_recall_4: 0.0000e+00\n",
      "Epoch 13/32\n",
      "\u001B[1m9/9\u001B[0m \u001B[32m━━━━━━━━━━━━━━━━━━━━\u001B[0m\u001B[37m\u001B[0m \u001B[1m0s\u001B[0m 4ms/step - acc: 0.9022 - loss: 1.5756 - precision_4: 0.0000e+00 - recall_4: 0.0000e+00 - val_acc: 0.8500 - val_loss: 2.4177 - val_precision_4: 0.0000e+00 - val_recall_4: 0.0000e+00\n",
      "Epoch 14/32\n",
      "\u001B[1m9/9\u001B[0m \u001B[32m━━━━━━━━━━━━━━━━━━━━\u001B[0m\u001B[37m\u001B[0m \u001B[1m0s\u001B[0m 5ms/step - acc: 0.8210 - loss: 2.8846 - precision_4: 0.0000e+00 - recall_4: 0.0000e+00 - val_acc: 0.8500 - val_loss: 2.4177 - val_precision_4: 0.0000e+00 - val_recall_4: 0.0000e+00\n",
      "Epoch 15/32\n",
      "\u001B[1m9/9\u001B[0m \u001B[32m━━━━━━━━━━━━━━━━━━━━\u001B[0m\u001B[37m\u001B[0m \u001B[1m0s\u001B[0m 4ms/step - acc: 0.8456 - loss: 2.4880 - precision_4: 0.0000e+00 - recall_4: 0.0000e+00 - val_acc: 0.8500 - val_loss: 2.4177 - val_precision_4: 0.0000e+00 - val_recall_4: 0.0000e+00\n",
      "Epoch 16/32\n",
      "\u001B[1m9/9\u001B[0m \u001B[32m━━━━━━━━━━━━━━━━━━━━\u001B[0m\u001B[37m\u001B[0m \u001B[1m0s\u001B[0m 4ms/step - acc: 0.8471 - loss: 2.4639 - precision_4: 0.0000e+00 - recall_4: 0.0000e+00 - val_acc: 0.8500 - val_loss: 2.4177 - val_precision_4: 0.0000e+00 - val_recall_4: 0.0000e+00\n",
      "Epoch 17/32\n",
      "\u001B[1m9/9\u001B[0m \u001B[32m━━━━━━━━━━━━━━━━━━━━\u001B[0m\u001B[37m\u001B[0m \u001B[1m0s\u001B[0m 4ms/step - acc: 0.8107 - loss: 3.0511 - precision_4: 0.0000e+00 - recall_4: 0.0000e+00 - val_acc: 0.8500 - val_loss: 2.4177 - val_precision_4: 0.0000e+00 - val_recall_4: 0.0000e+00\n",
      "Epoch 18/32\n",
      "\u001B[1m9/9\u001B[0m \u001B[32m━━━━━━━━━━━━━━━━━━━━\u001B[0m\u001B[37m\u001B[0m \u001B[1m0s\u001B[0m 3ms/step - acc: 0.8245 - loss: 2.8288 - precision_4: 0.0000e+00 - recall_4: 0.0000e+00 - val_acc: 0.8500 - val_loss: 2.4177 - val_precision_4: 0.0000e+00 - val_recall_4: 0.0000e+00\n",
      "Epoch 19/32\n",
      "\u001B[1m9/9\u001B[0m \u001B[32m━━━━━━━━━━━━━━━━━━━━\u001B[0m\u001B[37m\u001B[0m \u001B[1m0s\u001B[0m 3ms/step - acc: 0.8531 - loss: 2.3673 - precision_4: 0.0000e+00 - recall_4: 0.0000e+00 - val_acc: 0.8500 - val_loss: 2.4177 - val_precision_4: 0.0000e+00 - val_recall_4: 0.0000e+00\n",
      "Epoch 20/32\n",
      "\u001B[1m9/9\u001B[0m \u001B[32m━━━━━━━━━━━━━━━━━━━━\u001B[0m\u001B[37m\u001B[0m \u001B[1m0s\u001B[0m 3ms/step - acc: 0.8558 - loss: 2.3238 - precision_4: 0.0000e+00 - recall_4: 0.0000e+00 - val_acc: 0.8500 - val_loss: 2.4177 - val_precision_4: 0.0000e+00 - val_recall_4: 0.0000e+00\n",
      "Epoch 21/32\n",
      "\u001B[1m9/9\u001B[0m \u001B[32m━━━━━━━━━━━━━━━━━━━━\u001B[0m\u001B[37m\u001B[0m \u001B[1m0s\u001B[0m 4ms/step - acc: 0.8440 - loss: 2.5151 - precision_4: 0.0000e+00 - recall_4: 0.0000e+00 - val_acc: 0.8500 - val_loss: 2.4177 - val_precision_4: 0.0000e+00 - val_recall_4: 0.0000e+00\n",
      "Epoch 22/32\n",
      "\u001B[1m9/9\u001B[0m \u001B[32m━━━━━━━━━━━━━━━━━━━━\u001B[0m\u001B[37m\u001B[0m \u001B[1m0s\u001B[0m 3ms/step - acc: 0.8101 - loss: 3.0605 - precision_4: 0.0000e+00 - recall_4: 0.0000e+00 - val_acc: 0.8500 - val_loss: 2.4177 - val_precision_4: 0.0000e+00 - val_recall_4: 0.0000e+00\n",
      "Epoch 23/32\n",
      "\u001B[1m9/9\u001B[0m \u001B[32m━━━━━━━━━━━━━━━━━━━━\u001B[0m\u001B[37m\u001B[0m \u001B[1m0s\u001B[0m 3ms/step - acc: 0.8449 - loss: 2.5001 - precision_4: 0.0000e+00 - recall_4: 0.0000e+00 - val_acc: 0.8500 - val_loss: 2.4177 - val_precision_4: 0.0000e+00 - val_recall_4: 0.0000e+00\n",
      "Epoch 24/32\n",
      "\u001B[1m9/9\u001B[0m \u001B[32m━━━━━━━━━━━━━━━━━━━━\u001B[0m\u001B[37m\u001B[0m \u001B[1m0s\u001B[0m 4ms/step - acc: 0.8682 - loss: 2.1241 - precision_4: 0.0000e+00 - recall_4: 0.0000e+00 - val_acc: 0.8500 - val_loss: 2.4177 - val_precision_4: 0.0000e+00 - val_recall_4: 0.0000e+00\n",
      "Epoch 25/32\n",
      "\u001B[1m9/9\u001B[0m \u001B[32m━━━━━━━━━━━━━━━━━━━━\u001B[0m\u001B[37m\u001B[0m \u001B[1m0s\u001B[0m 3ms/step - acc: 0.8407 - loss: 2.5679 - precision_4: 0.0000e+00 - recall_4: 0.0000e+00 - val_acc: 0.8500 - val_loss: 2.4177 - val_precision_4: 0.0000e+00 - val_recall_4: 0.0000e+00\n",
      "Epoch 26/32\n",
      "\u001B[1m9/9\u001B[0m \u001B[32m━━━━━━━━━━━━━━━━━━━━\u001B[0m\u001B[37m\u001B[0m \u001B[1m0s\u001B[0m 3ms/step - acc: 0.8106 - loss: 3.0524 - precision_4: 0.0000e+00 - recall_4: 0.0000e+00 - val_acc: 0.8500 - val_loss: 2.4177 - val_precision_4: 0.0000e+00 - val_recall_4: 0.0000e+00\n",
      "Epoch 27/32\n",
      "\u001B[1m9/9\u001B[0m \u001B[32m━━━━━━━━━━━━━━━━━━━━\u001B[0m\u001B[37m\u001B[0m \u001B[1m0s\u001B[0m 3ms/step - acc: 0.8779 - loss: 1.9679 - precision_4: 0.0000e+00 - recall_4: 0.0000e+00 - val_acc: 0.8500 - val_loss: 2.4177 - val_precision_4: 0.0000e+00 - val_recall_4: 0.0000e+00\n",
      "Epoch 28/32\n",
      "\u001B[1m9/9\u001B[0m \u001B[32m━━━━━━━━━━━━━━━━━━━━\u001B[0m\u001B[37m\u001B[0m \u001B[1m0s\u001B[0m 3ms/step - acc: 0.8403 - loss: 2.5743 - precision_4: 0.0000e+00 - recall_4: 0.0000e+00 - val_acc: 0.8500 - val_loss: 2.4177 - val_precision_4: 0.0000e+00 - val_recall_4: 0.0000e+00\n",
      "Epoch 29/32\n",
      "\u001B[1m9/9\u001B[0m \u001B[32m━━━━━━━━━━━━━━━━━━━━\u001B[0m\u001B[37m\u001B[0m \u001B[1m0s\u001B[0m 3ms/step - acc: 0.8370 - loss: 2.6275 - precision_4: 0.0000e+00 - recall_4: 0.0000e+00 - val_acc: 0.8500 - val_loss: 2.4177 - val_precision_4: 0.0000e+00 - val_recall_4: 0.0000e+00\n",
      "Epoch 30/32\n",
      "\u001B[1m9/9\u001B[0m \u001B[32m━━━━━━━━━━━━━━━━━━━━\u001B[0m\u001B[37m\u001B[0m \u001B[1m0s\u001B[0m 3ms/step - acc: 0.8391 - loss: 2.5937 - precision_4: 0.0000e+00 - recall_4: 0.0000e+00 - val_acc: 0.8500 - val_loss: 2.4177 - val_precision_4: 0.0000e+00 - val_recall_4: 0.0000e+00\n",
      "Epoch 31/32\n",
      "\u001B[1m9/9\u001B[0m \u001B[32m━━━━━━━━━━━━━━━━━━━━\u001B[0m\u001B[37m\u001B[0m \u001B[1m0s\u001B[0m 3ms/step - acc: 0.8405 - loss: 2.5700 - precision_4: 0.0000e+00 - recall_4: 0.0000e+00 - val_acc: 0.8500 - val_loss: 2.4177 - val_precision_4: 0.0000e+00 - val_recall_4: 0.0000e+00\n",
      "Epoch 32/32\n",
      "\u001B[1m9/9\u001B[0m \u001B[32m━━━━━━━━━━━━━━━━━━━━\u001B[0m\u001B[37m\u001B[0m \u001B[1m0s\u001B[0m 4ms/step - acc: 0.8393 - loss: 2.5901 - precision_4: 0.0000e+00 - recall_4: 0.0000e+00 - val_acc: 0.8500 - val_loss: 2.4177 - val_precision_4: 0.0000e+00 - val_recall_4: 0.0000e+00\n"
     ]
    }
   ],
   "execution_count": 59
  },
  {
   "metadata": {
    "ExecuteTime": {
     "end_time": "2025-08-25T14:36:54.147402Z",
     "start_time": "2025-08-25T14:36:54.140487Z"
    }
   },
   "cell_type": "code",
   "source": [
    "# Create an edges array (sparse adjacency matrix) of shape [2, num_edges].\n",
    "edges = df[[\"source\", \"target\"]].to_numpy().T\n",
    "edge_weights = tf.ones(shape=edges.shape[1])\n",
    "\n",
    "node_features = tf.cast(\n",
    "    nodeset.sort_values(\"node_number\")[list(feature_names)].to_numpy(), dtype=tf.dtypes.float32\n",
    ")\n",
    "# Create graph with node features, edges, and edge_weights.\n",
    "graph_info = (node_features, edges, edge_weights)\n",
    "\n",
    "print(\"Edges shape:\", edges.shape)\n",
    "print(\"Nodes shape:\", node_features.shape)\n",
    "graph_info"
   ],
   "id": "f869046a4e5395a8",
   "outputs": [
    {
     "name": "stdout",
     "output_type": "stream",
     "text": [
      "Edges shape: (2, 556)\n",
      "Nodes shape: (227, 7)\n"
     ]
    },
    {
     "data": {
      "text/plain": [
       "(<tf.Tensor: shape=(227, 7), dtype=float32, numpy=\n",
       " array([[ 1.,  1.,  0., ..., 18.,  0.,  0.],\n",
       "        [ 0.,  1.,  0., ...,  1.,  0.,  0.],\n",
       "        [ 1.,  1.,  1., ...,  9.,  0.,  0.],\n",
       "        ...,\n",
       "        [ 0.,  0., 31., ...,  2.,  0.,  0.],\n",
       "        [ 0.,  0.,  0., ...,  3.,  0.,  0.],\n",
       "        [ 0.,  1.,  0., ...,  1.,  0.,  0.]], dtype=float32)>,\n",
       " array([[220,  44, 191, ..., 157,  84, 180],\n",
       "        [112,   7,  56, ..., 215, 148,  60]]),\n",
       " <tf.Tensor: shape=(556,), dtype=float32, numpy=\n",
       " array([1., 1., 1., 1., 1., 1., 1., 1., 1., 1., 1., 1., 1., 1., 1., 1., 1.,\n",
       "        1., 1., 1., 1., 1., 1., 1., 1., 1., 1., 1., 1., 1., 1., 1., 1., 1.,\n",
       "        1., 1., 1., 1., 1., 1., 1., 1., 1., 1., 1., 1., 1., 1., 1., 1., 1.,\n",
       "        1., 1., 1., 1., 1., 1., 1., 1., 1., 1., 1., 1., 1., 1., 1., 1., 1.,\n",
       "        1., 1., 1., 1., 1., 1., 1., 1., 1., 1., 1., 1., 1., 1., 1., 1., 1.,\n",
       "        1., 1., 1., 1., 1., 1., 1., 1., 1., 1., 1., 1., 1., 1., 1., 1., 1.,\n",
       "        1., 1., 1., 1., 1., 1., 1., 1., 1., 1., 1., 1., 1., 1., 1., 1., 1.,\n",
       "        1., 1., 1., 1., 1., 1., 1., 1., 1., 1., 1., 1., 1., 1., 1., 1., 1.,\n",
       "        1., 1., 1., 1., 1., 1., 1., 1., 1., 1., 1., 1., 1., 1., 1., 1., 1.,\n",
       "        1., 1., 1., 1., 1., 1., 1., 1., 1., 1., 1., 1., 1., 1., 1., 1., 1.,\n",
       "        1., 1., 1., 1., 1., 1., 1., 1., 1., 1., 1., 1., 1., 1., 1., 1., 1.,\n",
       "        1., 1., 1., 1., 1., 1., 1., 1., 1., 1., 1., 1., 1., 1., 1., 1., 1.,\n",
       "        1., 1., 1., 1., 1., 1., 1., 1., 1., 1., 1., 1., 1., 1., 1., 1., 1.,\n",
       "        1., 1., 1., 1., 1., 1., 1., 1., 1., 1., 1., 1., 1., 1., 1., 1., 1.,\n",
       "        1., 1., 1., 1., 1., 1., 1., 1., 1., 1., 1., 1., 1., 1., 1., 1., 1.,\n",
       "        1., 1., 1., 1., 1., 1., 1., 1., 1., 1., 1., 1., 1., 1., 1., 1., 1.,\n",
       "        1., 1., 1., 1., 1., 1., 1., 1., 1., 1., 1., 1., 1., 1., 1., 1., 1.,\n",
       "        1., 1., 1., 1., 1., 1., 1., 1., 1., 1., 1., 1., 1., 1., 1., 1., 1.,\n",
       "        1., 1., 1., 1., 1., 1., 1., 1., 1., 1., 1., 1., 1., 1., 1., 1., 1.,\n",
       "        1., 1., 1., 1., 1., 1., 1., 1., 1., 1., 1., 1., 1., 1., 1., 1., 1.,\n",
       "        1., 1., 1., 1., 1., 1., 1., 1., 1., 1., 1., 1., 1., 1., 1., 1., 1.,\n",
       "        1., 1., 1., 1., 1., 1., 1., 1., 1., 1., 1., 1., 1., 1., 1., 1., 1.,\n",
       "        1., 1., 1., 1., 1., 1., 1., 1., 1., 1., 1., 1., 1., 1., 1., 1., 1.,\n",
       "        1., 1., 1., 1., 1., 1., 1., 1., 1., 1., 1., 1., 1., 1., 1., 1., 1.,\n",
       "        1., 1., 1., 1., 1., 1., 1., 1., 1., 1., 1., 1., 1., 1., 1., 1., 1.,\n",
       "        1., 1., 1., 1., 1., 1., 1., 1., 1., 1., 1., 1., 1., 1., 1., 1., 1.,\n",
       "        1., 1., 1., 1., 1., 1., 1., 1., 1., 1., 1., 1., 1., 1., 1., 1., 1.,\n",
       "        1., 1., 1., 1., 1., 1., 1., 1., 1., 1., 1., 1., 1., 1., 1., 1., 1.,\n",
       "        1., 1., 1., 1., 1., 1., 1., 1., 1., 1., 1., 1., 1., 1., 1., 1., 1.,\n",
       "        1., 1., 1., 1., 1., 1., 1., 1., 1., 1., 1., 1., 1., 1., 1., 1., 1.,\n",
       "        1., 1., 1., 1., 1., 1., 1., 1., 1., 1., 1., 1., 1., 1., 1., 1., 1.,\n",
       "        1., 1., 1., 1., 1., 1., 1., 1., 1., 1., 1., 1., 1., 1., 1., 1., 1.,\n",
       "        1., 1., 1., 1., 1., 1., 1., 1., 1., 1., 1., 1.], dtype=float32)>)"
      ]
     },
     "execution_count": 60,
     "metadata": {},
     "output_type": "execute_result"
    }
   ],
   "execution_count": 60
  },
  {
   "metadata": {
    "ExecuteTime": {
     "end_time": "2025-08-25T14:36:54.160949Z",
     "start_time": "2025-08-25T14:36:54.156034Z"
    }
   },
   "cell_type": "code",
   "source": [
    "class GraphConvLayer(layers.Layer):\n",
    "    def __init__(\n",
    "        self,\n",
    "        hidden_units,\n",
    "        dropout_rate=0.3,\n",
    "        aggregation_type=\"mean\",\n",
    "        combination_type=\"concat\",\n",
    "        normalize=False,\n",
    "        *args,\n",
    "        **kwargs,\n",
    "    ):\n",
    "        super().__init__(*args, **kwargs)\n",
    "\n",
    "        self.aggregation_type = aggregation_type\n",
    "        self.combination_type = combination_type\n",
    "        self.normalize = normalize\n",
    "\n",
    "        self.ffn_prepare = create_ffn(hidden_units, dropout_rate)\n",
    "        if self.combination_type == \"gated\":\n",
    "            self.update_fn = layers.GRU(\n",
    "                units=hidden_units,\n",
    "                activation=\"tanh\",\n",
    "                recurrent_activation=\"sigmoid\",\n",
    "                dropout=dropout_rate,\n",
    "                return_state=True,\n",
    "                recurrent_dropout=dropout_rate,\n",
    "            )\n",
    "        else:\n",
    "            self.update_fn = create_ffn(hidden_units, dropout_rate)\n",
    "\n",
    "    def prepare(self, node_repesentations, weights=None):\n",
    "        # node_repesentations shape is [num_edges, embedding_dim].\n",
    "        messages = self.ffn_prepare(node_repesentations)\n",
    "        if weights is not None:\n",
    "            messages = messages * tf.expand_dims(weights, -1)\n",
    "        return messages\n",
    "\n",
    "    def aggregate(self, node_indices, neighbour_messages, node_repesentations):\n",
    "\n",
    "        num_nodes = node_repesentations.shape[0]\n",
    "        if self.aggregation_type == \"sum\":\n",
    "            aggregated_message = tf.math.unsorted_segment_sum(\n",
    "                neighbour_messages, node_indices, num_segments=num_nodes\n",
    "            )\n",
    "        elif self.aggregation_type == \"mean\":\n",
    "            aggregated_message = tf.math.unsorted_segment_mean(\n",
    "                neighbour_messages, node_indices, num_segments=num_nodes\n",
    "            )\n",
    "        elif self.aggregation_type == \"max\":\n",
    "            aggregated_message = tf.math.unsorted_segment_max(\n",
    "                neighbour_messages, node_indices, num_segments=num_nodes\n",
    "            )\n",
    "        else:\n",
    "            raise ValueError(f\"Invalid aggregation type: {self.aggregation_type}.\")\n",
    "\n",
    "        return aggregated_message\n",
    "\n",
    "    def update(self, node_repesentations, aggregated_messages):\n",
    "\n",
    "        if self.combination_type == \"gru\":\n",
    "            # Create a sequence of two elements for the GRU layer.\n",
    "            h = tf.stack([node_repesentations, aggregated_messages], axis=1)\n",
    "        elif self.combination_type == \"concat\":\n",
    "            # Concatenate the node_repesentations and aggregated_messages.\n",
    "            h = tf.concat([node_repesentations, aggregated_messages], axis=1)\n",
    "        elif self.combination_type == \"add\":\n",
    "            # Add node_repesentations and aggregated_messages.\n",
    "            h = node_repesentations + aggregated_messages\n",
    "        else:\n",
    "            raise ValueError(f\"Invalid combination type: {self.combination_type}.\")\n",
    "\n",
    "        node_embeddings = self.update_fn(h)\n",
    "        if self.combination_type == \"gru\":\n",
    "            node_embeddings = tf.unstack(node_embeddings, axis=1)[-1]\n",
    "\n",
    "        if self.normalize:\n",
    "            node_embeddings = tf.nn.l2_normalize(node_embeddings, axis=-1)\n",
    "        return node_embeddings\n",
    "\n",
    "    def call(self, inputs):\n",
    "\n",
    "        node_repesentations, edges, edge_weights = inputs\n",
    "\n",
    "        node_indices, neighbour_indices = edges[0], edges[1]\n",
    "        neighbour_repesentations = tf.gather(node_repesentations, neighbour_indices)\n",
    "        neighbour_messages = self.prepare(neighbour_repesentations, edge_weights)\n",
    "\n",
    "        aggregated_messages = self.aggregate(\n",
    "            node_indices, neighbour_messages, node_repesentations\n",
    "        )\n",
    "\n",
    "        return self.update(node_repesentations, aggregated_messages)"
   ],
   "id": "2e89d01aca6be5ea",
   "outputs": [],
   "execution_count": 61
  },
  {
   "metadata": {
    "ExecuteTime": {
     "end_time": "2025-08-25T14:36:54.172574Z",
     "start_time": "2025-08-25T14:36:54.168830Z"
    }
   },
   "cell_type": "code",
   "source": [
    "class GNNNodeClassifier(tf.keras.Model):\n",
    "    def __init__(\n",
    "        self,\n",
    "        graph_info,\n",
    "        num_classes,\n",
    "        hidden_units,\n",
    "        aggregation_type=\"sum\",\n",
    "        combination_type=\"concat\",\n",
    "        dropout_rate=0.3,\n",
    "        normalize=True,\n",
    "        *args,\n",
    "        **kwargs,\n",
    "    ):\n",
    "        super().__init__(*args, **kwargs)\n",
    "\n",
    "        # Unpack graph_info to three elements: node_features, edges, and edge_weight.\n",
    "        node_features, edges, edge_weights = graph_info\n",
    "        self.node_features = node_features\n",
    "        self.edges = edges\n",
    "        self.edge_weights = edge_weights\n",
    "        # Set edge_weights to ones if not provided.\n",
    "        if self.edge_weights is None:\n",
    "            self.edge_weights = tf.ones(shape=edges.shape[1])\n",
    "        # Scale edge_weights to sum to 1.\n",
    "        self.edge_weights = self.edge_weights / tf.math.reduce_sum(self.edge_weights)\n",
    "\n",
    "        # Create a process layer.\n",
    "        self.preprocess = create_ffn(hidden_units, dropout_rate, name=\"preprocess\")\n",
    "        # Create the first GraphConv layer.\n",
    "        self.conv1 = GraphConvLayer(\n",
    "            hidden_units,\n",
    "            dropout_rate,\n",
    "            aggregation_type,\n",
    "            combination_type,\n",
    "            normalize,\n",
    "            name=\"graph_conv1\",\n",
    "        )\n",
    "        # Create the second GraphConv layer.\n",
    "        self.conv2 = GraphConvLayer(\n",
    "            hidden_units,\n",
    "            dropout_rate,\n",
    "            aggregation_type,\n",
    "            combination_type,\n",
    "            normalize,\n",
    "            name=\"graph_conv2\",\n",
    "        )\n",
    "        # Create a postprocess layer.\n",
    "        self.postprocess = create_ffn(hidden_units, dropout_rate, name=\"postprocess\")\n",
    "        # Create a compute logits layer.\n",
    "        self.compute_logits = layers.Dense(units=num_classes,activation=\"softmax\", name=\"logits\")\n",
    "\n",
    "    def call(self, input_node_indices):\n",
    "        # Preprocess the node_features to produce node representations.\n",
    "        x = self.preprocess(self.node_features)\n",
    "        # Apply the first graph conv layer.\n",
    "        x1 = self.conv1((x, self.edges, self.edge_weights))\n",
    "        # Skip connection.\n",
    "        x = x1 + x\n",
    "        # Apply the second graph conv layer.\n",
    "        x2 = self.conv2((x, self.edges, self.edge_weights))\n",
    "        # Skip connection.\n",
    "        x = x2 + x\n",
    "        # Postprocess node embedding.\n",
    "        x = self.postprocess(x)\n",
    "        # Fetch node embeddings for the input node_indices.\n",
    "        node_embeddings = tf.gather(x, input_node_indices)\n",
    "        print(node_embeddings)\n",
    "        # Compute logits\n",
    "        return self.compute_logits(node_embeddings)"
   ],
   "id": "544a43bfcf72a1b",
   "outputs": [],
   "execution_count": 62
  },
  {
   "metadata": {
    "ExecuteTime": {
     "end_time": "2025-08-25T14:36:54.320541Z",
     "start_time": "2025-08-25T14:36:54.177917Z"
    }
   },
   "cell_type": "code",
   "source": [
    "gnn_model = GNNNodeClassifier(\n",
    "    graph_info=graph_info,\n",
    "    num_classes=num_classes,\n",
    "    hidden_units=hidden_units,\n",
    "    dropout_rate=dropout_rate,\n",
    "    name=\"gnn_model\",\n",
    ")\n",
    "\n",
    "print(\"GNN output shape:\", gnn_model(tf.constant([[1, 10, 100]], dtype=tf.int32)))\n",
    "\n",
    "gnn_model.summary()"
   ],
   "id": "b734f057e4941d05",
   "outputs": [
    {
     "name": "stdout",
     "output_type": "stream",
     "text": [
      "Tensor(\"GatherV2:0\", shape=(1, 3, 32), dtype=float32)\n",
      "tf.Tensor(\n",
      "[[[2.40869612e-01 2.36483052e-01 2.74317712e-01 0.00000000e+00\n",
      "   3.42208564e-01 2.71773875e-01 1.10088274e-01 0.00000000e+00\n",
      "   4.92725568e-03 0.00000000e+00 2.20477268e-01 3.14979367e-02\n",
      "   7.34976172e-01 0.00000000e+00 0.00000000e+00 2.33531430e-01\n",
      "   0.00000000e+00 0.00000000e+00 1.78394601e-01 2.20100224e-01\n",
      "   0.00000000e+00 1.98388457e-01 1.38119385e-02 1.81935951e-01\n",
      "   0.00000000e+00 1.81236900e-02 0.00000000e+00 0.00000000e+00\n",
      "   3.46033096e-01 0.00000000e+00 0.00000000e+00 1.04800351e-01]\n",
      "  [2.67213249e+00 0.00000000e+00 5.13039351e+00 1.88325548e+00\n",
      "   4.01517153e-02 3.57394433e+00 3.02160692e+00 0.00000000e+00\n",
      "   1.33438826e+00 0.00000000e+00 2.31742311e+00 0.00000000e+00\n",
      "   9.93183804e+00 1.05250752e+00 0.00000000e+00 7.69066954e+00\n",
      "   6.55350626e-01 1.66266596e+00 0.00000000e+00 0.00000000e+00\n",
      "   0.00000000e+00 8.11348259e-01 0.00000000e+00 1.47569585e+00\n",
      "   0.00000000e+00 6.27542317e-01 0.00000000e+00 0.00000000e+00\n",
      "   3.53060663e-01 0.00000000e+00 0.00000000e+00 1.41767359e+00]\n",
      "  [2.67213249e+00 0.00000000e+00 5.13039351e+00 1.88325548e+00\n",
      "   4.01517153e-02 3.57394433e+00 3.02160692e+00 0.00000000e+00\n",
      "   1.33438826e+00 0.00000000e+00 2.31742311e+00 0.00000000e+00\n",
      "   9.93183804e+00 1.05250752e+00 0.00000000e+00 7.69066954e+00\n",
      "   6.55350626e-01 1.66266596e+00 0.00000000e+00 0.00000000e+00\n",
      "   0.00000000e+00 8.11348259e-01 0.00000000e+00 1.47569585e+00\n",
      "   0.00000000e+00 6.27542317e-01 0.00000000e+00 0.00000000e+00\n",
      "   3.53060663e-01 0.00000000e+00 0.00000000e+00 1.41767359e+00]]], shape=(1, 3, 32), dtype=float32)\n",
      "GNN output shape: tf.Tensor(\n",
      "[[[0.51707315 0.4829268 ]\n",
      "  [0.9594712  0.0405288 ]\n",
      "  [0.9594712  0.0405288 ]]], shape=(1, 3, 2), dtype=float32)\n"
     ]
    },
    {
     "data": {
      "text/plain": [
       "\u001B[1mModel: \"gnn_model\"\u001B[0m\n"
      ],
      "text/html": [
       "<pre style=\"white-space:pre;overflow-x:auto;line-height:normal;font-family:Menlo,'DejaVu Sans Mono',consolas,'Courier New',monospace\"><span style=\"font-weight: bold\">Model: \"gnn_model\"</span>\n",
       "</pre>\n"
      ]
     },
     "metadata": {},
     "output_type": "display_data"
    },
    {
     "data": {
      "text/plain": [
       "┏━━━━━━━━━━━━━━━━━━━━━━━━━━━━━━━━━┳━━━━━━━━━━━━━━━━━━━━━━━━┳━━━━━━━━━━━━━━━┓\n",
       "┃\u001B[1m \u001B[0m\u001B[1mLayer (type)                   \u001B[0m\u001B[1m \u001B[0m┃\u001B[1m \u001B[0m\u001B[1mOutput Shape          \u001B[0m\u001B[1m \u001B[0m┃\u001B[1m \u001B[0m\u001B[1m      Param #\u001B[0m\u001B[1m \u001B[0m┃\n",
       "┡━━━━━━━━━━━━━━━━━━━━━━━━━━━━━━━━━╇━━━━━━━━━━━━━━━━━━━━━━━━╇━━━━━━━━━━━━━━━┩\n",
       "│ preprocess (\u001B[38;5;33mSequential\u001B[0m)         │ (\u001B[38;5;34m227\u001B[0m, \u001B[38;5;34m32\u001B[0m)              │         \u001B[38;5;34m1,468\u001B[0m │\n",
       "├─────────────────────────────────┼────────────────────────┼───────────────┤\n",
       "│ graph_conv1 (\u001B[38;5;33mGraphConvLayer\u001B[0m)    │ ?                      │         \u001B[38;5;34m5,888\u001B[0m │\n",
       "├─────────────────────────────────┼────────────────────────┼───────────────┤\n",
       "│ graph_conv2 (\u001B[38;5;33mGraphConvLayer\u001B[0m)    │ ?                      │         \u001B[38;5;34m5,888\u001B[0m │\n",
       "├─────────────────────────────────┼────────────────────────┼───────────────┤\n",
       "│ postprocess (\u001B[38;5;33mSequential\u001B[0m)        │ (\u001B[38;5;34m227\u001B[0m, \u001B[38;5;34m32\u001B[0m)              │         \u001B[38;5;34m2,368\u001B[0m │\n",
       "├─────────────────────────────────┼────────────────────────┼───────────────┤\n",
       "│ logits (\u001B[38;5;33mDense\u001B[0m)                  │ (\u001B[38;5;34m1\u001B[0m, \u001B[38;5;34m3\u001B[0m, \u001B[38;5;34m2\u001B[0m)              │            \u001B[38;5;34m66\u001B[0m │\n",
       "└─────────────────────────────────┴────────────────────────┴───────────────┘\n"
      ],
      "text/html": [
       "<pre style=\"white-space:pre;overflow-x:auto;line-height:normal;font-family:Menlo,'DejaVu Sans Mono',consolas,'Courier New',monospace\">┏━━━━━━━━━━━━━━━━━━━━━━━━━━━━━━━━━┳━━━━━━━━━━━━━━━━━━━━━━━━┳━━━━━━━━━━━━━━━┓\n",
       "┃<span style=\"font-weight: bold\"> Layer (type)                    </span>┃<span style=\"font-weight: bold\"> Output Shape           </span>┃<span style=\"font-weight: bold\">       Param # </span>┃\n",
       "┡━━━━━━━━━━━━━━━━━━━━━━━━━━━━━━━━━╇━━━━━━━━━━━━━━━━━━━━━━━━╇━━━━━━━━━━━━━━━┩\n",
       "│ preprocess (<span style=\"color: #0087ff; text-decoration-color: #0087ff\">Sequential</span>)         │ (<span style=\"color: #00af00; text-decoration-color: #00af00\">227</span>, <span style=\"color: #00af00; text-decoration-color: #00af00\">32</span>)              │         <span style=\"color: #00af00; text-decoration-color: #00af00\">1,468</span> │\n",
       "├─────────────────────────────────┼────────────────────────┼───────────────┤\n",
       "│ graph_conv1 (<span style=\"color: #0087ff; text-decoration-color: #0087ff\">GraphConvLayer</span>)    │ ?                      │         <span style=\"color: #00af00; text-decoration-color: #00af00\">5,888</span> │\n",
       "├─────────────────────────────────┼────────────────────────┼───────────────┤\n",
       "│ graph_conv2 (<span style=\"color: #0087ff; text-decoration-color: #0087ff\">GraphConvLayer</span>)    │ ?                      │         <span style=\"color: #00af00; text-decoration-color: #00af00\">5,888</span> │\n",
       "├─────────────────────────────────┼────────────────────────┼───────────────┤\n",
       "│ postprocess (<span style=\"color: #0087ff; text-decoration-color: #0087ff\">Sequential</span>)        │ (<span style=\"color: #00af00; text-decoration-color: #00af00\">227</span>, <span style=\"color: #00af00; text-decoration-color: #00af00\">32</span>)              │         <span style=\"color: #00af00; text-decoration-color: #00af00\">2,368</span> │\n",
       "├─────────────────────────────────┼────────────────────────┼───────────────┤\n",
       "│ logits (<span style=\"color: #0087ff; text-decoration-color: #0087ff\">Dense</span>)                  │ (<span style=\"color: #00af00; text-decoration-color: #00af00\">1</span>, <span style=\"color: #00af00; text-decoration-color: #00af00\">3</span>, <span style=\"color: #00af00; text-decoration-color: #00af00\">2</span>)              │            <span style=\"color: #00af00; text-decoration-color: #00af00\">66</span> │\n",
       "└─────────────────────────────────┴────────────────────────┴───────────────┘\n",
       "</pre>\n"
      ]
     },
     "metadata": {},
     "output_type": "display_data"
    },
    {
     "data": {
      "text/plain": [
       "\u001B[1m Total params: \u001B[0m\u001B[38;5;34m15,678\u001B[0m (61.24 KB)\n"
      ],
      "text/html": [
       "<pre style=\"white-space:pre;overflow-x:auto;line-height:normal;font-family:Menlo,'DejaVu Sans Mono',consolas,'Courier New',monospace\"><span style=\"font-weight: bold\"> Total params: </span><span style=\"color: #00af00; text-decoration-color: #00af00\">15,678</span> (61.24 KB)\n",
       "</pre>\n"
      ]
     },
     "metadata": {},
     "output_type": "display_data"
    },
    {
     "data": {
      "text/plain": [
       "\u001B[1m Trainable params: \u001B[0m\u001B[38;5;34m14,832\u001B[0m (57.94 KB)\n"
      ],
      "text/html": [
       "<pre style=\"white-space:pre;overflow-x:auto;line-height:normal;font-family:Menlo,'DejaVu Sans Mono',consolas,'Courier New',monospace\"><span style=\"font-weight: bold\"> Trainable params: </span><span style=\"color: #00af00; text-decoration-color: #00af00\">14,832</span> (57.94 KB)\n",
       "</pre>\n"
      ]
     },
     "metadata": {},
     "output_type": "display_data"
    },
    {
     "data": {
      "text/plain": [
       "\u001B[1m Non-trainable params: \u001B[0m\u001B[38;5;34m846\u001B[0m (3.30 KB)\n"
      ],
      "text/html": [
       "<pre style=\"white-space:pre;overflow-x:auto;line-height:normal;font-family:Menlo,'DejaVu Sans Mono',consolas,'Courier New',monospace\"><span style=\"font-weight: bold\"> Non-trainable params: </span><span style=\"color: #00af00; text-decoration-color: #00af00\">846</span> (3.30 KB)\n",
       "</pre>\n"
      ]
     },
     "metadata": {},
     "output_type": "display_data"
    }
   ],
   "execution_count": 63
  },
  {
   "metadata": {
    "ExecuteTime": {
     "end_time": "2025-08-25T14:36:54.331744Z",
     "start_time": "2025-08-25T14:36:54.329145Z"
    }
   },
   "cell_type": "code",
   "source": [
    "y_train1 = tf.keras.utils.to_categorical(\n",
    "    y_train, num_classes=2)\n",
    "y_test1 = tf.keras.utils.to_categorical(\n",
    "    y_test, num_classes=2)"
   ],
   "id": "de04a3e8478a9318",
   "outputs": [],
   "execution_count": 64
  },
  {
   "metadata": {
    "ExecuteTime": {
     "end_time": "2025-08-25T14:36:57.941586Z",
     "start_time": "2025-08-25T14:36:54.338606Z"
    }
   },
   "cell_type": "code",
   "source": [
    "x_train = train_data.node_number.to_numpy()\n",
    "history = run_experiment(gnn_model, x_train, y_train1)"
   ],
   "id": "3e6eca5e3fc71512",
   "outputs": [
    {
     "name": "stdout",
     "output_type": "stream",
     "text": [
      "Epoch 1/32\n",
      "Tensor(\"gnn_model_1/GatherV2:0\", shape=(None, 32), dtype=float32)\n",
      "Tensor(\"gnn_model_1/GatherV2:0\", shape=(None, 32), dtype=float32)\n",
      "\u001B[1m1/9\u001B[0m \u001B[32m━━\u001B[0m\u001B[37m━━━━━━━━━━━━━━━━━━\u001B[0m \u001B[1m19s\u001B[0m 2s/step - acc: 0.8500 - loss: 0.4606 - precision_5: 0.8500 - recall_5: 0.8500Tensor(\"gnn_model_1/GatherV2:0\", shape=(20, 32), dtype=float32)\n",
      "\u001B[1m9/9\u001B[0m \u001B[32m━━━━━━━━━━━━━━━━━━━━\u001B[0m\u001B[37m\u001B[0m \u001B[1m3s\u001B[0m 27ms/step - acc: 0.8449 - loss: 1.1013 - precision_5: 0.8449 - recall_5: 0.8449 - val_acc: 0.8500 - val_loss: 1.3259 - val_precision_5: 0.8500 - val_recall_5: 0.8500\n",
      "Epoch 2/32\n",
      "\u001B[1m9/9\u001B[0m \u001B[32m━━━━━━━━━━━━━━━━━━━━\u001B[0m\u001B[37m\u001B[0m \u001B[1m0s\u001B[0m 3ms/step - acc: 0.8501 - loss: 1.0585 - precision_5: 0.8501 - recall_5: 0.8501 - val_acc: 0.8500 - val_loss: 0.8185 - val_precision_5: 0.8500 - val_recall_5: 0.8500\n",
      "Epoch 3/32\n",
      "\u001B[1m9/9\u001B[0m \u001B[32m━━━━━━━━━━━━━━━━━━━━\u001B[0m\u001B[37m\u001B[0m \u001B[1m0s\u001B[0m 3ms/step - acc: 0.8385 - loss: 0.5663 - precision_5: 0.8385 - recall_5: 0.8385 - val_acc: 0.8500 - val_loss: 0.4280 - val_precision_5: 0.8500 - val_recall_5: 0.8500\n",
      "Epoch 4/32\n",
      "\u001B[1m9/9\u001B[0m \u001B[32m━━━━━━━━━━━━━━━━━━━━\u001B[0m\u001B[37m\u001B[0m \u001B[1m0s\u001B[0m 3ms/step - acc: 0.8632 - loss: 0.3056 - precision_5: 0.8632 - recall_5: 0.8632 - val_acc: 0.8500 - val_loss: 0.4022 - val_precision_5: 0.8500 - val_recall_5: 0.8500\n",
      "Epoch 5/32\n",
      "\u001B[1m9/9\u001B[0m \u001B[32m━━━━━━━━━━━━━━━━━━━━\u001B[0m\u001B[37m\u001B[0m \u001B[1m0s\u001B[0m 3ms/step - acc: 0.8680 - loss: 0.2963 - precision_5: 0.8680 - recall_5: 0.8680 - val_acc: 0.8500 - val_loss: 0.3896 - val_precision_5: 0.8500 - val_recall_5: 0.8500\n",
      "Epoch 6/32\n",
      "\u001B[1m9/9\u001B[0m \u001B[32m━━━━━━━━━━━━━━━━━━━━\u001B[0m\u001B[37m\u001B[0m \u001B[1m0s\u001B[0m 3ms/step - acc: 0.8298 - loss: 0.2983 - precision_5: 0.8298 - recall_5: 0.8298 - val_acc: 0.8500 - val_loss: 0.3798 - val_precision_5: 0.8500 - val_recall_5: 0.8500\n",
      "Epoch 7/32\n",
      "\u001B[1m9/9\u001B[0m \u001B[32m━━━━━━━━━━━━━━━━━━━━\u001B[0m\u001B[37m\u001B[0m \u001B[1m0s\u001B[0m 3ms/step - acc: 0.8789 - loss: 0.2721 - precision_5: 0.8789 - recall_5: 0.8789 - val_acc: 0.8500 - val_loss: 0.3710 - val_precision_5: 0.8500 - val_recall_5: 0.8500\n",
      "Epoch 8/32\n",
      "\u001B[1m9/9\u001B[0m \u001B[32m━━━━━━━━━━━━━━━━━━━━\u001B[0m\u001B[37m\u001B[0m \u001B[1m0s\u001B[0m 3ms/step - acc: 0.8445 - loss: 0.2821 - precision_5: 0.8445 - recall_5: 0.8445 - val_acc: 0.8500 - val_loss: 0.3631 - val_precision_5: 0.8500 - val_recall_5: 0.8500\n",
      "Epoch 9/32\n",
      "\u001B[1m9/9\u001B[0m \u001B[32m━━━━━━━━━━━━━━━━━━━━\u001B[0m\u001B[37m\u001B[0m \u001B[1m0s\u001B[0m 3ms/step - acc: 0.8149 - loss: 0.3007 - precision_5: 0.8149 - recall_5: 0.8149 - val_acc: 0.8500 - val_loss: 0.3554 - val_precision_5: 0.8500 - val_recall_5: 0.8500\n",
      "Epoch 10/32\n",
      "\u001B[1m9/9\u001B[0m \u001B[32m━━━━━━━━━━━━━━━━━━━━\u001B[0m\u001B[37m\u001B[0m \u001B[1m0s\u001B[0m 3ms/step - acc: 0.8833 - loss: 0.2393 - precision_5: 0.8833 - recall_5: 0.8833 - val_acc: 0.8500 - val_loss: 0.3478 - val_precision_5: 0.8500 - val_recall_5: 0.8500\n",
      "Epoch 11/32\n",
      "\u001B[1m9/9\u001B[0m \u001B[32m━━━━━━━━━━━━━━━━━━━━\u001B[0m\u001B[37m\u001B[0m \u001B[1m0s\u001B[0m 3ms/step - acc: 0.8577 - loss: 0.2356 - precision_5: 0.8577 - recall_5: 0.8577 - val_acc: 0.8500 - val_loss: 0.3405 - val_precision_5: 0.8500 - val_recall_5: 0.8500\n",
      "Epoch 12/32\n",
      "\u001B[1m9/9\u001B[0m \u001B[32m━━━━━━━━━━━━━━━━━━━━\u001B[0m\u001B[37m\u001B[0m \u001B[1m0s\u001B[0m 3ms/step - acc: 0.8579 - loss: 0.2581 - precision_5: 0.8579 - recall_5: 0.8579 - val_acc: 0.8500 - val_loss: 0.3336 - val_precision_5: 0.8500 - val_recall_5: 0.8500\n",
      "Epoch 13/32\n",
      "\u001B[1m9/9\u001B[0m \u001B[32m━━━━━━━━━━━━━━━━━━━━\u001B[0m\u001B[37m\u001B[0m \u001B[1m0s\u001B[0m 3ms/step - acc: 0.9016 - loss: 0.2238 - precision_5: 0.9016 - recall_5: 0.9016 - val_acc: 0.9000 - val_loss: 0.3274 - val_precision_5: 0.9000 - val_recall_5: 0.9000\n",
      "Epoch 14/32\n",
      "\u001B[1m9/9\u001B[0m \u001B[32m━━━━━━━━━━━━━━━━━━━━\u001B[0m\u001B[37m\u001B[0m \u001B[1m0s\u001B[0m 3ms/step - acc: 0.9321 - loss: 0.2248 - precision_5: 0.9321 - recall_5: 0.9321 - val_acc: 0.9000 - val_loss: 0.3217 - val_precision_5: 0.9000 - val_recall_5: 0.9000\n",
      "Epoch 15/32\n",
      "\u001B[1m9/9\u001B[0m \u001B[32m━━━━━━━━━━━━━━━━━━━━\u001B[0m\u001B[37m\u001B[0m \u001B[1m0s\u001B[0m 3ms/step - acc: 0.9474 - loss: 0.2090 - precision_5: 0.9474 - recall_5: 0.9474 - val_acc: 0.9000 - val_loss: 0.3158 - val_precision_5: 0.9000 - val_recall_5: 0.9000\n",
      "Epoch 16/32\n",
      "\u001B[1m9/9\u001B[0m \u001B[32m━━━━━━━━━━━━━━━━━━━━\u001B[0m\u001B[37m\u001B[0m \u001B[1m0s\u001B[0m 3ms/step - acc: 0.9315 - loss: 0.2211 - precision_5: 0.9315 - recall_5: 0.9315 - val_acc: 0.9000 - val_loss: 0.3103 - val_precision_5: 0.9000 - val_recall_5: 0.9000\n",
      "Epoch 17/32\n",
      "\u001B[1m9/9\u001B[0m \u001B[32m━━━━━━━━━━━━━━━━━━━━\u001B[0m\u001B[37m\u001B[0m \u001B[1m0s\u001B[0m 3ms/step - acc: 0.9279 - loss: 0.2175 - precision_5: 0.9279 - recall_5: 0.9279 - val_acc: 0.9000 - val_loss: 0.3049 - val_precision_5: 0.9000 - val_recall_5: 0.9000\n",
      "Epoch 18/32\n",
      "\u001B[1m9/9\u001B[0m \u001B[32m━━━━━━━━━━━━━━━━━━━━\u001B[0m\u001B[37m\u001B[0m \u001B[1m0s\u001B[0m 3ms/step - acc: 0.9459 - loss: 0.2043 - precision_5: 0.9459 - recall_5: 0.9459 - val_acc: 0.9000 - val_loss: 0.2993 - val_precision_5: 0.9000 - val_recall_5: 0.9000\n",
      "Epoch 19/32\n",
      "\u001B[1m9/9\u001B[0m \u001B[32m━━━━━━━━━━━━━━━━━━━━\u001B[0m\u001B[37m\u001B[0m \u001B[1m0s\u001B[0m 3ms/step - acc: 0.9500 - loss: 0.2206 - precision_5: 0.9500 - recall_5: 0.9500 - val_acc: 0.9000 - val_loss: 0.2942 - val_precision_5: 0.9000 - val_recall_5: 0.9000\n",
      "Epoch 20/32\n",
      "\u001B[1m9/9\u001B[0m \u001B[32m━━━━━━━━━━━━━━━━━━━━\u001B[0m\u001B[37m\u001B[0m \u001B[1m0s\u001B[0m 3ms/step - acc: 0.9065 - loss: 0.2217 - precision_5: 0.9065 - recall_5: 0.9065 - val_acc: 0.9000 - val_loss: 0.2890 - val_precision_5: 0.9000 - val_recall_5: 0.9000\n",
      "Epoch 21/32\n",
      "\u001B[1m9/9\u001B[0m \u001B[32m━━━━━━━━━━━━━━━━━━━━\u001B[0m\u001B[37m\u001B[0m \u001B[1m0s\u001B[0m 4ms/step - acc: 0.9259 - loss: 0.2042 - precision_5: 0.9259 - recall_5: 0.9259 - val_acc: 0.9000 - val_loss: 0.2837 - val_precision_5: 0.9000 - val_recall_5: 0.9000\n",
      "Epoch 22/32\n",
      "\u001B[1m9/9\u001B[0m \u001B[32m━━━━━━━━━━━━━━━━━━━━\u001B[0m\u001B[37m\u001B[0m \u001B[1m0s\u001B[0m 4ms/step - acc: 0.9381 - loss: 0.1863 - precision_5: 0.9381 - recall_5: 0.9381 - val_acc: 0.9000 - val_loss: 0.2782 - val_precision_5: 0.9000 - val_recall_5: 0.9000\n",
      "Epoch 23/32\n",
      "\u001B[1m9/9\u001B[0m \u001B[32m━━━━━━━━━━━━━━━━━━━━\u001B[0m\u001B[37m\u001B[0m \u001B[1m0s\u001B[0m 3ms/step - acc: 0.9429 - loss: 0.1864 - precision_5: 0.9429 - recall_5: 0.9429 - val_acc: 0.9000 - val_loss: 0.2734 - val_precision_5: 0.9000 - val_recall_5: 0.9000\n",
      "Epoch 24/32\n",
      "\u001B[1m9/9\u001B[0m \u001B[32m━━━━━━━━━━━━━━━━━━━━\u001B[0m\u001B[37m\u001B[0m \u001B[1m0s\u001B[0m 3ms/step - acc: 0.9278 - loss: 0.2001 - precision_5: 0.9278 - recall_5: 0.9278 - val_acc: 0.9000 - val_loss: 0.2687 - val_precision_5: 0.9000 - val_recall_5: 0.9000\n",
      "Epoch 25/32\n",
      "\u001B[1m9/9\u001B[0m \u001B[32m━━━━━━━━━━━━━━━━━━━━\u001B[0m\u001B[37m\u001B[0m \u001B[1m0s\u001B[0m 3ms/step - acc: 0.9507 - loss: 0.1832 - precision_5: 0.9507 - recall_5: 0.9507 - val_acc: 0.9000 - val_loss: 0.2639 - val_precision_5: 0.9000 - val_recall_5: 0.9000\n",
      "Epoch 26/32\n",
      "\u001B[1m9/9\u001B[0m \u001B[32m━━━━━━━━━━━━━━━━━━━━\u001B[0m\u001B[37m\u001B[0m \u001B[1m0s\u001B[0m 3ms/step - acc: 0.9321 - loss: 0.1847 - precision_5: 0.9321 - recall_5: 0.9321 - val_acc: 0.9000 - val_loss: 0.2592 - val_precision_5: 0.9000 - val_recall_5: 0.9000\n",
      "Epoch 27/32\n",
      "\u001B[1m9/9\u001B[0m \u001B[32m━━━━━━━━━━━━━━━━━━━━\u001B[0m\u001B[37m\u001B[0m \u001B[1m0s\u001B[0m 3ms/step - acc: 0.9548 - loss: 0.1648 - precision_5: 0.9548 - recall_5: 0.9548 - val_acc: 0.9000 - val_loss: 0.2545 - val_precision_5: 0.9000 - val_recall_5: 0.9000\n",
      "Epoch 28/32\n",
      "\u001B[1m9/9\u001B[0m \u001B[32m━━━━━━━━━━━━━━━━━━━━\u001B[0m\u001B[37m\u001B[0m \u001B[1m0s\u001B[0m 3ms/step - acc: 0.9315 - loss: 0.1790 - precision_5: 0.9315 - recall_5: 0.9315 - val_acc: 0.9000 - val_loss: 0.2498 - val_precision_5: 0.9000 - val_recall_5: 0.9000\n",
      "Epoch 29/32\n",
      "\u001B[1m9/9\u001B[0m \u001B[32m━━━━━━━━━━━━━━━━━━━━\u001B[0m\u001B[37m\u001B[0m \u001B[1m0s\u001B[0m 3ms/step - acc: 0.9329 - loss: 0.1690 - precision_5: 0.9329 - recall_5: 0.9329 - val_acc: 0.9000 - val_loss: 0.2455 - val_precision_5: 0.9000 - val_recall_5: 0.9000\n",
      "Epoch 30/32\n",
      "\u001B[1m9/9\u001B[0m \u001B[32m━━━━━━━━━━━━━━━━━━━━\u001B[0m\u001B[37m\u001B[0m \u001B[1m0s\u001B[0m 3ms/step - acc: 0.9354 - loss: 0.1817 - precision_5: 0.9354 - recall_5: 0.9354 - val_acc: 0.9000 - val_loss: 0.2411 - val_precision_5: 0.9000 - val_recall_5: 0.9000\n",
      "Epoch 31/32\n",
      "\u001B[1m9/9\u001B[0m \u001B[32m━━━━━━━━━━━━━━━━━━━━\u001B[0m\u001B[37m\u001B[0m \u001B[1m0s\u001B[0m 3ms/step - acc: 0.9157 - loss: 0.1906 - precision_5: 0.9157 - recall_5: 0.9157 - val_acc: 0.9000 - val_loss: 0.2361 - val_precision_5: 0.9000 - val_recall_5: 0.9000\n",
      "Epoch 32/32\n",
      "\u001B[1m9/9\u001B[0m \u001B[32m━━━━━━━━━━━━━━━━━━━━\u001B[0m\u001B[37m\u001B[0m \u001B[1m0s\u001B[0m 3ms/step - acc: 0.9177 - loss: 0.1781 - precision_5: 0.9177 - recall_5: 0.9177 - val_acc: 0.9000 - val_loss: 0.2312 - val_precision_5: 0.9000 - val_recall_5: 0.9000\n"
     ]
    }
   ],
   "execution_count": 65
  },
  {
   "metadata": {
    "ExecuteTime": {
     "end_time": "2025-08-25T14:36:58.000744Z",
     "start_time": "2025-08-25T14:36:57.969648Z"
    }
   },
   "cell_type": "code",
   "source": "gnn_model.save_weights(\"../out/saved_weights.weights.h5\")",
   "id": "62eafe34af5a59cf",
   "outputs": [],
   "execution_count": 66
  },
  {
   "metadata": {
    "ExecuteTime": {
     "end_time": "2025-08-25T14:36:58.053166Z",
     "start_time": "2025-08-25T14:36:58.004509Z"
    }
   },
   "cell_type": "code",
   "source": [
    "model = GNNNodeClassifier(\n",
    "    graph_info=graph_info,\n",
    "    num_classes=num_classes,\n",
    "    hidden_units=hidden_units,\n",
    "    dropout_rate=dropout_rate,\n",
    "    name=\"gnn_model\",\n",
    ")\n",
    "\n",
    "model.build(input_shape=(None, graph_info[0].shape[1]))\n",
    "\n",
    "model.load_weights('../out/saved_weights.weights.h5')"
   ],
   "id": "5c485f50849866fd",
   "outputs": [
    {
     "name": "stderr",
     "output_type": "stream",
     "text": [
      "/Users/ruixiang/PycharmProjects/SCAR/.venv/lib/python3.9/site-packages/keras/src/layers/layer.py:421: UserWarning: `build()` was called on layer 'gnn_model', however the layer does not have a `build()` method implemented and it looks like it has unbuilt state. This will cause the layer to be marked as built, despite not being actually built, which may cause failures down the line. Make sure to implement a proper `build()` method.\n",
      "  warnings.warn(\n"
     ]
    }
   ],
   "execution_count": 67
  },
  {
   "metadata": {
    "ExecuteTime": {
     "end_time": "2025-08-25T14:36:58.287688Z",
     "start_time": "2025-08-25T14:36:58.066709Z"
    }
   },
   "cell_type": "code",
   "source": [
    "from keras import backend as K\n",
    "model.compile()\n",
    "x_test = test_data.node_number.to_numpy()\n",
    "_, test_accuracy, precision, recall = gnn_model.evaluate(x=x_test, y=y_test1, verbose=0)\n",
    "print(f\"Test accuracy: {round(test_accuracy * 100, 2)}%\")\n",
    "print(f\"Test precision: {(precision* 100)}%\")\n",
    "print(f\"Test recall: {(recall * 100)}%\")"
   ],
   "id": "90a92d7ca8e770b2",
   "outputs": [
    {
     "name": "stdout",
     "output_type": "stream",
     "text": [
      "Tensor(\"gnn_model_1/GatherV2:0\", shape=(None, 32), dtype=float32)\n",
      "Test accuracy: 93.55%\n",
      "Test precision: 93.54838728904724%\n",
      "Test recall: 93.54838728904724%\n"
     ]
    }
   ],
   "execution_count": 68
  },
  {
   "metadata": {
    "ExecuteTime": {
     "end_time": "2025-08-25T14:36:58.414656Z",
     "start_time": "2025-08-25T14:36:58.302673Z"
    }
   },
   "cell_type": "code",
   "source": [
    "from sklearn.metrics import confusion_matrix\n",
    "from sklearn.metrics import classification_report\n",
    "\n",
    "y_pred= gnn_model.predict(x_test)\n",
    "y_pred = np.argmax(y_pred, axis=1)\n",
    "y_testt = np.argmax(y_test1, axis=1)\n",
    "cm = confusion_matrix(y_testt, y_pred)\n",
    "print(cm)\n",
    "print(classification_report(y_testt,y_pred))"
   ],
   "id": "6c25594b470593c4",
   "outputs": [
    {
     "name": "stdout",
     "output_type": "stream",
     "text": [
      "Tensor(\"gnn_model_1/GatherV2:0\", shape=(31, 32), dtype=float32)\n",
      "\u001B[1m1/1\u001B[0m \u001B[32m━━━━━━━━━━━━━━━━━━━━\u001B[0m\u001B[37m\u001B[0m \u001B[1m0s\u001B[0m 93ms/step\n",
      "[[27  0]\n",
      " [ 2  2]]\n",
      "              precision    recall  f1-score   support\n",
      "\n",
      "           0       0.93      1.00      0.96        27\n",
      "           1       1.00      0.50      0.67         4\n",
      "\n",
      "    accuracy                           0.94        31\n",
      "   macro avg       0.97      0.75      0.82        31\n",
      "weighted avg       0.94      0.94      0.93        31\n",
      "\n"
     ]
    }
   ],
   "execution_count": 69
  }
 ],
 "metadata": {
  "kernelspec": {
   "display_name": "Python 3",
   "language": "python",
   "name": "python3"
  },
  "language_info": {
   "codemirror_mode": {
    "name": "ipython",
    "version": 2
   },
   "file_extension": ".py",
   "mimetype": "text/x-python",
   "name": "python",
   "nbconvert_exporter": "python",
   "pygments_lexer": "ipython2",
   "version": "2.7.6"
  }
 },
 "nbformat": 4,
 "nbformat_minor": 5
}
