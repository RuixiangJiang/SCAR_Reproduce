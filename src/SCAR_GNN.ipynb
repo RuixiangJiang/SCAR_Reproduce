{
 "cells": [
  {
   "cell_type": "code",
   "id": "initial_id",
   "metadata": {
    "collapsed": true,
    "ExecuteTime": {
     "end_time": "2025-09-23T17:57:46.632012Z",
     "start_time": "2025-09-23T17:57:46.613147Z"
    }
   },
   "source": "",
   "outputs": [],
   "execution_count": 138
  },
  {
   "metadata": {
    "ExecuteTime": {
     "end_time": "2025-09-23T17:57:46.649461Z",
     "start_time": "2025-09-23T17:57:46.638646Z"
    }
   },
   "cell_type": "code",
   "source": "",
   "id": "bec0bd6db085eb26",
   "outputs": [],
   "execution_count": 139
  },
  {
   "metadata": {
    "ExecuteTime": {
     "end_time": "2025-09-23T17:59:24.977878Z",
     "start_time": "2025-09-23T17:59:24.970619Z"
    }
   },
   "cell_type": "code",
   "source": "",
   "id": "cf0469a66023c4a8",
   "outputs": [
    {
     "name": "stderr",
     "output_type": "stream",
     "text": [
      "/var/folders/fc/rq9v0gn94dq1cpr9d1jydxq40000gn/T/ipykernel_82908/2480988996.py:1: UserWarning: This pattern is interpreted as a regular expression, and has match groups. To actually get the groups, use str.extract.\n",
      "  nodeset[\"label\"] = nodeset[\"node\"].str.contains(r\"(sbox|mixcolumn)\",\n"
     ]
    }
   ],
   "execution_count": 160
  },
  {
   "metadata": {
    "ExecuteTime": {
     "end_time": "2025-09-23T17:57:46.684363Z",
     "start_time": "2025-09-23T17:57:46.676599Z"
    }
   },
   "cell_type": "code",
   "source": "",
   "id": "584a63c56f0b16b",
   "outputs": [
    {
     "name": "stdout",
     "output_type": "stream",
     "text": [
      "label\n",
      "0    195\n",
      "1     32\n",
      "Name: count, dtype: int64\n"
     ]
    }
   ],
   "execution_count": 141
  },
  {
   "metadata": {
    "ExecuteTime": {
     "end_time": "2025-09-23T17:57:46.707115Z",
     "start_time": "2025-09-23T17:57:46.704779Z"
    }
   },
   "cell_type": "code",
   "source": "",
   "id": "aca38d45d1dfa300",
   "outputs": [],
   "execution_count": 142
  },
  {
   "metadata": {
    "ExecuteTime": {
     "end_time": "2025-09-23T17:57:46.734357Z",
     "start_time": "2025-09-23T17:57:46.732429Z"
    }
   },
   "cell_type": "code",
   "source": "",
   "id": "38498a430d4e29ec",
   "outputs": [],
   "execution_count": 143
  },
  {
   "metadata": {
    "ExecuteTime": {
     "end_time": "2025-09-23T17:57:46.742093Z",
     "start_time": "2025-09-23T17:57:46.739449Z"
    }
   },
   "cell_type": "code",
   "source": "",
   "id": "ee389b4d92939c2d",
   "outputs": [],
   "execution_count": 144
  },
  {
   "metadata": {
    "ExecuteTime": {
     "end_time": "2025-09-23T17:57:46.746522Z",
     "start_time": "2025-09-23T17:57:46.744146Z"
    }
   },
   "cell_type": "code",
   "source": "",
   "id": "db00035001c7a259",
   "outputs": [],
   "execution_count": 145
  },
  {
   "metadata": {
    "ExecuteTime": {
     "end_time": "2025-09-23T17:57:46.756116Z",
     "start_time": "2025-09-23T17:57:46.754036Z"
    }
   },
   "cell_type": "code",
   "source": "",
   "id": "537e489acd6562a4",
   "outputs": [],
   "execution_count": 146
  },
  {
   "metadata": {
    "ExecuteTime": {
     "end_time": "2025-09-23T17:57:46.764854Z",
     "start_time": "2025-09-23T17:57:46.759560Z"
    }
   },
   "cell_type": "code",
   "source": [
    "feature_names = set(nodeset.columns) - {\"node_number\", \"Node\", \"node\", label}\n",
    "# feature_names = feature_names - {\"and\", \"or\", \"xor\", \"mux\"}\n",
    "# feature_names = feature_names - {\"Hamming distance\"}\n",
    "# feature_names = feature_names - {\"Paths\"}\n",
    "# feature_names = feature_names - {\"Degree\"}\n",
    "feature_names = feature_names - {\"Noise\"}\n",
    "num_features = len(feature_names)\n",
    "num_classes = len(class_idx)\n",
    "\n",
    "print(train_data[list(feature_names)])\n",
    "# Create train and test features as a numpy array.\n",
    "x_train = train_data[list(feature_names)].to_numpy()\n",
    "x_test = test_data[list(feature_names)].to_numpy()\n",
    "# Create train and test targets as a numpy array.\n",
    "y_train = train_data[label]\n",
    "y_test = test_data[label]"
   ],
   "id": "5bc80a83d9b0d489",
   "outputs": [
    {
     "name": "stdout",
     "output_type": "stream",
     "text": [
      "     Hamming distance  Degree  Paths  and  or  xor  mux\n",
      "0                   0       3      1    0   0    0    0\n",
      "1                   0       2      0    0   0    0    0\n",
      "2                  60       2     24    0   0    0    0\n",
      "3                 120       2     24    0   0    0    0\n",
      "4                   0       5      0    0   0    0    0\n",
      "..                ...     ...    ...  ...  ..  ...  ...\n",
      "191                 0       8      0    0   0    0    0\n",
      "192                 0      24     31    0   0    0    0\n",
      "193                 8       2     51    0   0    0    0\n",
      "194                 0       3     93    0   0    0    0\n",
      "195                 0       3      1    0   0    0    0\n",
      "\n",
      "[196 rows x 7 columns]\n"
     ]
    }
   ],
   "execution_count": 147
  },
  {
   "metadata": {
    "ExecuteTime": {
     "end_time": "2025-09-23T17:57:50.788817Z",
     "start_time": "2025-09-23T17:57:46.771905Z"
    }
   },
   "cell_type": "code",
   "source": "",
   "id": "a540e91d81dc91c",
   "outputs": [
    {
     "data": {
      "text/plain": [
       "\u001B[1mModel: \"baseline\"\u001B[0m\n"
      ],
      "text/html": [
       "<pre style=\"white-space:pre;overflow-x:auto;line-height:normal;font-family:Menlo,'DejaVu Sans Mono',consolas,'Courier New',monospace\"><span style=\"font-weight: bold\">Model: \"baseline\"</span>\n",
       "</pre>\n"
      ]
     },
     "metadata": {},
     "output_type": "display_data"
    },
    {
     "data": {
      "text/plain": [
       "┏━━━━━━━━━━━━━━━━━━━━━┳━━━━━━━━━━━━━━━━━━━┳━━━━━━━━━━━━┳━━━━━━━━━━━━━━━━━━━┓\n",
       "┃\u001B[1m \u001B[0m\u001B[1mLayer (type)       \u001B[0m\u001B[1m \u001B[0m┃\u001B[1m \u001B[0m\u001B[1mOutput Shape     \u001B[0m\u001B[1m \u001B[0m┃\u001B[1m \u001B[0m\u001B[1m   Param #\u001B[0m\u001B[1m \u001B[0m┃\u001B[1m \u001B[0m\u001B[1mConnected to     \u001B[0m\u001B[1m \u001B[0m┃\n",
       "┡━━━━━━━━━━━━━━━━━━━━━╇━━━━━━━━━━━━━━━━━━━╇━━━━━━━━━━━━╇━━━━━━━━━━━━━━━━━━━┩\n",
       "│ input_features      │ (\u001B[38;5;45mNone\u001B[0m, \u001B[38;5;34m7\u001B[0m)         │          \u001B[38;5;34m0\u001B[0m │ -                 │\n",
       "│ (\u001B[38;5;33mInputLayer\u001B[0m)        │                   │            │                   │\n",
       "├─────────────────────┼───────────────────┼────────────┼───────────────────┤\n",
       "│ ffn_block1          │ (\u001B[38;5;45mNone\u001B[0m, \u001B[38;5;34m32\u001B[0m)        │      \u001B[38;5;34m1,468\u001B[0m │ input_features[\u001B[38;5;34m0\u001B[0m… │\n",
       "│ (\u001B[38;5;33mSequential\u001B[0m)        │                   │            │                   │\n",
       "├─────────────────────┼───────────────────┼────────────┼───────────────────┤\n",
       "│ ffn_block2          │ (\u001B[38;5;45mNone\u001B[0m, \u001B[38;5;34m32\u001B[0m)        │      \u001B[38;5;34m2,368\u001B[0m │ ffn_block1[\u001B[38;5;34m0\u001B[0m][\u001B[38;5;34m0\u001B[0m]  │\n",
       "│ (\u001B[38;5;33mSequential\u001B[0m)        │                   │            │                   │\n",
       "├─────────────────────┼───────────────────┼────────────┼───────────────────┤\n",
       "│ skip_connection2    │ (\u001B[38;5;45mNone\u001B[0m, \u001B[38;5;34m32\u001B[0m)        │          \u001B[38;5;34m0\u001B[0m │ ffn_block1[\u001B[38;5;34m0\u001B[0m][\u001B[38;5;34m0\u001B[0m], │\n",
       "│ (\u001B[38;5;33mAdd\u001B[0m)               │                   │            │ ffn_block2[\u001B[38;5;34m0\u001B[0m][\u001B[38;5;34m0\u001B[0m]  │\n",
       "├─────────────────────┼───────────────────┼────────────┼───────────────────┤\n",
       "│ ffn_block3          │ (\u001B[38;5;45mNone\u001B[0m, \u001B[38;5;34m32\u001B[0m)        │      \u001B[38;5;34m2,368\u001B[0m │ skip_connection2… │\n",
       "│ (\u001B[38;5;33mSequential\u001B[0m)        │                   │            │                   │\n",
       "├─────────────────────┼───────────────────┼────────────┼───────────────────┤\n",
       "│ skip_connection3    │ (\u001B[38;5;45mNone\u001B[0m, \u001B[38;5;34m32\u001B[0m)        │          \u001B[38;5;34m0\u001B[0m │ skip_connection2… │\n",
       "│ (\u001B[38;5;33mAdd\u001B[0m)               │                   │            │ ffn_block3[\u001B[38;5;34m0\u001B[0m][\u001B[38;5;34m0\u001B[0m]  │\n",
       "├─────────────────────┼───────────────────┼────────────┼───────────────────┤\n",
       "│ ffn_block4          │ (\u001B[38;5;45mNone\u001B[0m, \u001B[38;5;34m32\u001B[0m)        │      \u001B[38;5;34m2,368\u001B[0m │ skip_connection3… │\n",
       "│ (\u001B[38;5;33mSequential\u001B[0m)        │                   │            │                   │\n",
       "├─────────────────────┼───────────────────┼────────────┼───────────────────┤\n",
       "│ skip_connection4    │ (\u001B[38;5;45mNone\u001B[0m, \u001B[38;5;34m32\u001B[0m)        │          \u001B[38;5;34m0\u001B[0m │ skip_connection3… │\n",
       "│ (\u001B[38;5;33mAdd\u001B[0m)               │                   │            │ ffn_block4[\u001B[38;5;34m0\u001B[0m][\u001B[38;5;34m0\u001B[0m]  │\n",
       "├─────────────────────┼───────────────────┼────────────┼───────────────────┤\n",
       "│ ffn_block5          │ (\u001B[38;5;45mNone\u001B[0m, \u001B[38;5;34m32\u001B[0m)        │      \u001B[38;5;34m2,368\u001B[0m │ skip_connection4… │\n",
       "│ (\u001B[38;5;33mSequential\u001B[0m)        │                   │            │                   │\n",
       "├─────────────────────┼───────────────────┼────────────┼───────────────────┤\n",
       "│ skip_connection5    │ (\u001B[38;5;45mNone\u001B[0m, \u001B[38;5;34m32\u001B[0m)        │          \u001B[38;5;34m0\u001B[0m │ skip_connection4… │\n",
       "│ (\u001B[38;5;33mAdd\u001B[0m)               │                   │            │ ffn_block5[\u001B[38;5;34m0\u001B[0m][\u001B[38;5;34m0\u001B[0m]  │\n",
       "├─────────────────────┼───────────────────┼────────────┼───────────────────┤\n",
       "│ logits (\u001B[38;5;33mDense\u001B[0m)      │ (\u001B[38;5;45mNone\u001B[0m, \u001B[38;5;34m1\u001B[0m)         │         \u001B[38;5;34m33\u001B[0m │ skip_connection5… │\n",
       "└─────────────────────┴───────────────────┴────────────┴───────────────────┘\n"
      ],
      "text/html": [
       "<pre style=\"white-space:pre;overflow-x:auto;line-height:normal;font-family:Menlo,'DejaVu Sans Mono',consolas,'Courier New',monospace\">┏━━━━━━━━━━━━━━━━━━━━━┳━━━━━━━━━━━━━━━━━━━┳━━━━━━━━━━━━┳━━━━━━━━━━━━━━━━━━━┓\n",
       "┃<span style=\"font-weight: bold\"> Layer (type)        </span>┃<span style=\"font-weight: bold\"> Output Shape      </span>┃<span style=\"font-weight: bold\">    Param # </span>┃<span style=\"font-weight: bold\"> Connected to      </span>┃\n",
       "┡━━━━━━━━━━━━━━━━━━━━━╇━━━━━━━━━━━━━━━━━━━╇━━━━━━━━━━━━╇━━━━━━━━━━━━━━━━━━━┩\n",
       "│ input_features      │ (<span style=\"color: #00d7ff; text-decoration-color: #00d7ff\">None</span>, <span style=\"color: #00af00; text-decoration-color: #00af00\">7</span>)         │          <span style=\"color: #00af00; text-decoration-color: #00af00\">0</span> │ -                 │\n",
       "│ (<span style=\"color: #0087ff; text-decoration-color: #0087ff\">InputLayer</span>)        │                   │            │                   │\n",
       "├─────────────────────┼───────────────────┼────────────┼───────────────────┤\n",
       "│ ffn_block1          │ (<span style=\"color: #00d7ff; text-decoration-color: #00d7ff\">None</span>, <span style=\"color: #00af00; text-decoration-color: #00af00\">32</span>)        │      <span style=\"color: #00af00; text-decoration-color: #00af00\">1,468</span> │ input_features[<span style=\"color: #00af00; text-decoration-color: #00af00\">0</span>… │\n",
       "│ (<span style=\"color: #0087ff; text-decoration-color: #0087ff\">Sequential</span>)        │                   │            │                   │\n",
       "├─────────────────────┼───────────────────┼────────────┼───────────────────┤\n",
       "│ ffn_block2          │ (<span style=\"color: #00d7ff; text-decoration-color: #00d7ff\">None</span>, <span style=\"color: #00af00; text-decoration-color: #00af00\">32</span>)        │      <span style=\"color: #00af00; text-decoration-color: #00af00\">2,368</span> │ ffn_block1[<span style=\"color: #00af00; text-decoration-color: #00af00\">0</span>][<span style=\"color: #00af00; text-decoration-color: #00af00\">0</span>]  │\n",
       "│ (<span style=\"color: #0087ff; text-decoration-color: #0087ff\">Sequential</span>)        │                   │            │                   │\n",
       "├─────────────────────┼───────────────────┼────────────┼───────────────────┤\n",
       "│ skip_connection2    │ (<span style=\"color: #00d7ff; text-decoration-color: #00d7ff\">None</span>, <span style=\"color: #00af00; text-decoration-color: #00af00\">32</span>)        │          <span style=\"color: #00af00; text-decoration-color: #00af00\">0</span> │ ffn_block1[<span style=\"color: #00af00; text-decoration-color: #00af00\">0</span>][<span style=\"color: #00af00; text-decoration-color: #00af00\">0</span>], │\n",
       "│ (<span style=\"color: #0087ff; text-decoration-color: #0087ff\">Add</span>)               │                   │            │ ffn_block2[<span style=\"color: #00af00; text-decoration-color: #00af00\">0</span>][<span style=\"color: #00af00; text-decoration-color: #00af00\">0</span>]  │\n",
       "├─────────────────────┼───────────────────┼────────────┼───────────────────┤\n",
       "│ ffn_block3          │ (<span style=\"color: #00d7ff; text-decoration-color: #00d7ff\">None</span>, <span style=\"color: #00af00; text-decoration-color: #00af00\">32</span>)        │      <span style=\"color: #00af00; text-decoration-color: #00af00\">2,368</span> │ skip_connection2… │\n",
       "│ (<span style=\"color: #0087ff; text-decoration-color: #0087ff\">Sequential</span>)        │                   │            │                   │\n",
       "├─────────────────────┼───────────────────┼────────────┼───────────────────┤\n",
       "│ skip_connection3    │ (<span style=\"color: #00d7ff; text-decoration-color: #00d7ff\">None</span>, <span style=\"color: #00af00; text-decoration-color: #00af00\">32</span>)        │          <span style=\"color: #00af00; text-decoration-color: #00af00\">0</span> │ skip_connection2… │\n",
       "│ (<span style=\"color: #0087ff; text-decoration-color: #0087ff\">Add</span>)               │                   │            │ ffn_block3[<span style=\"color: #00af00; text-decoration-color: #00af00\">0</span>][<span style=\"color: #00af00; text-decoration-color: #00af00\">0</span>]  │\n",
       "├─────────────────────┼───────────────────┼────────────┼───────────────────┤\n",
       "│ ffn_block4          │ (<span style=\"color: #00d7ff; text-decoration-color: #00d7ff\">None</span>, <span style=\"color: #00af00; text-decoration-color: #00af00\">32</span>)        │      <span style=\"color: #00af00; text-decoration-color: #00af00\">2,368</span> │ skip_connection3… │\n",
       "│ (<span style=\"color: #0087ff; text-decoration-color: #0087ff\">Sequential</span>)        │                   │            │                   │\n",
       "├─────────────────────┼───────────────────┼────────────┼───────────────────┤\n",
       "│ skip_connection4    │ (<span style=\"color: #00d7ff; text-decoration-color: #00d7ff\">None</span>, <span style=\"color: #00af00; text-decoration-color: #00af00\">32</span>)        │          <span style=\"color: #00af00; text-decoration-color: #00af00\">0</span> │ skip_connection3… │\n",
       "│ (<span style=\"color: #0087ff; text-decoration-color: #0087ff\">Add</span>)               │                   │            │ ffn_block4[<span style=\"color: #00af00; text-decoration-color: #00af00\">0</span>][<span style=\"color: #00af00; text-decoration-color: #00af00\">0</span>]  │\n",
       "├─────────────────────┼───────────────────┼────────────┼───────────────────┤\n",
       "│ ffn_block5          │ (<span style=\"color: #00d7ff; text-decoration-color: #00d7ff\">None</span>, <span style=\"color: #00af00; text-decoration-color: #00af00\">32</span>)        │      <span style=\"color: #00af00; text-decoration-color: #00af00\">2,368</span> │ skip_connection4… │\n",
       "│ (<span style=\"color: #0087ff; text-decoration-color: #0087ff\">Sequential</span>)        │                   │            │                   │\n",
       "├─────────────────────┼───────────────────┼────────────┼───────────────────┤\n",
       "│ skip_connection5    │ (<span style=\"color: #00d7ff; text-decoration-color: #00d7ff\">None</span>, <span style=\"color: #00af00; text-decoration-color: #00af00\">32</span>)        │          <span style=\"color: #00af00; text-decoration-color: #00af00\">0</span> │ skip_connection4… │\n",
       "│ (<span style=\"color: #0087ff; text-decoration-color: #0087ff\">Add</span>)               │                   │            │ ffn_block5[<span style=\"color: #00af00; text-decoration-color: #00af00\">0</span>][<span style=\"color: #00af00; text-decoration-color: #00af00\">0</span>]  │\n",
       "├─────────────────────┼───────────────────┼────────────┼───────────────────┤\n",
       "│ logits (<span style=\"color: #0087ff; text-decoration-color: #0087ff\">Dense</span>)      │ (<span style=\"color: #00d7ff; text-decoration-color: #00d7ff\">None</span>, <span style=\"color: #00af00; text-decoration-color: #00af00\">1</span>)         │         <span style=\"color: #00af00; text-decoration-color: #00af00\">33</span> │ skip_connection5… │\n",
       "└─────────────────────┴───────────────────┴────────────┴───────────────────┘\n",
       "</pre>\n"
      ]
     },
     "metadata": {},
     "output_type": "display_data"
    },
    {
     "data": {
      "text/plain": [
       "\u001B[1m Total params: \u001B[0m\u001B[38;5;34m10,973\u001B[0m (42.86 KB)\n"
      ],
      "text/html": [
       "<pre style=\"white-space:pre;overflow-x:auto;line-height:normal;font-family:Menlo,'DejaVu Sans Mono',consolas,'Courier New',monospace\"><span style=\"font-weight: bold\"> Total params: </span><span style=\"color: #00af00; text-decoration-color: #00af00\">10,973</span> (42.86 KB)\n",
       "</pre>\n"
      ]
     },
     "metadata": {},
     "output_type": "display_data"
    },
    {
     "data": {
      "text/plain": [
       "\u001B[1m Trainable params: \u001B[0m\u001B[38;5;34m10,383\u001B[0m (40.56 KB)\n"
      ],
      "text/html": [
       "<pre style=\"white-space:pre;overflow-x:auto;line-height:normal;font-family:Menlo,'DejaVu Sans Mono',consolas,'Courier New',monospace\"><span style=\"font-weight: bold\"> Trainable params: </span><span style=\"color: #00af00; text-decoration-color: #00af00\">10,383</span> (40.56 KB)\n",
       "</pre>\n"
      ]
     },
     "metadata": {},
     "output_type": "display_data"
    },
    {
     "data": {
      "text/plain": [
       "\u001B[1m Non-trainable params: \u001B[0m\u001B[38;5;34m590\u001B[0m (2.30 KB)\n"
      ],
      "text/html": [
       "<pre style=\"white-space:pre;overflow-x:auto;line-height:normal;font-family:Menlo,'DejaVu Sans Mono',consolas,'Courier New',monospace\"><span style=\"font-weight: bold\"> Non-trainable params: </span><span style=\"color: #00af00; text-decoration-color: #00af00\">590</span> (2.30 KB)\n",
       "</pre>\n"
      ]
     },
     "metadata": {},
     "output_type": "display_data"
    },
    {
     "name": "stdout",
     "output_type": "stream",
     "text": [
      "Epoch 1/32\n",
      "\u001B[1m9/9\u001B[0m \u001B[32m━━━━━━━━━━━━━━━━━━━━\u001B[0m\u001B[37m\u001B[0m \u001B[1m3s\u001B[0m 27ms/step - acc: 0.7192 - loss: 3.6584 - precision_12: 0.0935 - recall_12: 0.0885 - val_acc: 0.9500 - val_loss: 0.8059 - val_precision_12: 0.0000e+00 - val_recall_12: 0.0000e+00\n",
      "Epoch 2/32\n",
      "\u001B[1m9/9\u001B[0m \u001B[32m━━━━━━━━━━━━━━━━━━━━\u001B[0m\u001B[37m\u001B[0m \u001B[1m0s\u001B[0m 5ms/step - acc: 0.6848 - loss: 4.4914 - precision_12: 0.0969 - recall_12: 0.1051 - val_acc: 0.9500 - val_loss: 0.8059 - val_precision_12: 0.0000e+00 - val_recall_12: 0.0000e+00\n",
      "Epoch 3/32\n",
      "\u001B[1m9/9\u001B[0m \u001B[32m━━━━━━━━━━━━━━━━━━━━\u001B[0m\u001B[37m\u001B[0m \u001B[1m0s\u001B[0m 3ms/step - acc: 0.7766 - loss: 3.0414 - precision_12: 0.0927 - recall_12: 0.0814 - val_acc: 0.9500 - val_loss: 0.8059 - val_precision_12: 0.0000e+00 - val_recall_12: 0.0000e+00\n",
      "Epoch 4/32\n",
      "\u001B[1m9/9\u001B[0m \u001B[32m━━━━━━━━━━━━━━━━━━━━\u001B[0m\u001B[37m\u001B[0m \u001B[1m0s\u001B[0m 3ms/step - acc: 0.7474 - loss: 3.4124 - precision_12: 0.1655 - recall_12: 0.1541 - val_acc: 0.9500 - val_loss: 0.8059 - val_precision_12: 0.0000e+00 - val_recall_12: 0.0000e+00\n",
      "Epoch 5/32\n",
      "\u001B[1m9/9\u001B[0m \u001B[32m━━━━━━━━━━━━━━━━━━━━\u001B[0m\u001B[37m\u001B[0m \u001B[1m0s\u001B[0m 3ms/step - acc: 0.6706 - loss: 4.0360 - precision_12: 0.0000e+00 - recall_12: 0.0000e+00 - val_acc: 0.9500 - val_loss: 0.8059 - val_precision_12: 0.0000e+00 - val_recall_12: 0.0000e+00\n",
      "Epoch 6/32\n",
      "\u001B[1m9/9\u001B[0m \u001B[32m━━━━━━━━━━━━━━━━━━━━\u001B[0m\u001B[37m\u001B[0m \u001B[1m0s\u001B[0m 4ms/step - acc: 0.7865 - loss: 3.0990 - precision_12: 0.1805 - recall_12: 0.1453 - val_acc: 0.9500 - val_loss: 0.8059 - val_precision_12: 0.0000e+00 - val_recall_12: 0.0000e+00\n",
      "Epoch 7/32\n",
      "\u001B[1m9/9\u001B[0m \u001B[32m━━━━━━━━━━━━━━━━━━━━\u001B[0m\u001B[37m\u001B[0m \u001B[1m0s\u001B[0m 4ms/step - acc: 0.7273 - loss: 3.7834 - precision_12: 0.0429 - recall_12: 0.0417 - val_acc: 0.9500 - val_loss: 0.8059 - val_precision_12: 0.0000e+00 - val_recall_12: 0.0000e+00\n",
      "Epoch 8/32\n",
      "\u001B[1m9/9\u001B[0m \u001B[32m━━━━━━━━━━━━━━━━━━━━\u001B[0m\u001B[37m\u001B[0m \u001B[1m0s\u001B[0m 3ms/step - acc: 0.7217 - loss: 3.7867 - precision_12: 0.0000e+00 - recall_12: 0.0000e+00 - val_acc: 0.9500 - val_loss: 0.8059 - val_precision_12: 0.0000e+00 - val_recall_12: 0.0000e+00\n",
      "Epoch 9/32\n",
      "\u001B[1m9/9\u001B[0m \u001B[32m━━━━━━━━━━━━━━━━━━━━\u001B[0m\u001B[37m\u001B[0m \u001B[1m0s\u001B[0m 3ms/step - acc: 0.7416 - loss: 3.3915 - precision_12: 0.1364 - recall_12: 0.1303 - val_acc: 0.9500 - val_loss: 0.8059 - val_precision_12: 0.0000e+00 - val_recall_12: 0.0000e+00\n",
      "Epoch 10/32\n",
      "\u001B[1m9/9\u001B[0m \u001B[32m━━━━━━━━━━━━━━━━━━━━\u001B[0m\u001B[37m\u001B[0m \u001B[1m0s\u001B[0m 4ms/step - acc: 0.7721 - loss: 2.9818 - precision_12: 0.0143 - recall_12: 0.0074 - val_acc: 0.9500 - val_loss: 0.8059 - val_precision_12: 0.0000e+00 - val_recall_12: 0.0000e+00\n",
      "Epoch 11/32\n",
      "\u001B[1m9/9\u001B[0m \u001B[32m━━━━━━━━━━━━━━━━━━━━\u001B[0m\u001B[37m\u001B[0m \u001B[1m0s\u001B[0m 3ms/step - acc: 0.7778 - loss: 3.0843 - precision_12: 0.3731 - recall_12: 0.1979 - val_acc: 0.9500 - val_loss: 0.8059 - val_precision_12: 0.0000e+00 - val_recall_12: 0.0000e+00\n",
      "Epoch 12/32\n",
      "\u001B[1m9/9\u001B[0m \u001B[32m━━━━━━━━━━━━━━━━━━━━\u001B[0m\u001B[37m\u001B[0m \u001B[1m0s\u001B[0m 3ms/step - acc: 0.7999 - loss: 2.5365 - precision_12: 0.1711 - recall_12: 0.1251 - val_acc: 0.9500 - val_loss: 0.8059 - val_precision_12: 0.0000e+00 - val_recall_12: 0.0000e+00\n",
      "Epoch 13/32\n",
      "\u001B[1m9/9\u001B[0m \u001B[32m━━━━━━━━━━━━━━━━━━━━\u001B[0m\u001B[37m\u001B[0m \u001B[1m0s\u001B[0m 4ms/step - acc: 0.7807 - loss: 3.2500 - precision_12: 0.1759 - recall_12: 0.1069 - val_acc: 0.9500 - val_loss: 0.8059 - val_precision_12: 0.0000e+00 - val_recall_12: 0.0000e+00\n",
      "Epoch 14/32\n",
      "\u001B[1m9/9\u001B[0m \u001B[32m━━━━━━━━━━━━━━━━━━━━\u001B[0m\u001B[37m\u001B[0m \u001B[1m0s\u001B[0m 3ms/step - acc: 0.7993 - loss: 2.9526 - precision_12: 0.0000e+00 - recall_12: 0.0000e+00 - val_acc: 0.9500 - val_loss: 0.8059 - val_precision_12: 0.0000e+00 - val_recall_12: 0.0000e+00\n",
      "Epoch 15/32\n",
      "\u001B[1m9/9\u001B[0m \u001B[32m━━━━━━━━━━━━━━━━━━━━\u001B[0m\u001B[37m\u001B[0m \u001B[1m0s\u001B[0m 2ms/step - acc: 0.7632 - loss: 3.4415 - precision_12: 0.0000e+00 - recall_12: 0.0000e+00 - val_acc: 0.9500 - val_loss: 0.8059 - val_precision_12: 0.0000e+00 - val_recall_12: 0.0000e+00\n",
      "Epoch 16/32\n",
      "\u001B[1m9/9\u001B[0m \u001B[32m━━━━━━━━━━━━━━━━━━━━\u001B[0m\u001B[37m\u001B[0m \u001B[1m0s\u001B[0m 2ms/step - acc: 0.8192 - loss: 2.4995 - precision_12: 0.2728 - recall_12: 0.1629 - val_acc: 0.9500 - val_loss: 0.8059 - val_precision_12: 0.0000e+00 - val_recall_12: 0.0000e+00\n",
      "Epoch 17/32\n",
      "\u001B[1m9/9\u001B[0m \u001B[32m━━━━━━━━━━━━━━━━━━━━\u001B[0m\u001B[37m\u001B[0m \u001B[1m0s\u001B[0m 4ms/step - acc: 0.7477 - loss: 3.5021 - precision_12: 0.0232 - recall_12: 0.0170 - val_acc: 0.9500 - val_loss: 0.8059 - val_precision_12: 0.0000e+00 - val_recall_12: 0.0000e+00\n",
      "Epoch 18/32\n",
      "\u001B[1m9/9\u001B[0m \u001B[32m━━━━━━━━━━━━━━━━━━━━\u001B[0m\u001B[37m\u001B[0m \u001B[1m0s\u001B[0m 3ms/step - acc: 0.7591 - loss: 3.4560 - precision_12: 0.0000e+00 - recall_12: 0.0000e+00 - val_acc: 0.9500 - val_loss: 0.8059 - val_precision_12: 0.0000e+00 - val_recall_12: 0.0000e+00\n",
      "Epoch 19/32\n",
      "\u001B[1m9/9\u001B[0m \u001B[32m━━━━━━━━━━━━━━━━━━━━\u001B[0m\u001B[37m\u001B[0m \u001B[1m0s\u001B[0m 3ms/step - acc: 0.8277 - loss: 2.5300 - precision_12: 0.0286 - recall_12: 0.0074 - val_acc: 0.9500 - val_loss: 0.8059 - val_precision_12: 0.0000e+00 - val_recall_12: 0.0000e+00\n",
      "Epoch 20/32\n",
      "\u001B[1m9/9\u001B[0m \u001B[32m━━━━━━━━━━━━━━━━━━━━\u001B[0m\u001B[37m\u001B[0m \u001B[1m0s\u001B[0m 3ms/step - acc: 0.8096 - loss: 2.6375 - precision_12: 0.1297 - recall_12: 0.0686 - val_acc: 0.9500 - val_loss: 0.8059 - val_precision_12: 0.0000e+00 - val_recall_12: 0.0000e+00\n",
      "Epoch 21/32\n",
      "\u001B[1m9/9\u001B[0m \u001B[32m━━━━━━━━━━━━━━━━━━━━\u001B[0m\u001B[37m\u001B[0m \u001B[1m0s\u001B[0m 4ms/step - acc: 0.7924 - loss: 2.8570 - precision_12: 0.2255 - recall_12: 0.0884 - val_acc: 0.9500 - val_loss: 0.8059 - val_precision_12: 0.0000e+00 - val_recall_12: 0.0000e+00\n",
      "Epoch 22/32\n",
      "\u001B[1m9/9\u001B[0m \u001B[32m━━━━━━━━━━━━━━━━━━━━\u001B[0m\u001B[37m\u001B[0m \u001B[1m0s\u001B[0m 3ms/step - acc: 0.7946 - loss: 3.0957 - precision_12: 0.0424 - recall_12: 0.0190 - val_acc: 0.9500 - val_loss: 0.8059 - val_precision_12: 0.0000e+00 - val_recall_12: 0.0000e+00\n",
      "Epoch 23/32\n",
      "\u001B[1m9/9\u001B[0m \u001B[32m━━━━━━━━━━━━━━━━━━━━\u001B[0m\u001B[37m\u001B[0m \u001B[1m0s\u001B[0m 3ms/step - acc: 0.8276 - loss: 2.1336 - precision_12: 0.3513 - recall_12: 0.2613 - val_acc: 0.9500 - val_loss: 0.8059 - val_precision_12: 0.0000e+00 - val_recall_12: 0.0000e+00\n",
      "Epoch 24/32\n",
      "\u001B[1m9/9\u001B[0m \u001B[32m━━━━━━━━━━━━━━━━━━━━\u001B[0m\u001B[37m\u001B[0m \u001B[1m0s\u001B[0m 3ms/step - acc: 0.7982 - loss: 2.5858 - precision_12: 0.1138 - recall_12: 0.0730 - val_acc: 0.9500 - val_loss: 0.8059 - val_precision_12: 0.0000e+00 - val_recall_12: 0.0000e+00\n",
      "Epoch 25/32\n",
      "\u001B[1m9/9\u001B[0m \u001B[32m━━━━━━━━━━━━━━━━━━━━\u001B[0m\u001B[37m\u001B[0m \u001B[1m0s\u001B[0m 4ms/step - acc: 0.7801 - loss: 3.1671 - precision_12: 0.0519 - recall_12: 0.0228 - val_acc: 0.9500 - val_loss: 0.8059 - val_precision_12: 0.0000e+00 - val_recall_12: 0.0000e+00\n",
      "Epoch 26/32\n",
      "\u001B[1m9/9\u001B[0m \u001B[32m━━━━━━━━━━━━━━━━━━━━\u001B[0m\u001B[37m\u001B[0m \u001B[1m0s\u001B[0m 3ms/step - acc: 0.7893 - loss: 2.9893 - precision_12: 0.0000e+00 - recall_12: 0.0000e+00 - val_acc: 0.9500 - val_loss: 0.8059 - val_precision_12: 0.0000e+00 - val_recall_12: 0.0000e+00\n",
      "Epoch 27/32\n",
      "\u001B[1m9/9\u001B[0m \u001B[32m━━━━━━━━━━━━━━━━━━━━\u001B[0m\u001B[37m\u001B[0m \u001B[1m0s\u001B[0m 3ms/step - acc: 0.7592 - loss: 3.4248 - precision_12: 0.0000e+00 - recall_12: 0.0000e+00 - val_acc: 0.9500 - val_loss: 0.8059 - val_precision_12: 0.0000e+00 - val_recall_12: 0.0000e+00\n",
      "Epoch 28/32\n",
      "\u001B[1m9/9\u001B[0m \u001B[32m━━━━━━━━━━━━━━━━━━━━\u001B[0m\u001B[37m\u001B[0m \u001B[1m0s\u001B[0m 4ms/step - acc: 0.7698 - loss: 3.6307 - precision_12: 0.0000e+00 - recall_12: 0.0000e+00 - val_acc: 0.9500 - val_loss: 0.8059 - val_precision_12: 0.0000e+00 - val_recall_12: 0.0000e+00\n",
      "Epoch 29/32\n",
      "\u001B[1m9/9\u001B[0m \u001B[32m━━━━━━━━━━━━━━━━━━━━\u001B[0m\u001B[37m\u001B[0m \u001B[1m0s\u001B[0m 3ms/step - acc: 0.8502 - loss: 2.2603 - precision_12: 0.3408 - recall_12: 0.2124 - val_acc: 0.9500 - val_loss: 0.8059 - val_precision_12: 0.0000e+00 - val_recall_12: 0.0000e+00\n",
      "Epoch 30/32\n",
      "\u001B[1m9/9\u001B[0m \u001B[32m━━━━━━━━━━━━━━━━━━━━\u001B[0m\u001B[37m\u001B[0m \u001B[1m0s\u001B[0m 3ms/step - acc: 0.7867 - loss: 3.1802 - precision_12: 0.1277 - recall_12: 0.0690 - val_acc: 0.9500 - val_loss: 0.8059 - val_precision_12: 0.0000e+00 - val_recall_12: 0.0000e+00\n",
      "Epoch 31/32\n",
      "\u001B[1m9/9\u001B[0m \u001B[32m━━━━━━━━━━━━━━━━━━━━\u001B[0m\u001B[37m\u001B[0m \u001B[1m0s\u001B[0m 3ms/step - acc: 0.7864 - loss: 2.8880 - precision_12: 0.1271 - recall_12: 0.0624 - val_acc: 0.9500 - val_loss: 0.8059 - val_precision_12: 0.0000e+00 - val_recall_12: 0.0000e+00\n",
      "Epoch 32/32\n",
      "\u001B[1m9/9\u001B[0m \u001B[32m━━━━━━━━━━━━━━━━━━━━\u001B[0m\u001B[37m\u001B[0m \u001B[1m0s\u001B[0m 4ms/step - acc: 0.8259 - loss: 2.4770 - precision_12: 0.0000e+00 - recall_12: 0.0000e+00 - val_acc: 0.9500 - val_loss: 0.8059 - val_precision_12: 0.0000e+00 - val_recall_12: 0.0000e+00\n"
     ]
    }
   ],
   "execution_count": 148
  },
  {
   "metadata": {
    "ExecuteTime": {
     "end_time": "2025-09-23T17:57:50.816234Z",
     "start_time": "2025-09-23T17:57:50.809569Z"
    }
   },
   "cell_type": "code",
   "source": "",
   "id": "f869046a4e5395a8",
   "outputs": [
    {
     "name": "stdout",
     "output_type": "stream",
     "text": [
      "Edges shape: (2, 556)\n",
      "Nodes shape: (227, 7)\n"
     ]
    },
    {
     "data": {
      "text/plain": [
       "(<tf.Tensor: shape=(227, 7), dtype=float32, numpy=\n",
       " array([[  0.,   3.,   1., ...,   0.,   0.,   0.],\n",
       "        [  0.,   2.,   0., ...,   0.,   0.,   0.],\n",
       "        [ 60.,   2.,  24., ...,   0.,   0.,   0.],\n",
       "        ...,\n",
       "        [456.,   2.,   0., ...,   0.,   0.,   1.],\n",
       "        [755.,   9.,   1., ...,   0.,   1.,   1.],\n",
       "        [382.,   6.,   0., ...,   0.,   1.,   1.]], dtype=float32)>,\n",
       " array([[ 89, 158, 192, ..., 162, 160,  69],\n",
       "        [132,  11,  14, ..., 126, 113, 191]]),\n",
       " <tf.Tensor: shape=(556,), dtype=float32, numpy=\n",
       " array([1., 1., 1., 1., 1., 1., 1., 1., 1., 1., 1., 1., 1., 1., 1., 1., 1.,\n",
       "        1., 1., 1., 1., 1., 1., 1., 1., 1., 1., 1., 1., 1., 1., 1., 1., 1.,\n",
       "        1., 1., 1., 1., 1., 1., 1., 1., 1., 1., 1., 1., 1., 1., 1., 1., 1.,\n",
       "        1., 1., 1., 1., 1., 1., 1., 1., 1., 1., 1., 1., 1., 1., 1., 1., 1.,\n",
       "        1., 1., 1., 1., 1., 1., 1., 1., 1., 1., 1., 1., 1., 1., 1., 1., 1.,\n",
       "        1., 1., 1., 1., 1., 1., 1., 1., 1., 1., 1., 1., 1., 1., 1., 1., 1.,\n",
       "        1., 1., 1., 1., 1., 1., 1., 1., 1., 1., 1., 1., 1., 1., 1., 1., 1.,\n",
       "        1., 1., 1., 1., 1., 1., 1., 1., 1., 1., 1., 1., 1., 1., 1., 1., 1.,\n",
       "        1., 1., 1., 1., 1., 1., 1., 1., 1., 1., 1., 1., 1., 1., 1., 1., 1.,\n",
       "        1., 1., 1., 1., 1., 1., 1., 1., 1., 1., 1., 1., 1., 1., 1., 1., 1.,\n",
       "        1., 1., 1., 1., 1., 1., 1., 1., 1., 1., 1., 1., 1., 1., 1., 1., 1.,\n",
       "        1., 1., 1., 1., 1., 1., 1., 1., 1., 1., 1., 1., 1., 1., 1., 1., 1.,\n",
       "        1., 1., 1., 1., 1., 1., 1., 1., 1., 1., 1., 1., 1., 1., 1., 1., 1.,\n",
       "        1., 1., 1., 1., 1., 1., 1., 1., 1., 1., 1., 1., 1., 1., 1., 1., 1.,\n",
       "        1., 1., 1., 1., 1., 1., 1., 1., 1., 1., 1., 1., 1., 1., 1., 1., 1.,\n",
       "        1., 1., 1., 1., 1., 1., 1., 1., 1., 1., 1., 1., 1., 1., 1., 1., 1.,\n",
       "        1., 1., 1., 1., 1., 1., 1., 1., 1., 1., 1., 1., 1., 1., 1., 1., 1.,\n",
       "        1., 1., 1., 1., 1., 1., 1., 1., 1., 1., 1., 1., 1., 1., 1., 1., 1.,\n",
       "        1., 1., 1., 1., 1., 1., 1., 1., 1., 1., 1., 1., 1., 1., 1., 1., 1.,\n",
       "        1., 1., 1., 1., 1., 1., 1., 1., 1., 1., 1., 1., 1., 1., 1., 1., 1.,\n",
       "        1., 1., 1., 1., 1., 1., 1., 1., 1., 1., 1., 1., 1., 1., 1., 1., 1.,\n",
       "        1., 1., 1., 1., 1., 1., 1., 1., 1., 1., 1., 1., 1., 1., 1., 1., 1.,\n",
       "        1., 1., 1., 1., 1., 1., 1., 1., 1., 1., 1., 1., 1., 1., 1., 1., 1.,\n",
       "        1., 1., 1., 1., 1., 1., 1., 1., 1., 1., 1., 1., 1., 1., 1., 1., 1.,\n",
       "        1., 1., 1., 1., 1., 1., 1., 1., 1., 1., 1., 1., 1., 1., 1., 1., 1.,\n",
       "        1., 1., 1., 1., 1., 1., 1., 1., 1., 1., 1., 1., 1., 1., 1., 1., 1.,\n",
       "        1., 1., 1., 1., 1., 1., 1., 1., 1., 1., 1., 1., 1., 1., 1., 1., 1.,\n",
       "        1., 1., 1., 1., 1., 1., 1., 1., 1., 1., 1., 1., 1., 1., 1., 1., 1.,\n",
       "        1., 1., 1., 1., 1., 1., 1., 1., 1., 1., 1., 1., 1., 1., 1., 1., 1.,\n",
       "        1., 1., 1., 1., 1., 1., 1., 1., 1., 1., 1., 1., 1., 1., 1., 1., 1.,\n",
       "        1., 1., 1., 1., 1., 1., 1., 1., 1., 1., 1., 1., 1., 1., 1., 1., 1.,\n",
       "        1., 1., 1., 1., 1., 1., 1., 1., 1., 1., 1., 1., 1., 1., 1., 1., 1.,\n",
       "        1., 1., 1., 1., 1., 1., 1., 1., 1., 1., 1., 1.], dtype=float32)>)"
      ]
     },
     "execution_count": 149,
     "metadata": {},
     "output_type": "execute_result"
    }
   ],
   "execution_count": 149
  },
  {
   "metadata": {
    "ExecuteTime": {
     "end_time": "2025-09-23T17:57:50.843709Z",
     "start_time": "2025-09-23T17:57:50.837801Z"
    }
   },
   "cell_type": "code",
   "source": "",
   "id": "2e89d01aca6be5ea",
   "outputs": [],
   "execution_count": 150
  },
  {
   "metadata": {
    "ExecuteTime": {
     "end_time": "2025-09-23T17:57:50.863301Z",
     "start_time": "2025-09-23T17:57:50.859637Z"
    }
   },
   "cell_type": "code",
   "source": "",
   "id": "544a43bfcf72a1b",
   "outputs": [],
   "execution_count": 151
  },
  {
   "metadata": {
    "ExecuteTime": {
     "end_time": "2025-09-23T17:57:50.958106Z",
     "start_time": "2025-09-23T17:57:50.867086Z"
    }
   },
   "cell_type": "code",
   "source": [
    "\n",
    "\n",
    "print(\"GNN output shape:\", gnn_model(tf.constant([[1, 10, 100]], dtype=tf.int32)))\n",
    "\n",
    "gnn_model.summary()"
   ],
   "id": "b734f057e4941d05",
   "outputs": [
    {
     "name": "stdout",
     "output_type": "stream",
     "text": [
      "tf.Tensor(\n",
      "[[[ 0.          0.26289007  0.          0.          0.14481972\n",
      "    0.          0.12111223  0.33373335  0.          0.\n",
      "    0.03670914  0.          0.02732704  0.          0.\n",
      "    0.          0.08023927  0.19005166  0.          0.\n",
      "    0.          0.43258488  0.          0.07434815  0.25140527\n",
      "    0.2890036   0.37252447  0.18037213  0.10688798  0.28320923\n",
      "    0.          0.03093883]\n",
      "  [ 0.08801861  0.3787389   0.          0.          0.05389495\n",
      "    0.          0.2517246   0.531079    0.          0.\n",
      "    0.1027099   0.          0.          0.          0.\n",
      "    0.          0.07570715  0.14243221  0.          0.\n",
      "    0.          0.59629625  0.          0.21232678  0.43357742\n",
      "    0.49898833  0.5355927   0.20774882  0.04955582  0.34113953\n",
      "    0.          0.        ]\n",
      "  [ 0.         14.548032    0.          0.52295953  0.\n",
      "    5.081062    0.          1.8988961   0.          0.\n",
      "    0.          5.4260917  16.994213    1.1258637   0.25360134\n",
      "    1.5599507  11.198236    0.          5.7361765   7.3947945\n",
      "    0.66215545  4.9766245   0.          0.5493832  15.610228\n",
      "    0.         14.12401     3.4374487   0.          0.\n",
      "    4.9555674   0.        ]]], shape=(1, 3, 32), dtype=float32)\n",
      "GNN output shape: tf.Tensor(\n",
      "[[[0.4502476  0.5497524 ]\n",
      "  [0.38754484 0.6124552 ]\n",
      "  [0.8102778  0.18972215]]], shape=(1, 3, 2), dtype=float32)\n"
     ]
    },
    {
     "data": {
      "text/plain": [
       "\u001B[1mModel: \"gnn_model\"\u001B[0m\n"
      ],
      "text/html": [
       "<pre style=\"white-space:pre;overflow-x:auto;line-height:normal;font-family:Menlo,'DejaVu Sans Mono',consolas,'Courier New',monospace\"><span style=\"font-weight: bold\">Model: \"gnn_model\"</span>\n",
       "</pre>\n"
      ]
     },
     "metadata": {},
     "output_type": "display_data"
    },
    {
     "data": {
      "text/plain": [
       "┏━━━━━━━━━━━━━━━━━━━━━━━━━━━━━━━━━┳━━━━━━━━━━━━━━━━━━━━━━━━┳━━━━━━━━━━━━━━━┓\n",
       "┃\u001B[1m \u001B[0m\u001B[1mLayer (type)                   \u001B[0m\u001B[1m \u001B[0m┃\u001B[1m \u001B[0m\u001B[1mOutput Shape          \u001B[0m\u001B[1m \u001B[0m┃\u001B[1m \u001B[0m\u001B[1m      Param #\u001B[0m\u001B[1m \u001B[0m┃\n",
       "┡━━━━━━━━━━━━━━━━━━━━━━━━━━━━━━━━━╇━━━━━━━━━━━━━━━━━━━━━━━━╇━━━━━━━━━━━━━━━┩\n",
       "│ preprocess (\u001B[38;5;33mSequential\u001B[0m)         │ (\u001B[38;5;34m227\u001B[0m, \u001B[38;5;34m32\u001B[0m)              │         \u001B[38;5;34m1,468\u001B[0m │\n",
       "├─────────────────────────────────┼────────────────────────┼───────────────┤\n",
       "│ graph_conv1 (\u001B[38;5;33mGraphConvLayer\u001B[0m)    │ ?                      │         \u001B[38;5;34m5,888\u001B[0m │\n",
       "├─────────────────────────────────┼────────────────────────┼───────────────┤\n",
       "│ graph_conv2 (\u001B[38;5;33mGraphConvLayer\u001B[0m)    │ ?                      │         \u001B[38;5;34m5,888\u001B[0m │\n",
       "├─────────────────────────────────┼────────────────────────┼───────────────┤\n",
       "│ postprocess (\u001B[38;5;33mSequential\u001B[0m)        │ (\u001B[38;5;34m227\u001B[0m, \u001B[38;5;34m32\u001B[0m)              │         \u001B[38;5;34m2,368\u001B[0m │\n",
       "├─────────────────────────────────┼────────────────────────┼───────────────┤\n",
       "│ logits (\u001B[38;5;33mDense\u001B[0m)                  │ (\u001B[38;5;34m1\u001B[0m, \u001B[38;5;34m3\u001B[0m, \u001B[38;5;34m2\u001B[0m)              │            \u001B[38;5;34m66\u001B[0m │\n",
       "└─────────────────────────────────┴────────────────────────┴───────────────┘\n"
      ],
      "text/html": [
       "<pre style=\"white-space:pre;overflow-x:auto;line-height:normal;font-family:Menlo,'DejaVu Sans Mono',consolas,'Courier New',monospace\">┏━━━━━━━━━━━━━━━━━━━━━━━━━━━━━━━━━┳━━━━━━━━━━━━━━━━━━━━━━━━┳━━━━━━━━━━━━━━━┓\n",
       "┃<span style=\"font-weight: bold\"> Layer (type)                    </span>┃<span style=\"font-weight: bold\"> Output Shape           </span>┃<span style=\"font-weight: bold\">       Param # </span>┃\n",
       "┡━━━━━━━━━━━━━━━━━━━━━━━━━━━━━━━━━╇━━━━━━━━━━━━━━━━━━━━━━━━╇━━━━━━━━━━━━━━━┩\n",
       "│ preprocess (<span style=\"color: #0087ff; text-decoration-color: #0087ff\">Sequential</span>)         │ (<span style=\"color: #00af00; text-decoration-color: #00af00\">227</span>, <span style=\"color: #00af00; text-decoration-color: #00af00\">32</span>)              │         <span style=\"color: #00af00; text-decoration-color: #00af00\">1,468</span> │\n",
       "├─────────────────────────────────┼────────────────────────┼───────────────┤\n",
       "│ graph_conv1 (<span style=\"color: #0087ff; text-decoration-color: #0087ff\">GraphConvLayer</span>)    │ ?                      │         <span style=\"color: #00af00; text-decoration-color: #00af00\">5,888</span> │\n",
       "├─────────────────────────────────┼────────────────────────┼───────────────┤\n",
       "│ graph_conv2 (<span style=\"color: #0087ff; text-decoration-color: #0087ff\">GraphConvLayer</span>)    │ ?                      │         <span style=\"color: #00af00; text-decoration-color: #00af00\">5,888</span> │\n",
       "├─────────────────────────────────┼────────────────────────┼───────────────┤\n",
       "│ postprocess (<span style=\"color: #0087ff; text-decoration-color: #0087ff\">Sequential</span>)        │ (<span style=\"color: #00af00; text-decoration-color: #00af00\">227</span>, <span style=\"color: #00af00; text-decoration-color: #00af00\">32</span>)              │         <span style=\"color: #00af00; text-decoration-color: #00af00\">2,368</span> │\n",
       "├─────────────────────────────────┼────────────────────────┼───────────────┤\n",
       "│ logits (<span style=\"color: #0087ff; text-decoration-color: #0087ff\">Dense</span>)                  │ (<span style=\"color: #00af00; text-decoration-color: #00af00\">1</span>, <span style=\"color: #00af00; text-decoration-color: #00af00\">3</span>, <span style=\"color: #00af00; text-decoration-color: #00af00\">2</span>)              │            <span style=\"color: #00af00; text-decoration-color: #00af00\">66</span> │\n",
       "└─────────────────────────────────┴────────────────────────┴───────────────┘\n",
       "</pre>\n"
      ]
     },
     "metadata": {},
     "output_type": "display_data"
    },
    {
     "data": {
      "text/plain": [
       "\u001B[1m Total params: \u001B[0m\u001B[38;5;34m15,678\u001B[0m (61.24 KB)\n"
      ],
      "text/html": [
       "<pre style=\"white-space:pre;overflow-x:auto;line-height:normal;font-family:Menlo,'DejaVu Sans Mono',consolas,'Courier New',monospace\"><span style=\"font-weight: bold\"> Total params: </span><span style=\"color: #00af00; text-decoration-color: #00af00\">15,678</span> (61.24 KB)\n",
       "</pre>\n"
      ]
     },
     "metadata": {},
     "output_type": "display_data"
    },
    {
     "data": {
      "text/plain": [
       "\u001B[1m Trainable params: \u001B[0m\u001B[38;5;34m14,832\u001B[0m (57.94 KB)\n"
      ],
      "text/html": [
       "<pre style=\"white-space:pre;overflow-x:auto;line-height:normal;font-family:Menlo,'DejaVu Sans Mono',consolas,'Courier New',monospace\"><span style=\"font-weight: bold\"> Trainable params: </span><span style=\"color: #00af00; text-decoration-color: #00af00\">14,832</span> (57.94 KB)\n",
       "</pre>\n"
      ]
     },
     "metadata": {},
     "output_type": "display_data"
    },
    {
     "data": {
      "text/plain": [
       "\u001B[1m Non-trainable params: \u001B[0m\u001B[38;5;34m846\u001B[0m (3.30 KB)\n"
      ],
      "text/html": [
       "<pre style=\"white-space:pre;overflow-x:auto;line-height:normal;font-family:Menlo,'DejaVu Sans Mono',consolas,'Courier New',monospace\"><span style=\"font-weight: bold\"> Non-trainable params: </span><span style=\"color: #00af00; text-decoration-color: #00af00\">846</span> (3.30 KB)\n",
       "</pre>\n"
      ]
     },
     "metadata": {},
     "output_type": "display_data"
    }
   ],
   "execution_count": 152
  },
  {
   "metadata": {
    "ExecuteTime": {
     "end_time": "2025-09-23T17:57:50.989934Z",
     "start_time": "2025-09-23T17:57:50.987879Z"
    }
   },
   "cell_type": "code",
   "source": "",
   "id": "de04a3e8478a9318",
   "outputs": [],
   "execution_count": 153
  },
  {
   "metadata": {
    "ExecuteTime": {
     "end_time": "2025-09-23T20:22:21.083866Z",
     "start_time": "2025-09-23T20:22:17.528067Z"
    }
   },
   "cell_type": "code",
   "source": "",
   "id": "3e6eca5e3fc71512",
   "outputs": [
    {
     "name": "stdout",
     "output_type": "stream",
     "text": [
      "Epoch 1/32\n",
      "Tensor(\"gnn_model_1/GatherV2:0\", shape=(None, 32), dtype=float32)\n",
      "Tensor(\"gnn_model_1/GatherV2:0\", shape=(None, 32), dtype=float32)\n",
      "\u001B[1m1/9\u001B[0m \u001B[32m━━\u001B[0m\u001B[37m━━━━━━━━━━━━━━━━━━\u001B[0m \u001B[1m16s\u001B[0m 2s/step - acc: 1.0000 - loss: 0.0719 - precision_22: 1.0000 - recall_22: 1.0000Tensor(\"gnn_model_1/GatherV2:0\", shape=(20, 32), dtype=float32)\n",
      "\u001B[1m9/9\u001B[0m \u001B[32m━━━━━━━━━━━━━━━━━━━━\u001B[0m\u001B[37m\u001B[0m \u001B[1m2s\u001B[0m 30ms/step - acc: 1.0000 - loss: 0.1248 - precision_22: 1.0000 - recall_22: 1.0000 - val_acc: 1.0000 - val_loss: 0.0826 - val_precision_22: 1.0000 - val_recall_22: 1.0000\n",
      "Epoch 2/32\n",
      "\u001B[1m9/9\u001B[0m \u001B[32m━━━━━━━━━━━━━━━━━━━━\u001B[0m\u001B[37m\u001B[0m \u001B[1m0s\u001B[0m 4ms/step - acc: 1.0000 - loss: 0.1310 - precision_22: 1.0000 - recall_22: 1.0000 - val_acc: 1.0000 - val_loss: 0.0778 - val_precision_22: 1.0000 - val_recall_22: 1.0000\n",
      "Epoch 3/32\n",
      "\u001B[1m9/9\u001B[0m \u001B[32m━━━━━━━━━━━━━━━━━━━━\u001B[0m\u001B[37m\u001B[0m \u001B[1m0s\u001B[0m 3ms/step - acc: 1.0000 - loss: 0.1198 - precision_22: 1.0000 - recall_22: 1.0000 - val_acc: 1.0000 - val_loss: 0.0734 - val_precision_22: 1.0000 - val_recall_22: 1.0000\n",
      "Epoch 4/32\n",
      "\u001B[1m9/9\u001B[0m \u001B[32m━━━━━━━━━━━━━━━━━━━━\u001B[0m\u001B[37m\u001B[0m \u001B[1m0s\u001B[0m 4ms/step - acc: 1.0000 - loss: 0.1076 - precision_22: 1.0000 - recall_22: 1.0000 - val_acc: 1.0000 - val_loss: 0.0692 - val_precision_22: 1.0000 - val_recall_22: 1.0000\n",
      "Epoch 5/32\n",
      "\u001B[1m9/9\u001B[0m \u001B[32m━━━━━━━━━━━━━━━━━━━━\u001B[0m\u001B[37m\u001B[0m \u001B[1m0s\u001B[0m 4ms/step - acc: 1.0000 - loss: 0.1083 - precision_22: 1.0000 - recall_22: 1.0000 - val_acc: 1.0000 - val_loss: 0.0654 - val_precision_22: 1.0000 - val_recall_22: 1.0000\n",
      "Epoch 6/32\n",
      "\u001B[1m9/9\u001B[0m \u001B[32m━━━━━━━━━━━━━━━━━━━━\u001B[0m\u001B[37m\u001B[0m \u001B[1m0s\u001B[0m 4ms/step - acc: 1.0000 - loss: 0.0943 - precision_22: 1.0000 - recall_22: 1.0000 - val_acc: 1.0000 - val_loss: 0.0619 - val_precision_22: 1.0000 - val_recall_22: 1.0000\n",
      "Epoch 7/32\n",
      "\u001B[1m9/9\u001B[0m \u001B[32m━━━━━━━━━━━━━━━━━━━━\u001B[0m\u001B[37m\u001B[0m \u001B[1m0s\u001B[0m 4ms/step - acc: 1.0000 - loss: 0.0889 - precision_22: 1.0000 - recall_22: 1.0000 - val_acc: 1.0000 - val_loss: 0.0585 - val_precision_22: 1.0000 - val_recall_22: 1.0000\n",
      "Epoch 8/32\n",
      "\u001B[1m9/9\u001B[0m \u001B[32m━━━━━━━━━━━━━━━━━━━━\u001B[0m\u001B[37m\u001B[0m \u001B[1m0s\u001B[0m 4ms/step - acc: 1.0000 - loss: 0.0921 - precision_22: 1.0000 - recall_22: 1.0000 - val_acc: 1.0000 - val_loss: 0.0552 - val_precision_22: 1.0000 - val_recall_22: 1.0000\n",
      "Epoch 9/32\n",
      "\u001B[1m9/9\u001B[0m \u001B[32m━━━━━━━━━━━━━━━━━━━━\u001B[0m\u001B[37m\u001B[0m \u001B[1m0s\u001B[0m 4ms/step - acc: 1.0000 - loss: 0.0934 - precision_22: 1.0000 - recall_22: 1.0000 - val_acc: 1.0000 - val_loss: 0.0522 - val_precision_22: 1.0000 - val_recall_22: 1.0000\n",
      "Epoch 10/32\n",
      "\u001B[1m9/9\u001B[0m \u001B[32m━━━━━━━━━━━━━━━━━━━━\u001B[0m\u001B[37m\u001B[0m \u001B[1m0s\u001B[0m 4ms/step - acc: 1.0000 - loss: 0.0872 - precision_22: 1.0000 - recall_22: 1.0000 - val_acc: 1.0000 - val_loss: 0.0492 - val_precision_22: 1.0000 - val_recall_22: 1.0000\n",
      "Epoch 11/32\n",
      "\u001B[1m9/9\u001B[0m \u001B[32m━━━━━━━━━━━━━━━━━━━━\u001B[0m\u001B[37m\u001B[0m \u001B[1m0s\u001B[0m 4ms/step - acc: 1.0000 - loss: 0.0783 - precision_22: 1.0000 - recall_22: 1.0000 - val_acc: 1.0000 - val_loss: 0.0464 - val_precision_22: 1.0000 - val_recall_22: 1.0000\n",
      "Epoch 12/32\n",
      "\u001B[1m9/9\u001B[0m \u001B[32m━━━━━━━━━━━━━━━━━━━━\u001B[0m\u001B[37m\u001B[0m \u001B[1m0s\u001B[0m 4ms/step - acc: 1.0000 - loss: 0.0781 - precision_22: 1.0000 - recall_22: 1.0000 - val_acc: 1.0000 - val_loss: 0.0438 - val_precision_22: 1.0000 - val_recall_22: 1.0000\n",
      "Epoch 13/32\n",
      "\u001B[1m9/9\u001B[0m \u001B[32m━━━━━━━━━━━━━━━━━━━━\u001B[0m\u001B[37m\u001B[0m \u001B[1m0s\u001B[0m 3ms/step - acc: 1.0000 - loss: 0.0676 - precision_22: 1.0000 - recall_22: 1.0000 - val_acc: 1.0000 - val_loss: 0.0414 - val_precision_22: 1.0000 - val_recall_22: 1.0000\n",
      "Epoch 14/32\n",
      "\u001B[1m9/9\u001B[0m \u001B[32m━━━━━━━━━━━━━━━━━━━━\u001B[0m\u001B[37m\u001B[0m \u001B[1m0s\u001B[0m 4ms/step - acc: 1.0000 - loss: 0.0752 - precision_22: 1.0000 - recall_22: 1.0000 - val_acc: 1.0000 - val_loss: 0.0390 - val_precision_22: 1.0000 - val_recall_22: 1.0000\n",
      "Epoch 15/32\n",
      "\u001B[1m9/9\u001B[0m \u001B[32m━━━━━━━━━━━━━━━━━━━━\u001B[0m\u001B[37m\u001B[0m \u001B[1m0s\u001B[0m 4ms/step - acc: 1.0000 - loss: 0.0676 - precision_22: 1.0000 - recall_22: 1.0000 - val_acc: 1.0000 - val_loss: 0.0368 - val_precision_22: 1.0000 - val_recall_22: 1.0000\n",
      "Epoch 16/32\n",
      "\u001B[1m9/9\u001B[0m \u001B[32m━━━━━━━━━━━━━━━━━━━━\u001B[0m\u001B[37m\u001B[0m \u001B[1m0s\u001B[0m 3ms/step - acc: 1.0000 - loss: 0.0710 - precision_22: 1.0000 - recall_22: 1.0000 - val_acc: 1.0000 - val_loss: 0.0348 - val_precision_22: 1.0000 - val_recall_22: 1.0000\n",
      "Epoch 17/32\n",
      "\u001B[1m9/9\u001B[0m \u001B[32m━━━━━━━━━━━━━━━━━━━━\u001B[0m\u001B[37m\u001B[0m \u001B[1m0s\u001B[0m 4ms/step - acc: 1.0000 - loss: 0.0639 - precision_22: 1.0000 - recall_22: 1.0000 - val_acc: 1.0000 - val_loss: 0.0328 - val_precision_22: 1.0000 - val_recall_22: 1.0000\n",
      "Epoch 18/32\n",
      "\u001B[1m9/9\u001B[0m \u001B[32m━━━━━━━━━━━━━━━━━━━━\u001B[0m\u001B[37m\u001B[0m \u001B[1m0s\u001B[0m 4ms/step - acc: 1.0000 - loss: 0.0559 - precision_22: 1.0000 - recall_22: 1.0000 - val_acc: 1.0000 - val_loss: 0.0309 - val_precision_22: 1.0000 - val_recall_22: 1.0000\n",
      "Epoch 19/32\n",
      "\u001B[1m9/9\u001B[0m \u001B[32m━━━━━━━━━━━━━━━━━━━━\u001B[0m\u001B[37m\u001B[0m \u001B[1m0s\u001B[0m 4ms/step - acc: 1.0000 - loss: 0.0479 - precision_22: 1.0000 - recall_22: 1.0000 - val_acc: 1.0000 - val_loss: 0.0292 - val_precision_22: 1.0000 - val_recall_22: 1.0000\n",
      "Epoch 20/32\n",
      "\u001B[1m9/9\u001B[0m \u001B[32m━━━━━━━━━━━━━━━━━━━━\u001B[0m\u001B[37m\u001B[0m \u001B[1m0s\u001B[0m 3ms/step - acc: 1.0000 - loss: 0.0518 - precision_22: 1.0000 - recall_22: 1.0000 - val_acc: 1.0000 - val_loss: 0.0275 - val_precision_22: 1.0000 - val_recall_22: 1.0000\n",
      "Epoch 21/32\n",
      "\u001B[1m9/9\u001B[0m \u001B[32m━━━━━━━━━━━━━━━━━━━━\u001B[0m\u001B[37m\u001B[0m \u001B[1m0s\u001B[0m 4ms/step - acc: 1.0000 - loss: 0.0463 - precision_22: 1.0000 - recall_22: 1.0000 - val_acc: 1.0000 - val_loss: 0.0259 - val_precision_22: 1.0000 - val_recall_22: 1.0000\n",
      "Epoch 22/32\n",
      "\u001B[1m9/9\u001B[0m \u001B[32m━━━━━━━━━━━━━━━━━━━━\u001B[0m\u001B[37m\u001B[0m \u001B[1m0s\u001B[0m 4ms/step - acc: 1.0000 - loss: 0.0420 - precision_22: 1.0000 - recall_22: 1.0000 - val_acc: 1.0000 - val_loss: 0.0244 - val_precision_22: 1.0000 - val_recall_22: 1.0000\n",
      "Epoch 23/32\n",
      "\u001B[1m9/9\u001B[0m \u001B[32m━━━━━━━━━━━━━━━━━━━━\u001B[0m\u001B[37m\u001B[0m \u001B[1m0s\u001B[0m 3ms/step - acc: 1.0000 - loss: 0.0472 - precision_22: 1.0000 - recall_22: 1.0000 - val_acc: 1.0000 - val_loss: 0.0230 - val_precision_22: 1.0000 - val_recall_22: 1.0000\n",
      "Epoch 24/32\n",
      "\u001B[1m9/9\u001B[0m \u001B[32m━━━━━━━━━━━━━━━━━━━━\u001B[0m\u001B[37m\u001B[0m \u001B[1m0s\u001B[0m 3ms/step - acc: 1.0000 - loss: 0.0384 - precision_22: 1.0000 - recall_22: 1.0000 - val_acc: 1.0000 - val_loss: 0.0217 - val_precision_22: 1.0000 - val_recall_22: 1.0000\n",
      "Epoch 25/32\n",
      "\u001B[1m9/9\u001B[0m \u001B[32m━━━━━━━━━━━━━━━━━━━━\u001B[0m\u001B[37m\u001B[0m \u001B[1m0s\u001B[0m 3ms/step - acc: 1.0000 - loss: 0.0364 - precision_22: 1.0000 - recall_22: 1.0000 - val_acc: 1.0000 - val_loss: 0.0204 - val_precision_22: 1.0000 - val_recall_22: 1.0000\n",
      "Epoch 26/32\n",
      "\u001B[1m9/9\u001B[0m \u001B[32m━━━━━━━━━━━━━━━━━━━━\u001B[0m\u001B[37m\u001B[0m \u001B[1m0s\u001B[0m 3ms/step - acc: 1.0000 - loss: 0.0409 - precision_22: 1.0000 - recall_22: 1.0000 - val_acc: 1.0000 - val_loss: 0.0193 - val_precision_22: 1.0000 - val_recall_22: 1.0000\n",
      "Epoch 27/32\n",
      "\u001B[1m9/9\u001B[0m \u001B[32m━━━━━━━━━━━━━━━━━━━━\u001B[0m\u001B[37m\u001B[0m \u001B[1m0s\u001B[0m 3ms/step - acc: 1.0000 - loss: 0.0321 - precision_22: 1.0000 - recall_22: 1.0000 - val_acc: 1.0000 - val_loss: 0.0182 - val_precision_22: 1.0000 - val_recall_22: 1.0000\n",
      "Epoch 28/32\n",
      "\u001B[1m9/9\u001B[0m \u001B[32m━━━━━━━━━━━━━━━━━━━━\u001B[0m\u001B[37m\u001B[0m \u001B[1m0s\u001B[0m 3ms/step - acc: 1.0000 - loss: 0.0331 - precision_22: 1.0000 - recall_22: 1.0000 - val_acc: 1.0000 - val_loss: 0.0172 - val_precision_22: 1.0000 - val_recall_22: 1.0000\n",
      "Epoch 29/32\n",
      "\u001B[1m9/9\u001B[0m \u001B[32m━━━━━━━━━━━━━━━━━━━━\u001B[0m\u001B[37m\u001B[0m \u001B[1m0s\u001B[0m 3ms/step - acc: 1.0000 - loss: 0.0342 - precision_22: 1.0000 - recall_22: 1.0000 - val_acc: 1.0000 - val_loss: 0.0163 - val_precision_22: 1.0000 - val_recall_22: 1.0000\n",
      "Epoch 30/32\n",
      "\u001B[1m9/9\u001B[0m \u001B[32m━━━━━━━━━━━━━━━━━━━━\u001B[0m\u001B[37m\u001B[0m \u001B[1m0s\u001B[0m 4ms/step - acc: 1.0000 - loss: 0.0329 - precision_22: 1.0000 - recall_22: 1.0000 - val_acc: 1.0000 - val_loss: 0.0155 - val_precision_22: 1.0000 - val_recall_22: 1.0000\n",
      "Epoch 31/32\n",
      "\u001B[1m9/9\u001B[0m \u001B[32m━━━━━━━━━━━━━━━━━━━━\u001B[0m\u001B[37m\u001B[0m \u001B[1m0s\u001B[0m 3ms/step - acc: 1.0000 - loss: 0.0292 - precision_22: 1.0000 - recall_22: 1.0000 - val_acc: 1.0000 - val_loss: 0.0146 - val_precision_22: 1.0000 - val_recall_22: 1.0000\n",
      "Epoch 32/32\n",
      "\u001B[1m9/9\u001B[0m \u001B[32m━━━━━━━━━━━━━━━━━━━━\u001B[0m\u001B[37m\u001B[0m \u001B[1m0s\u001B[0m 3ms/step - acc: 1.0000 - loss: 0.0284 - precision_22: 1.0000 - recall_22: 1.0000 - val_acc: 1.0000 - val_loss: 0.0139 - val_precision_22: 1.0000 - val_recall_22: 1.0000\n"
     ]
    }
   ],
   "execution_count": 172
  },
  {
   "metadata": {
    "ExecuteTime": {
     "end_time": "2025-09-23T17:57:54.494630Z",
     "start_time": "2025-09-23T17:57:54.270264Z"
    }
   },
   "cell_type": "code",
   "source": "",
   "id": "90a92d7ca8e770b2",
   "outputs": [
    {
     "name": "stdout",
     "output_type": "stream",
     "text": [
      "Tensor(\"gnn_model_1/GatherV2:0\", shape=(None, 32), dtype=float32)\n",
      "Test accuracy: 93.55%\n",
      "Test precision: 93.54838728904724%\n",
      "Test recall: 93.54838728904724%\n"
     ]
    }
   ],
   "execution_count": 155
  },
  {
   "metadata": {
    "ExecuteTime": {
     "end_time": "2025-09-23T17:57:54.616017Z",
     "start_time": "2025-09-23T17:57:54.498142Z"
    }
   },
   "cell_type": "code",
   "source": [
    "from sklearn.metrics import confusion_matrix\n",
    "from sklearn.metrics import classification_report\n",
    "\n",
    "y_pred= gnn_model.predict(x_test)\n",
    "y_pred = np.argmax(y_pred, axis=1)\n",
    "y_testt = np.argmax(y_test1, axis=1)\n",
    "cm = confusion_matrix(y_testt, y_pred)\n",
    "print(cm)\n",
    "print(classification_report(y_testt,y_pred))"
   ],
   "id": "6c25594b470593c4",
   "outputs": [
    {
     "name": "stdout",
     "output_type": "stream",
     "text": [
      "Tensor(\"gnn_model_1/GatherV2:0\", shape=(31, 32), dtype=float32)\n",
      "\u001B[1m1/1\u001B[0m \u001B[32m━━━━━━━━━━━━━━━━━━━━\u001B[0m\u001B[37m\u001B[0m \u001B[1m0s\u001B[0m 97ms/step\n",
      "[[27  0]\n",
      " [ 2  2]]\n",
      "              precision    recall  f1-score   support\n",
      "\n",
      "           0       0.93      1.00      0.96        27\n",
      "           1       1.00      0.50      0.67         4\n",
      "\n",
      "    accuracy                           0.94        31\n",
      "   macro avg       0.97      0.75      0.82        31\n",
      "weighted avg       0.94      0.94      0.93        31\n",
      "\n"
     ]
    }
   ],
   "execution_count": 156
  },
  {
   "metadata": {
    "ExecuteTime": {
     "end_time": "2025-09-23T17:58:14.264279Z",
     "start_time": "2025-09-23T17:57:54.629851Z"
    }
   },
   "cell_type": "code",
   "source": [
    "!python Feature_Extract.py AES_PPRM1 Kin AES_PPRM1\n",
    "!python Feature_Extract.py AES_PPRM3 Kin AES_PPRM3\n",
    "!python Feature_Extract.py AES_TBL Kin AES_TBL\n",
    "!python Feature_Extract.py RSA Kin RSA\n",
    "!python Feature_Extract.py SABER pol_64bit_in SABER"
   ],
   "id": "64b1a4050e371bc9",
   "outputs": [
    {
     "name": "stdout",
     "output_type": "stream",
     "text": [
      "Generating LALR tables\r\n",
      "WARNING: 183 shift/reduce conflicts\r\n",
      "[INFO] Features written to ../test/AES_PPRM1_features.csv\r\n",
      "[INFO] Edges written to ../test/AES_PPRM1_edges.csv\r\n",
      "Generating LALR tables\r\n",
      "WARNING: 183 shift/reduce conflicts\r\n",
      "[INFO] Features written to ../test/AES_PPRM3_features.csv\r\n",
      "[INFO] Edges written to ../test/AES_PPRM3_edges.csv\r\n",
      "Generating LALR tables\r\n",
      "WARNING: 183 shift/reduce conflicts\r\n",
      "[INFO] Features written to ../test/AES_TBL_features.csv\r\n",
      "[INFO] Edges written to ../test/AES_TBL_edges.csv\r\n",
      "Generating LALR tables\r\n",
      "WARNING: 183 shift/reduce conflicts\r\n",
      "[INFO] Features written to ../test/RSA_features.csv\r\n",
      "[INFO] Edges written to ../test/RSA_edges.csv\r\n",
      "Generating LALR tables\r\n",
      "WARNING: 183 shift/reduce conflicts\r\n",
      "[INFO] Features written to ../test/SABER_features.csv\r\n",
      "[INFO] Edges written to ../test/SABER_edges.csv\r\n"
     ]
    }
   ],
   "execution_count": 157
  },
  {
   "metadata": {
    "ExecuteTime": {
     "end_time": "2025-09-23T20:07:03.817965Z",
     "start_time": "2025-09-23T20:07:03.781899Z"
    }
   },
   "cell_type": "code",
   "source": [
    "import os, glob\n",
    "import numpy as np\n",
    "import pandas as pd\n",
    "import tensorflow as tf\n",
    "\n",
    "TEST_DIR = \"../test\"\n",
    "\n",
    "feature_files = sorted(glob.glob(os.path.join(TEST_DIR, \"*_features.csv\")))\n",
    "paired = []\n",
    "for fpath in feature_files:\n",
    "    base = os.path.basename(fpath).replace(\"_features.csv\", \"\")\n",
    "    epath = os.path.join(TEST_DIR, f\"{base}_edges.csv\")\n",
    "    if os.path.exists(epath):\n",
    "        paired.append((base, fpath, epath))\n",
    "\n",
    "if not paired:\n",
    "    print(\"No dataset pairs found under ./test (expect *_features.csv + *_edges.csv)\")\n",
    "else:\n",
    "    print(f\"Found {len(paired)} dataset(s):\", [b for b,_,_ in paired])\n",
    "\n",
    "leaky_module = {\n",
    "    \"AES_PPRM1\": [\"SBOX\", \"Mixcolumns\", \"MX\"],\n",
    "    \"AES_PPRM3\": [\"Sbox\", \"Mixcolumns\", \"MX\"],\n",
    "    \"AES_TBL\": [\"SBOX\", \"Mixcolumns\", \"MX\"],\n",
    "    \"RSA\": [\"MODEXP_SEQ\", \"MULT_BLK\"],\n",
    "    \"SABER\": [\"PMULTs\"]\n",
    "}\n",
    "\n",
    "for base, ffeat, fedge in paired:\n",
    "    print(f\"\\n=== [{base}] ===\")\n",
    "    test_nodeset = pd.read_csv(ffeat)\n",
    "    test_edge = pd.read_csv(fedge)\n",
    "    keywords = leaky_module.get(base, [])\n",
    "    def contains_any(value, keywords):\n",
    "        return any(kw in str(value) for kw in keywords)\n",
    "    test_nodeset[\"label\"] = test_nodeset[\"node\"].apply(\n",
    "        lambda x: 1 if contains_any(x, keywords) else 0\n",
    "    )\n",
    "    test_nodeset = test_nodeset[list(feature_names)]\n",
    "    test_nodeset.to_csv(ffeat, index=False)\n",
    "\n",
    "    test_feature = test_nodeset.node_number.to_numpy()\n",
    "    test_target = tf.keras.utils.to_categorical(test_nodeset[\"label\"], num_classes=2)\n",
    "\n",
    "        # ===== Chunked evaluation (avoid indices out of training bound) =====\n",
    "    # 1) Automatically detect training upper bound (max index = TRAIN_N - 1)\n",
    "    def _detect_train_N(model):\n",
    "        # Try to get from Embedding layer\n",
    "        for layer in model.layers:\n",
    "            try:\n",
    "                from tensorflow.keras.layers import Embedding\n",
    "            except Exception:\n",
    "                Embedding = tf.keras.layers.Embedding\n",
    "            if isinstance(layer, Embedding):\n",
    "                if getattr(layer, \"embeddings\", None) is not None and layer.embeddings.shape.rank == 2:\n",
    "                    return int(layer.embeddings.shape[0])\n",
    "                if getattr(layer, \"input_dim\", None) is not None:\n",
    "                    return int(layer.input_dim)\n",
    "        # Try common variable names (if custom feature table exists)\n",
    "        for attr in [\"feature_table\", \"node_features\", \"features\"]:\n",
    "            if hasattr(model, attr):\n",
    "                var = getattr(model, attr)\n",
    "                try:\n",
    "                    return int(var.shape[0])\n",
    "                except Exception:\n",
    "                    pass\n",
    "        return None\n",
    "\n",
    "    TRAIN_N = _detect_train_N(gnn_model)\n",
    "    if TRAIN_N is None:\n",
    "        TRAIN_N = 227  # fallback\n",
    "        print(f\"[{base}] Warning: cannot detect train_N from model; fallback TRAIN_N={TRAIN_N}\")\n",
    "\n",
    "    # 2) Split test set into chunks of at most TRAIN_N samples\n",
    "    CHUNK = TRAIN_N\n",
    "    n_total = test_feature.shape[0]\n",
    "\n",
    "    # Ensure dtype and shape\n",
    "    test_feature = np.asarray(test_feature, dtype=np.int32)\n",
    "    test_target  = np.asarray(test_target,  dtype=np.float32)\n",
    "\n",
    "    total_samples = 0\n",
    "    acc_sum = 0.0\n",
    "    prec_sum = 0.0\n",
    "    rec_sum = 0.0\n",
    "\n",
    "    for start in range(0, n_total, CHUNK):\n",
    "        end = min(start + CHUNK, n_total)\n",
    "        idx_chunk = test_feature[start:end]\n",
    "        y_chunk   = test_target[start:end]\n",
    "\n",
    "        unique_idx = np.unique(idx_chunk)\n",
    "        remap = {old: new for new, old in enumerate(unique_idx)}\n",
    "        idx_valid = np.array([remap[i] for i in idx_chunk], dtype=np.int32)\n",
    "        y_valid   = y_chunk\n",
    "\n",
    "        # Evaluate this chunk\n",
    "        loss, acc, prec, rec = gnn_model.evaluate(x=idx_valid, y=y_valid, verbose=0)\n",
    "\n",
    "        m = idx_valid.shape[0]\n",
    "        total_samples += m\n",
    "        acc_sum  += float(acc)  * m\n",
    "        prec_sum += float(prec) * m\n",
    "        rec_sum  += float(rec)  * m\n",
    "\n",
    "    if total_samples == 0:\n",
    "        print(f\"[{base}] Warning: no valid indices (< {TRAIN_N}) in test set; skipped.\")\n",
    "    else:\n",
    "        test_accuracy = acc_sum / total_samples\n",
    "        precision     = prec_sum / total_samples\n",
    "        recall        = rec_sum / total_samples\n",
    "        print(f\"Test accuracy: {acc_sum} / {total_samples} = {round(test_accuracy * 100, 2)}%\")\n",
    "        # Optional: print precision/recall as well\n",
    "        # print(f\"Test precision: {round(precision * 100, 2)}%\")\n",
    "        # print(f\"Test recall:    {round(recall * 100, 2)}%\")\n"
   ],
   "id": "27b3257f40a98719",
   "outputs": [
    {
     "name": "stdout",
     "output_type": "stream",
     "text": [
      "Found 5 dataset(s): ['AES_PPRM1', 'AES_PPRM3', 'AES_TBL', 'RSA', 'SABER']\n",
      "\n",
      "=== [AES_PPRM1] ===\n"
     ]
    },
    {
     "ename": "AttributeError",
     "evalue": "'DataFrame' object has no attribute 'node_number'",
     "output_type": "error",
     "traceback": [
      "\u001B[0;31m---------------------------------------------------------------------------\u001B[0m",
      "\u001B[0;31mAttributeError\u001B[0m                            Traceback (most recent call last)",
      "\u001B[0;32m/var/folders/fc/rq9v0gn94dq1cpr9d1jydxq40000gn/T/ipykernel_82908/107887941.py\u001B[0m in \u001B[0;36m?\u001B[0;34m()\u001B[0m\n\u001B[1;32m     38\u001B[0m \u001B[0;32mfor\u001B[0m \u001B[0mfpath\u001B[0m \u001B[0;32min\u001B[0m \u001B[0mfeature_files\u001B[0m\u001B[0;34m:\u001B[0m\u001B[0;34m\u001B[0m\u001B[0;34m\u001B[0m\u001B[0m\n\u001B[1;32m     39\u001B[0m     \u001B[0mbase\u001B[0m \u001B[0;34m=\u001B[0m \u001B[0mos\u001B[0m\u001B[0;34m.\u001B[0m\u001B[0mpath\u001B[0m\u001B[0;34m.\u001B[0m\u001B[0mbasename\u001B[0m\u001B[0;34m(\u001B[0m\u001B[0mfpath\u001B[0m\u001B[0;34m)\u001B[0m\u001B[0;34m.\u001B[0m\u001B[0mreplace\u001B[0m\u001B[0;34m(\u001B[0m\u001B[0;34m\"_features.csv\"\u001B[0m\u001B[0;34m,\u001B[0m \u001B[0;34m\"\"\u001B[0m\u001B[0;34m)\u001B[0m\u001B[0;34m\u001B[0m\u001B[0;34m\u001B[0m\u001B[0m\n\u001B[1;32m     40\u001B[0m     \u001B[0mepath\u001B[0m \u001B[0;34m=\u001B[0m \u001B[0mos\u001B[0m\u001B[0;34m.\u001B[0m\u001B[0mpath\u001B[0m\u001B[0;34m.\u001B[0m\u001B[0mjoin\u001B[0m\u001B[0;34m(\u001B[0m\u001B[0mTEST_DIR\u001B[0m\u001B[0;34m,\u001B[0m \u001B[0;34mf\"{base}_edges.csv\"\u001B[0m\u001B[0;34m)\u001B[0m\u001B[0;34m\u001B[0m\u001B[0;34m\u001B[0m\u001B[0m\n\u001B[1;32m     41\u001B[0m     \u001B[0;32mif\u001B[0m \u001B[0mos\u001B[0m\u001B[0;34m.\u001B[0m\u001B[0mpath\u001B[0m\u001B[0;34m.\u001B[0m\u001B[0mexists\u001B[0m\u001B[0;34m(\u001B[0m\u001B[0mepath\u001B[0m\u001B[0;34m)\u001B[0m\u001B[0;34m:\u001B[0m\u001B[0;34m\u001B[0m\u001B[0;34m\u001B[0m\u001B[0m\n\u001B[0;32m---> 42\u001B[0;31m         \u001B[0mpaired\u001B[0m\u001B[0;34m.\u001B[0m\u001B[0mappend\u001B[0m\u001B[0;34m(\u001B[0m\u001B[0;34m(\u001B[0m\u001B[0mbase\u001B[0m\u001B[0;34m,\u001B[0m \u001B[0mfpath\u001B[0m\u001B[0;34m,\u001B[0m \u001B[0mepath\u001B[0m\u001B[0;34m)\u001B[0m\u001B[0;34m)\u001B[0m\u001B[0;34m\u001B[0m\u001B[0;34m\u001B[0m\u001B[0m\n\u001B[0m\u001B[1;32m     43\u001B[0m \u001B[0;34m\u001B[0m\u001B[0m\n\u001B[1;32m     44\u001B[0m \u001B[0;32mif\u001B[0m \u001B[0;32mnot\u001B[0m \u001B[0mpaired\u001B[0m\u001B[0;34m:\u001B[0m\u001B[0;34m\u001B[0m\u001B[0;34m\u001B[0m\u001B[0m\n\u001B[1;32m     45\u001B[0m     \u001B[0mprint\u001B[0m\u001B[0;34m(\u001B[0m\u001B[0;34m\"No dataset pairs found under ./test (expect *_features.csv + *_edges.csv)\"\u001B[0m\u001B[0;34m)\u001B[0m\u001B[0;34m\u001B[0m\u001B[0;34m\u001B[0m\u001B[0m\n",
      "\u001B[0;32m~/PycharmProjects/SCAR/.venv/lib/python3.9/site-packages/pandas/core/generic.py\u001B[0m in \u001B[0;36m?\u001B[0;34m(self, name)\u001B[0m\n\u001B[1;32m   6314\u001B[0m             \u001B[0;32mand\u001B[0m \u001B[0mname\u001B[0m \u001B[0;32mnot\u001B[0m \u001B[0;32min\u001B[0m \u001B[0mself\u001B[0m\u001B[0;34m.\u001B[0m\u001B[0m_accessors\u001B[0m\u001B[0;34m\u001B[0m\u001B[0;34m\u001B[0m\u001B[0m\n\u001B[1;32m   6315\u001B[0m             \u001B[0;32mand\u001B[0m \u001B[0mself\u001B[0m\u001B[0;34m.\u001B[0m\u001B[0m_info_axis\u001B[0m\u001B[0;34m.\u001B[0m\u001B[0m_can_hold_identifiers_and_holds_name\u001B[0m\u001B[0;34m(\u001B[0m\u001B[0mname\u001B[0m\u001B[0;34m)\u001B[0m\u001B[0;34m\u001B[0m\u001B[0;34m\u001B[0m\u001B[0m\n\u001B[1;32m   6316\u001B[0m         ):\n\u001B[1;32m   6317\u001B[0m             \u001B[0;32mreturn\u001B[0m \u001B[0mself\u001B[0m\u001B[0;34m[\u001B[0m\u001B[0mname\u001B[0m\u001B[0;34m]\u001B[0m\u001B[0;34m\u001B[0m\u001B[0;34m\u001B[0m\u001B[0m\n\u001B[0;32m-> 6318\u001B[0;31m         \u001B[0;32mreturn\u001B[0m \u001B[0mobject\u001B[0m\u001B[0;34m.\u001B[0m\u001B[0m__getattribute__\u001B[0m\u001B[0;34m(\u001B[0m\u001B[0mself\u001B[0m\u001B[0;34m,\u001B[0m \u001B[0mname\u001B[0m\u001B[0;34m)\u001B[0m\u001B[0;34m\u001B[0m\u001B[0;34m\u001B[0m\u001B[0m\n\u001B[0m",
      "\u001B[0;31mAttributeError\u001B[0m: 'DataFrame' object has no attribute 'node_number'"
     ]
    }
   ],
   "execution_count": 163
  }
 ],
 "metadata": {
  "kernelspec": {
   "display_name": "Python 3",
   "language": "python",
   "name": "python3"
  },
  "language_info": {
   "codemirror_mode": {
    "name": "ipython",
    "version": 2
   },
   "file_extension": ".py",
   "mimetype": "text/x-python",
   "name": "python",
   "nbconvert_exporter": "python",
   "pygments_lexer": "ipython2",
   "version": "2.7.6"
  }
 },
 "nbformat": 4,
 "nbformat_minor": 5
}
