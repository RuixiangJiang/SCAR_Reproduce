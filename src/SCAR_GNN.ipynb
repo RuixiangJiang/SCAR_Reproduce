{
 "cells": [
  {
   "cell_type": "code",
   "id": "initial_id",
   "metadata": {
    "collapsed": true,
    "ExecuteTime": {
     "end_time": "2025-09-19T14:24:20.037820Z",
     "start_time": "2025-09-19T14:24:15.861895Z"
    }
   },
   "source": [
    "import os\n",
    "import pandas as pd\n",
    "import numpy as np\n",
    "import networkx as nx\n",
    "import matplotlib.pyplot as plt\n",
    "import tensorflow as tf\n",
    "from tensorflow import keras\n",
    "from tensorflow.keras import layers\n",
    "from sklearn.model_selection import train_test_split"
   ],
   "outputs": [
    {
     "name": "stderr",
     "output_type": "stream",
     "text": [
      "/Users/ruixiang/PycharmProjects/SCAR/.venv/lib/python3.9/site-packages/urllib3/__init__.py:35: NotOpenSSLWarning: urllib3 v2 only supports OpenSSL 1.1.1+, currently the 'ssl' module is compiled with 'LibreSSL 2.8.3'. See: https://github.com/urllib3/urllib3/issues/3020\n",
      "  warnings.warn(\n"
     ]
    }
   ],
   "execution_count": 2
  },
  {
   "metadata": {
    "ExecuteTime": {
     "end_time": "2025-09-19T14:24:20.052068Z",
     "start_time": "2025-09-19T14:24:20.045061Z"
    }
   },
   "cell_type": "code",
   "source": [
    "nodeset = pd.read_csv(f\"../out/features.csv\")\n",
    "df = pd.read_csv(f\"../out/edges.csv\")"
   ],
   "id": "bec0bd6db085eb26",
   "outputs": [],
   "execution_count": 3
  },
  {
   "metadata": {
    "ExecuteTime": {
     "end_time": "2025-09-19T14:24:20.080421Z",
     "start_time": "2025-09-19T14:24:20.069868Z"
    }
   },
   "cell_type": "code",
   "source": [
    "nodeset[\"label\"] = nodeset[\"node\"].str.contains(r\"(sbox|mixcolumn)\",\n",
    "                                          case=False, na=False).astype(int)\n",
    "nodeset"
   ],
   "id": "cf0469a66023c4a8",
   "outputs": [
    {
     "name": "stderr",
     "output_type": "stream",
     "text": [
      "/var/folders/fc/rq9v0gn94dq1cpr9d1jydxq40000gn/T/ipykernel_55180/453769152.py:1: UserWarning: This pattern is interpreted as a regular expression, and has match groups. To actually get the groups, use str.extract.\n",
      "  nodeset[\"label\"] = nodeset[\"node\"].str.contains(r\"(sbox|mixcolumn)\",\n"
     ]
    },
    {
     "data": {
      "text/plain": [
       "                         node  Degree  Hamming distance  \\\n",
       "0                  dut.260:BL       2              1451   \n",
       "1    dut.InvMixColumn2.730:AS       1                 0   \n",
       "2                  dut.169:NS       2                 0   \n",
       "3             dut.Leaf_208:AL      16                 0   \n",
       "4                  dut.130:NS       2                 2   \n",
       "..                        ...     ...               ...   \n",
       "222    dut.InvSubBytes.544:AS       8                 0   \n",
       "223                dut.209:BL       2                 0   \n",
       "224                dut.355:IF       3                 0   \n",
       "225                 dut.99:BS       2                 8   \n",
       "226                dut.105:BS       2                 8   \n",
       "\n",
       "                                                  Node  Noise  Paths  and  \\\n",
       "0    dut.260:BL\\n{ state[0], state[1], state[2], st...      0      0    0   \n",
       "1    dut.InvMixColumn2.730:AS\\nm3c = mul4x8({ 4'hb ...      1      0    0   \n",
       "2    dut.169:NS\\n{ w[0], w[1], w[2], w[3] } <= key_in;      0      1    0   \n",
       "3                                      dut.Leaf_208:AL      0      0    0   \n",
       "4                            dut.130:NS\\nbusy <= 1'b0;      1     31    0   \n",
       "..                                                 ...    ...    ...  ...   \n",
       "222         dut.InvSubBytes.544:AS\\nb21 = is_box(a21);      0      0    0   \n",
       "223  dut.209:BL\\n{ iw[0], iw[1], iw[2], iw[3] } <= ...      1      0    0   \n",
       "224                                         dut.355:IF      0      0    0   \n",
       "225                      dut.99:BS\\nnext_state = 3'h2;      0     51    0   \n",
       "226                     dut.105:BS\\nnext_state = 3'h0;      0     51    0   \n",
       "\n",
       "     mux  node_number  or  xor  label  \n",
       "0      0            0   0    0      0  \n",
       "1      0            1   0    1      1  \n",
       "2      0            2   0    0      0  \n",
       "3      0            3   0    0      0  \n",
       "4      0            4   0    0      0  \n",
       "..   ...          ...  ..  ...    ...  \n",
       "222    0          222   0    0      0  \n",
       "223    0          223   0    0      0  \n",
       "224    0          224   0    0      0  \n",
       "225    0          225   0    0      0  \n",
       "226    0          226   0    0      0  \n",
       "\n",
       "[227 rows x 12 columns]"
      ],
      "text/html": [
       "<div>\n",
       "<style scoped>\n",
       "    .dataframe tbody tr th:only-of-type {\n",
       "        vertical-align: middle;\n",
       "    }\n",
       "\n",
       "    .dataframe tbody tr th {\n",
       "        vertical-align: top;\n",
       "    }\n",
       "\n",
       "    .dataframe thead th {\n",
       "        text-align: right;\n",
       "    }\n",
       "</style>\n",
       "<table border=\"1\" class=\"dataframe\">\n",
       "  <thead>\n",
       "    <tr style=\"text-align: right;\">\n",
       "      <th></th>\n",
       "      <th>node</th>\n",
       "      <th>Degree</th>\n",
       "      <th>Hamming distance</th>\n",
       "      <th>Node</th>\n",
       "      <th>Noise</th>\n",
       "      <th>Paths</th>\n",
       "      <th>and</th>\n",
       "      <th>mux</th>\n",
       "      <th>node_number</th>\n",
       "      <th>or</th>\n",
       "      <th>xor</th>\n",
       "      <th>label</th>\n",
       "    </tr>\n",
       "  </thead>\n",
       "  <tbody>\n",
       "    <tr>\n",
       "      <th>0</th>\n",
       "      <td>dut.260:BL</td>\n",
       "      <td>2</td>\n",
       "      <td>1451</td>\n",
       "      <td>dut.260:BL\\n{ state[0], state[1], state[2], st...</td>\n",
       "      <td>0</td>\n",
       "      <td>0</td>\n",
       "      <td>0</td>\n",
       "      <td>0</td>\n",
       "      <td>0</td>\n",
       "      <td>0</td>\n",
       "      <td>0</td>\n",
       "      <td>0</td>\n",
       "    </tr>\n",
       "    <tr>\n",
       "      <th>1</th>\n",
       "      <td>dut.InvMixColumn2.730:AS</td>\n",
       "      <td>1</td>\n",
       "      <td>0</td>\n",
       "      <td>dut.InvMixColumn2.730:AS\\nm3c = mul4x8({ 4'hb ...</td>\n",
       "      <td>1</td>\n",
       "      <td>0</td>\n",
       "      <td>0</td>\n",
       "      <td>0</td>\n",
       "      <td>1</td>\n",
       "      <td>0</td>\n",
       "      <td>1</td>\n",
       "      <td>1</td>\n",
       "    </tr>\n",
       "    <tr>\n",
       "      <th>2</th>\n",
       "      <td>dut.169:NS</td>\n",
       "      <td>2</td>\n",
       "      <td>0</td>\n",
       "      <td>dut.169:NS\\n{ w[0], w[1], w[2], w[3] } &lt;= key_in;</td>\n",
       "      <td>0</td>\n",
       "      <td>1</td>\n",
       "      <td>0</td>\n",
       "      <td>0</td>\n",
       "      <td>2</td>\n",
       "      <td>0</td>\n",
       "      <td>0</td>\n",
       "      <td>0</td>\n",
       "    </tr>\n",
       "    <tr>\n",
       "      <th>3</th>\n",
       "      <td>dut.Leaf_208:AL</td>\n",
       "      <td>16</td>\n",
       "      <td>0</td>\n",
       "      <td>dut.Leaf_208:AL</td>\n",
       "      <td>0</td>\n",
       "      <td>0</td>\n",
       "      <td>0</td>\n",
       "      <td>0</td>\n",
       "      <td>3</td>\n",
       "      <td>0</td>\n",
       "      <td>0</td>\n",
       "      <td>0</td>\n",
       "    </tr>\n",
       "    <tr>\n",
       "      <th>4</th>\n",
       "      <td>dut.130:NS</td>\n",
       "      <td>2</td>\n",
       "      <td>2</td>\n",
       "      <td>dut.130:NS\\nbusy &lt;= 1'b0;</td>\n",
       "      <td>1</td>\n",
       "      <td>31</td>\n",
       "      <td>0</td>\n",
       "      <td>0</td>\n",
       "      <td>4</td>\n",
       "      <td>0</td>\n",
       "      <td>0</td>\n",
       "      <td>0</td>\n",
       "    </tr>\n",
       "    <tr>\n",
       "      <th>...</th>\n",
       "      <td>...</td>\n",
       "      <td>...</td>\n",
       "      <td>...</td>\n",
       "      <td>...</td>\n",
       "      <td>...</td>\n",
       "      <td>...</td>\n",
       "      <td>...</td>\n",
       "      <td>...</td>\n",
       "      <td>...</td>\n",
       "      <td>...</td>\n",
       "      <td>...</td>\n",
       "      <td>...</td>\n",
       "    </tr>\n",
       "    <tr>\n",
       "      <th>222</th>\n",
       "      <td>dut.InvSubBytes.544:AS</td>\n",
       "      <td>8</td>\n",
       "      <td>0</td>\n",
       "      <td>dut.InvSubBytes.544:AS\\nb21 = is_box(a21);</td>\n",
       "      <td>0</td>\n",
       "      <td>0</td>\n",
       "      <td>0</td>\n",
       "      <td>0</td>\n",
       "      <td>222</td>\n",
       "      <td>0</td>\n",
       "      <td>0</td>\n",
       "      <td>0</td>\n",
       "    </tr>\n",
       "    <tr>\n",
       "      <th>223</th>\n",
       "      <td>dut.209:BL</td>\n",
       "      <td>2</td>\n",
       "      <td>0</td>\n",
       "      <td>dut.209:BL\\n{ iw[0], iw[1], iw[2], iw[3] } &lt;= ...</td>\n",
       "      <td>1</td>\n",
       "      <td>0</td>\n",
       "      <td>0</td>\n",
       "      <td>0</td>\n",
       "      <td>223</td>\n",
       "      <td>0</td>\n",
       "      <td>0</td>\n",
       "      <td>0</td>\n",
       "    </tr>\n",
       "    <tr>\n",
       "      <th>224</th>\n",
       "      <td>dut.355:IF</td>\n",
       "      <td>3</td>\n",
       "      <td>0</td>\n",
       "      <td>dut.355:IF</td>\n",
       "      <td>0</td>\n",
       "      <td>0</td>\n",
       "      <td>0</td>\n",
       "      <td>0</td>\n",
       "      <td>224</td>\n",
       "      <td>0</td>\n",
       "      <td>0</td>\n",
       "      <td>0</td>\n",
       "    </tr>\n",
       "    <tr>\n",
       "      <th>225</th>\n",
       "      <td>dut.99:BS</td>\n",
       "      <td>2</td>\n",
       "      <td>8</td>\n",
       "      <td>dut.99:BS\\nnext_state = 3'h2;</td>\n",
       "      <td>0</td>\n",
       "      <td>51</td>\n",
       "      <td>0</td>\n",
       "      <td>0</td>\n",
       "      <td>225</td>\n",
       "      <td>0</td>\n",
       "      <td>0</td>\n",
       "      <td>0</td>\n",
       "    </tr>\n",
       "    <tr>\n",
       "      <th>226</th>\n",
       "      <td>dut.105:BS</td>\n",
       "      <td>2</td>\n",
       "      <td>8</td>\n",
       "      <td>dut.105:BS\\nnext_state = 3'h0;</td>\n",
       "      <td>0</td>\n",
       "      <td>51</td>\n",
       "      <td>0</td>\n",
       "      <td>0</td>\n",
       "      <td>226</td>\n",
       "      <td>0</td>\n",
       "      <td>0</td>\n",
       "      <td>0</td>\n",
       "    </tr>\n",
       "  </tbody>\n",
       "</table>\n",
       "<p>227 rows × 12 columns</p>\n",
       "</div>"
      ]
     },
     "execution_count": 4,
     "metadata": {},
     "output_type": "execute_result"
    }
   ],
   "execution_count": 4
  },
  {
   "metadata": {
    "ExecuteTime": {
     "end_time": "2025-09-19T14:24:20.159038Z",
     "start_time": "2025-09-19T14:24:20.152915Z"
    }
   },
   "cell_type": "code",
   "source": [
    "label = \"label\"\n",
    "# In the paper, nodes belonging to the Sbox and Mixcolumns modules are labeled as 1\n",
    "\n",
    "class_values = sorted(nodeset[label].unique())\n",
    "class_idx = {name: id for id, name in enumerate(class_values)}\n",
    "paper_idx = {name: idx for idx, name in enumerate(sorted(nodeset[\"node_number\"].unique()))}\n",
    "\n",
    "nodeset[\"node_number\"] = nodeset[\"node_number\"].apply(lambda name: paper_idx[name])\n",
    "df[\"source\"] = df[\"source\"].apply(lambda name: paper_idx[name])\n",
    "df[\"target\"] = df[\"target\"].apply(lambda name: paper_idx[name])\n",
    "nodeset[label] = nodeset[label].apply(lambda value: class_idx[value])\n",
    "\n",
    "print(nodeset.label.value_counts())"
   ],
   "id": "584a63c56f0b16b",
   "outputs": [
    {
     "name": "stdout",
     "output_type": "stream",
     "text": [
      "label\n",
      "0    195\n",
      "1     32\n",
      "Name: count, dtype: int64\n"
     ]
    }
   ],
   "execution_count": 5
  },
  {
   "metadata": {
    "ExecuteTime": {
     "end_time": "2025-09-19T14:24:20.218073Z",
     "start_time": "2025-09-19T14:24:20.215822Z"
    }
   },
   "cell_type": "code",
   "source": [
    "train_data = nodeset.iloc[0:196]\n",
    "test_data = nodeset.iloc[196:]"
   ],
   "id": "aca38d45d1dfa300",
   "outputs": [],
   "execution_count": 6
  },
  {
   "metadata": {
    "ExecuteTime": {
     "end_time": "2025-09-19T14:24:20.252863Z",
     "start_time": "2025-09-19T14:24:20.251225Z"
    }
   },
   "cell_type": "code",
   "source": [
    "hidden_units = [32, 32]\n",
    "learning_rate = 0.0001\n",
    "dropout_rate = 0.3\n",
    "num_epochs = 32\n",
    "batch_size = 20"
   ],
   "id": "38498a430d4e29ec",
   "outputs": [],
   "execution_count": 7
  },
  {
   "metadata": {
    "ExecuteTime": {
     "end_time": "2025-09-19T14:24:20.343995Z",
     "start_time": "2025-09-19T14:24:20.314463Z"
    }
   },
   "cell_type": "code",
   "source": [
    "def run_experiment(model, x_train, y_train):\n",
    "    # Compile the model.\n",
    "    model.compile(\n",
    "        optimizer=keras.optimizers.Adam(learning_rate),\n",
    "        loss=keras.losses.BinaryCrossentropy(from_logits=False),\n",
    "        metrics=[keras.metrics.BinaryAccuracy(name=\"acc\"),\n",
    "keras.metrics.Precision(), keras.metrics.Recall()],\n",
    "    )\n",
    "    # Create an early stopping callback.\n",
    "    early_stopping = keras.callbacks.EarlyStopping(\n",
    "        monitor=\"val_acc\", patience=50, restore_best_weights=True\n",
    "    )\n",
    "    # Fit the model.\n",
    "    history = model.fit(\n",
    "        x=x_train,\n",
    "        y=y_train,\n",
    "        epochs=num_epochs,\n",
    "        batch_size=batch_size,\n",
    "        validation_split=0.10,\n",
    "        callbacks=[early_stopping],\n",
    "    )\n",
    "\n",
    "    return history"
   ],
   "id": "ee389b4d92939c2d",
   "outputs": [],
   "execution_count": 8
  },
  {
   "metadata": {
    "ExecuteTime": {
     "end_time": "2025-09-19T14:24:20.394960Z",
     "start_time": "2025-09-19T14:24:20.391808Z"
    }
   },
   "cell_type": "code",
   "source": [
    "def display_learning_curves(history):\n",
    "    fig, (ax1, ax2) = plt.subplots(1, 2, figsize=(15, 5))\n",
    "\n",
    "    ax1.plot(history.history[\"loss\"])\n",
    "    ax1.plot(history.history[\"val_loss\"])\n",
    "    ax1.legend([\"train\", \"test\"], loc=\"upper right\")\n",
    "    ax1.set_xlabel(\"Epochs\")\n",
    "    ax1.set_ylabel(\"Loss\")\n",
    "\n",
    "    ax2.plot(history.history[\"acc\"])\n",
    "    ax2.plot(history.history[\"val_acc\"])\n",
    "    ax2.legend([\"train\", \"test\"], loc=\"upper right\")\n",
    "    ax2.set_xlabel(\"Epochs\")\n",
    "    ax2.set_ylabel(\"Accuracy\")\n",
    "    plt.show()"
   ],
   "id": "db00035001c7a259",
   "outputs": [],
   "execution_count": 9
  },
  {
   "metadata": {
    "ExecuteTime": {
     "end_time": "2025-09-19T14:24:20.456548Z",
     "start_time": "2025-09-19T14:24:20.452357Z"
    }
   },
   "cell_type": "code",
   "source": [
    "def create_ffn(hidden_units, dropout_rate, name=None):\n",
    "    fnn_layers = []\n",
    "\n",
    "    for units in hidden_units:\n",
    "        fnn_layers.append(layers.BatchNormalization())\n",
    "        fnn_layers.append(layers.Dropout(dropout_rate))\n",
    "        fnn_layers.append(layers.Dense(units, activation=tf.nn.relu))\n",
    "\n",
    "    return keras.Sequential(fnn_layers, name=name)"
   ],
   "id": "537e489acd6562a4",
   "outputs": [],
   "execution_count": 10
  },
  {
   "metadata": {
    "ExecuteTime": {
     "end_time": "2025-09-19T14:24:20.504895Z",
     "start_time": "2025-09-19T14:24:20.497991Z"
    }
   },
   "cell_type": "code",
   "source": [
    "feature_names = set(nodeset.columns) - {\"node_number\", \"Node\", \"node\", label}\n",
    "# feature_names = feature_names - {\"and\", \"or\", \"xor\", \"mux\"}\n",
    "# feature_names = feature_names - {\"Hamming distance\"}\n",
    "# feature_names = feature_names - {\"Paths\"}\n",
    "# feature_names = feature_names - {\"Degree\"}\n",
    "feature_names = feature_names - {\"Noise\"}\n",
    "num_features = len(feature_names)\n",
    "num_classes = len(class_idx)\n",
    "\n",
    "print(train_data[list(feature_names)])\n",
    "# Create train and test features as a numpy array.\n",
    "x_train = train_data[list(feature_names)].to_numpy()\n",
    "x_test = test_data[list(feature_names)].to_numpy()\n",
    "#print(x_train)\n",
    "# Create train and test targets as a numpy array.\n",
    "y_train = train_data[label]\n",
    "y_test = test_data[label]"
   ],
   "id": "5bc80a83d9b0d489",
   "outputs": [
    {
     "name": "stdout",
     "output_type": "stream",
     "text": [
      "     or  Paths  mux  and  xor  Degree  Hamming distance\n",
      "0     0      0    0    0    0       2              1451\n",
      "1     0      0    0    0    1       1                 0\n",
      "2     0      1    0    0    0       2                 0\n",
      "3     0      0    0    0    0      16                 0\n",
      "4     0     31    0    0    0       2                 2\n",
      "..   ..    ...  ...  ...  ...     ...               ...\n",
      "191   0      0    0    0    0       2                 0\n",
      "192   0      0    0    0    1       1                 0\n",
      "193   0      0    1    0    1      18               368\n",
      "194   0    374    0    0    0       2                 0\n",
      "195   0      0    0    0    0       2                 0\n",
      "\n",
      "[196 rows x 7 columns]\n"
     ]
    }
   ],
   "execution_count": 11
  },
  {
   "metadata": {
    "ExecuteTime": {
     "end_time": "2025-09-19T14:24:24.878187Z",
     "start_time": "2025-09-19T14:24:20.563168Z"
    }
   },
   "cell_type": "code",
   "source": [
    "def create_baseline_model(hidden_units, num_classes, dropout_rate=0.2):\n",
    "    inputs = layers.Input(shape=(num_features,), name=\"input_features\")\n",
    "    x = create_ffn(hidden_units, dropout_rate, name=f\"ffn_block1\")(inputs)\n",
    "    for block_idx in range(4):\n",
    "        # Create an FFN block.\n",
    "        x1 = create_ffn(hidden_units, dropout_rate, name=f\"ffn_block{block_idx + 2}\")(x)\n",
    "        # Add skip connection.\n",
    "        x = layers.Add(name=f\"skip_connection{block_idx + 2}\")([x, x1])\n",
    "    # Compute logits.\n",
    "    logits = layers.Dense(num_classes-1, name=\"logits\")(x)\n",
    "    # Create the model.\n",
    "    return keras.Model(inputs=inputs, outputs=logits, name=\"baseline\")\n",
    "\n",
    "\n",
    "baseline_model = create_baseline_model(hidden_units, num_classes, dropout_rate)\n",
    "baseline_model.summary()\n",
    "\n",
    "history = run_experiment(baseline_model, x_train, y_train)"
   ],
   "id": "a540e91d81dc91c",
   "outputs": [
    {
     "data": {
      "text/plain": [
       "\u001B[1mModel: \"baseline\"\u001B[0m\n"
      ],
      "text/html": [
       "<pre style=\"white-space:pre;overflow-x:auto;line-height:normal;font-family:Menlo,'DejaVu Sans Mono',consolas,'Courier New',monospace\"><span style=\"font-weight: bold\">Model: \"baseline\"</span>\n",
       "</pre>\n"
      ]
     },
     "metadata": {},
     "output_type": "display_data"
    },
    {
     "data": {
      "text/plain": [
       "┏━━━━━━━━━━━━━━━━━━━━━┳━━━━━━━━━━━━━━━━━━━┳━━━━━━━━━━━━┳━━━━━━━━━━━━━━━━━━━┓\n",
       "┃\u001B[1m \u001B[0m\u001B[1mLayer (type)       \u001B[0m\u001B[1m \u001B[0m┃\u001B[1m \u001B[0m\u001B[1mOutput Shape     \u001B[0m\u001B[1m \u001B[0m┃\u001B[1m \u001B[0m\u001B[1m   Param #\u001B[0m\u001B[1m \u001B[0m┃\u001B[1m \u001B[0m\u001B[1mConnected to     \u001B[0m\u001B[1m \u001B[0m┃\n",
       "┡━━━━━━━━━━━━━━━━━━━━━╇━━━━━━━━━━━━━━━━━━━╇━━━━━━━━━━━━╇━━━━━━━━━━━━━━━━━━━┩\n",
       "│ input_features      │ (\u001B[38;5;45mNone\u001B[0m, \u001B[38;5;34m7\u001B[0m)         │          \u001B[38;5;34m0\u001B[0m │ -                 │\n",
       "│ (\u001B[38;5;33mInputLayer\u001B[0m)        │                   │            │                   │\n",
       "├─────────────────────┼───────────────────┼────────────┼───────────────────┤\n",
       "│ ffn_block1          │ (\u001B[38;5;45mNone\u001B[0m, \u001B[38;5;34m32\u001B[0m)        │      \u001B[38;5;34m1,468\u001B[0m │ input_features[\u001B[38;5;34m0\u001B[0m… │\n",
       "│ (\u001B[38;5;33mSequential\u001B[0m)        │                   │            │                   │\n",
       "├─────────────────────┼───────────────────┼────────────┼───────────────────┤\n",
       "│ ffn_block2          │ (\u001B[38;5;45mNone\u001B[0m, \u001B[38;5;34m32\u001B[0m)        │      \u001B[38;5;34m2,368\u001B[0m │ ffn_block1[\u001B[38;5;34m0\u001B[0m][\u001B[38;5;34m0\u001B[0m]  │\n",
       "│ (\u001B[38;5;33mSequential\u001B[0m)        │                   │            │                   │\n",
       "├─────────────────────┼───────────────────┼────────────┼───────────────────┤\n",
       "│ skip_connection2    │ (\u001B[38;5;45mNone\u001B[0m, \u001B[38;5;34m32\u001B[0m)        │          \u001B[38;5;34m0\u001B[0m │ ffn_block1[\u001B[38;5;34m0\u001B[0m][\u001B[38;5;34m0\u001B[0m], │\n",
       "│ (\u001B[38;5;33mAdd\u001B[0m)               │                   │            │ ffn_block2[\u001B[38;5;34m0\u001B[0m][\u001B[38;5;34m0\u001B[0m]  │\n",
       "├─────────────────────┼───────────────────┼────────────┼───────────────────┤\n",
       "│ ffn_block3          │ (\u001B[38;5;45mNone\u001B[0m, \u001B[38;5;34m32\u001B[0m)        │      \u001B[38;5;34m2,368\u001B[0m │ skip_connection2… │\n",
       "│ (\u001B[38;5;33mSequential\u001B[0m)        │                   │            │                   │\n",
       "├─────────────────────┼───────────────────┼────────────┼───────────────────┤\n",
       "│ skip_connection3    │ (\u001B[38;5;45mNone\u001B[0m, \u001B[38;5;34m32\u001B[0m)        │          \u001B[38;5;34m0\u001B[0m │ skip_connection2… │\n",
       "│ (\u001B[38;5;33mAdd\u001B[0m)               │                   │            │ ffn_block3[\u001B[38;5;34m0\u001B[0m][\u001B[38;5;34m0\u001B[0m]  │\n",
       "├─────────────────────┼───────────────────┼────────────┼───────────────────┤\n",
       "│ ffn_block4          │ (\u001B[38;5;45mNone\u001B[0m, \u001B[38;5;34m32\u001B[0m)        │      \u001B[38;5;34m2,368\u001B[0m │ skip_connection3… │\n",
       "│ (\u001B[38;5;33mSequential\u001B[0m)        │                   │            │                   │\n",
       "├─────────────────────┼───────────────────┼────────────┼───────────────────┤\n",
       "│ skip_connection4    │ (\u001B[38;5;45mNone\u001B[0m, \u001B[38;5;34m32\u001B[0m)        │          \u001B[38;5;34m0\u001B[0m │ skip_connection3… │\n",
       "│ (\u001B[38;5;33mAdd\u001B[0m)               │                   │            │ ffn_block4[\u001B[38;5;34m0\u001B[0m][\u001B[38;5;34m0\u001B[0m]  │\n",
       "├─────────────────────┼───────────────────┼────────────┼───────────────────┤\n",
       "│ ffn_block5          │ (\u001B[38;5;45mNone\u001B[0m, \u001B[38;5;34m32\u001B[0m)        │      \u001B[38;5;34m2,368\u001B[0m │ skip_connection4… │\n",
       "│ (\u001B[38;5;33mSequential\u001B[0m)        │                   │            │                   │\n",
       "├─────────────────────┼───────────────────┼────────────┼───────────────────┤\n",
       "│ skip_connection5    │ (\u001B[38;5;45mNone\u001B[0m, \u001B[38;5;34m32\u001B[0m)        │          \u001B[38;5;34m0\u001B[0m │ skip_connection4… │\n",
       "│ (\u001B[38;5;33mAdd\u001B[0m)               │                   │            │ ffn_block5[\u001B[38;5;34m0\u001B[0m][\u001B[38;5;34m0\u001B[0m]  │\n",
       "├─────────────────────┼───────────────────┼────────────┼───────────────────┤\n",
       "│ logits (\u001B[38;5;33mDense\u001B[0m)      │ (\u001B[38;5;45mNone\u001B[0m, \u001B[38;5;34m1\u001B[0m)         │         \u001B[38;5;34m33\u001B[0m │ skip_connection5… │\n",
       "└─────────────────────┴───────────────────┴────────────┴───────────────────┘\n"
      ],
      "text/html": [
       "<pre style=\"white-space:pre;overflow-x:auto;line-height:normal;font-family:Menlo,'DejaVu Sans Mono',consolas,'Courier New',monospace\">┏━━━━━━━━━━━━━━━━━━━━━┳━━━━━━━━━━━━━━━━━━━┳━━━━━━━━━━━━┳━━━━━━━━━━━━━━━━━━━┓\n",
       "┃<span style=\"font-weight: bold\"> Layer (type)        </span>┃<span style=\"font-weight: bold\"> Output Shape      </span>┃<span style=\"font-weight: bold\">    Param # </span>┃<span style=\"font-weight: bold\"> Connected to      </span>┃\n",
       "┡━━━━━━━━━━━━━━━━━━━━━╇━━━━━━━━━━━━━━━━━━━╇━━━━━━━━━━━━╇━━━━━━━━━━━━━━━━━━━┩\n",
       "│ input_features      │ (<span style=\"color: #00d7ff; text-decoration-color: #00d7ff\">None</span>, <span style=\"color: #00af00; text-decoration-color: #00af00\">7</span>)         │          <span style=\"color: #00af00; text-decoration-color: #00af00\">0</span> │ -                 │\n",
       "│ (<span style=\"color: #0087ff; text-decoration-color: #0087ff\">InputLayer</span>)        │                   │            │                   │\n",
       "├─────────────────────┼───────────────────┼────────────┼───────────────────┤\n",
       "│ ffn_block1          │ (<span style=\"color: #00d7ff; text-decoration-color: #00d7ff\">None</span>, <span style=\"color: #00af00; text-decoration-color: #00af00\">32</span>)        │      <span style=\"color: #00af00; text-decoration-color: #00af00\">1,468</span> │ input_features[<span style=\"color: #00af00; text-decoration-color: #00af00\">0</span>… │\n",
       "│ (<span style=\"color: #0087ff; text-decoration-color: #0087ff\">Sequential</span>)        │                   │            │                   │\n",
       "├─────────────────────┼───────────────────┼────────────┼───────────────────┤\n",
       "│ ffn_block2          │ (<span style=\"color: #00d7ff; text-decoration-color: #00d7ff\">None</span>, <span style=\"color: #00af00; text-decoration-color: #00af00\">32</span>)        │      <span style=\"color: #00af00; text-decoration-color: #00af00\">2,368</span> │ ffn_block1[<span style=\"color: #00af00; text-decoration-color: #00af00\">0</span>][<span style=\"color: #00af00; text-decoration-color: #00af00\">0</span>]  │\n",
       "│ (<span style=\"color: #0087ff; text-decoration-color: #0087ff\">Sequential</span>)        │                   │            │                   │\n",
       "├─────────────────────┼───────────────────┼────────────┼───────────────────┤\n",
       "│ skip_connection2    │ (<span style=\"color: #00d7ff; text-decoration-color: #00d7ff\">None</span>, <span style=\"color: #00af00; text-decoration-color: #00af00\">32</span>)        │          <span style=\"color: #00af00; text-decoration-color: #00af00\">0</span> │ ffn_block1[<span style=\"color: #00af00; text-decoration-color: #00af00\">0</span>][<span style=\"color: #00af00; text-decoration-color: #00af00\">0</span>], │\n",
       "│ (<span style=\"color: #0087ff; text-decoration-color: #0087ff\">Add</span>)               │                   │            │ ffn_block2[<span style=\"color: #00af00; text-decoration-color: #00af00\">0</span>][<span style=\"color: #00af00; text-decoration-color: #00af00\">0</span>]  │\n",
       "├─────────────────────┼───────────────────┼────────────┼───────────────────┤\n",
       "│ ffn_block3          │ (<span style=\"color: #00d7ff; text-decoration-color: #00d7ff\">None</span>, <span style=\"color: #00af00; text-decoration-color: #00af00\">32</span>)        │      <span style=\"color: #00af00; text-decoration-color: #00af00\">2,368</span> │ skip_connection2… │\n",
       "│ (<span style=\"color: #0087ff; text-decoration-color: #0087ff\">Sequential</span>)        │                   │            │                   │\n",
       "├─────────────────────┼───────────────────┼────────────┼───────────────────┤\n",
       "│ skip_connection3    │ (<span style=\"color: #00d7ff; text-decoration-color: #00d7ff\">None</span>, <span style=\"color: #00af00; text-decoration-color: #00af00\">32</span>)        │          <span style=\"color: #00af00; text-decoration-color: #00af00\">0</span> │ skip_connection2… │\n",
       "│ (<span style=\"color: #0087ff; text-decoration-color: #0087ff\">Add</span>)               │                   │            │ ffn_block3[<span style=\"color: #00af00; text-decoration-color: #00af00\">0</span>][<span style=\"color: #00af00; text-decoration-color: #00af00\">0</span>]  │\n",
       "├─────────────────────┼───────────────────┼────────────┼───────────────────┤\n",
       "│ ffn_block4          │ (<span style=\"color: #00d7ff; text-decoration-color: #00d7ff\">None</span>, <span style=\"color: #00af00; text-decoration-color: #00af00\">32</span>)        │      <span style=\"color: #00af00; text-decoration-color: #00af00\">2,368</span> │ skip_connection3… │\n",
       "│ (<span style=\"color: #0087ff; text-decoration-color: #0087ff\">Sequential</span>)        │                   │            │                   │\n",
       "├─────────────────────┼───────────────────┼────────────┼───────────────────┤\n",
       "│ skip_connection4    │ (<span style=\"color: #00d7ff; text-decoration-color: #00d7ff\">None</span>, <span style=\"color: #00af00; text-decoration-color: #00af00\">32</span>)        │          <span style=\"color: #00af00; text-decoration-color: #00af00\">0</span> │ skip_connection3… │\n",
       "│ (<span style=\"color: #0087ff; text-decoration-color: #0087ff\">Add</span>)               │                   │            │ ffn_block4[<span style=\"color: #00af00; text-decoration-color: #00af00\">0</span>][<span style=\"color: #00af00; text-decoration-color: #00af00\">0</span>]  │\n",
       "├─────────────────────┼───────────────────┼────────────┼───────────────────┤\n",
       "│ ffn_block5          │ (<span style=\"color: #00d7ff; text-decoration-color: #00d7ff\">None</span>, <span style=\"color: #00af00; text-decoration-color: #00af00\">32</span>)        │      <span style=\"color: #00af00; text-decoration-color: #00af00\">2,368</span> │ skip_connection4… │\n",
       "│ (<span style=\"color: #0087ff; text-decoration-color: #0087ff\">Sequential</span>)        │                   │            │                   │\n",
       "├─────────────────────┼───────────────────┼────────────┼───────────────────┤\n",
       "│ skip_connection5    │ (<span style=\"color: #00d7ff; text-decoration-color: #00d7ff\">None</span>, <span style=\"color: #00af00; text-decoration-color: #00af00\">32</span>)        │          <span style=\"color: #00af00; text-decoration-color: #00af00\">0</span> │ skip_connection4… │\n",
       "│ (<span style=\"color: #0087ff; text-decoration-color: #0087ff\">Add</span>)               │                   │            │ ffn_block5[<span style=\"color: #00af00; text-decoration-color: #00af00\">0</span>][<span style=\"color: #00af00; text-decoration-color: #00af00\">0</span>]  │\n",
       "├─────────────────────┼───────────────────┼────────────┼───────────────────┤\n",
       "│ logits (<span style=\"color: #0087ff; text-decoration-color: #0087ff\">Dense</span>)      │ (<span style=\"color: #00d7ff; text-decoration-color: #00d7ff\">None</span>, <span style=\"color: #00af00; text-decoration-color: #00af00\">1</span>)         │         <span style=\"color: #00af00; text-decoration-color: #00af00\">33</span> │ skip_connection5… │\n",
       "└─────────────────────┴───────────────────┴────────────┴───────────────────┘\n",
       "</pre>\n"
      ]
     },
     "metadata": {},
     "output_type": "display_data"
    },
    {
     "data": {
      "text/plain": [
       "\u001B[1m Total params: \u001B[0m\u001B[38;5;34m10,973\u001B[0m (42.86 KB)\n"
      ],
      "text/html": [
       "<pre style=\"white-space:pre;overflow-x:auto;line-height:normal;font-family:Menlo,'DejaVu Sans Mono',consolas,'Courier New',monospace\"><span style=\"font-weight: bold\"> Total params: </span><span style=\"color: #00af00; text-decoration-color: #00af00\">10,973</span> (42.86 KB)\n",
       "</pre>\n"
      ]
     },
     "metadata": {},
     "output_type": "display_data"
    },
    {
     "data": {
      "text/plain": [
       "\u001B[1m Trainable params: \u001B[0m\u001B[38;5;34m10,383\u001B[0m (40.56 KB)\n"
      ],
      "text/html": [
       "<pre style=\"white-space:pre;overflow-x:auto;line-height:normal;font-family:Menlo,'DejaVu Sans Mono',consolas,'Courier New',monospace\"><span style=\"font-weight: bold\"> Trainable params: </span><span style=\"color: #00af00; text-decoration-color: #00af00\">10,383</span> (40.56 KB)\n",
       "</pre>\n"
      ]
     },
     "metadata": {},
     "output_type": "display_data"
    },
    {
     "data": {
      "text/plain": [
       "\u001B[1m Non-trainable params: \u001B[0m\u001B[38;5;34m590\u001B[0m (2.30 KB)\n"
      ],
      "text/html": [
       "<pre style=\"white-space:pre;overflow-x:auto;line-height:normal;font-family:Menlo,'DejaVu Sans Mono',consolas,'Courier New',monospace\"><span style=\"font-weight: bold\"> Non-trainable params: </span><span style=\"color: #00af00; text-decoration-color: #00af00\">590</span> (2.30 KB)\n",
       "</pre>\n"
      ]
     },
     "metadata": {},
     "output_type": "display_data"
    },
    {
     "name": "stdout",
     "output_type": "stream",
     "text": [
      "Epoch 1/32\n",
      "\u001B[1m9/9\u001B[0m \u001B[32m━━━━━━━━━━━━━━━━━━━━\u001B[0m\u001B[37m\u001B[0m \u001B[1m3s\u001B[0m 30ms/step - acc: 0.3667 - loss: 9.0169 - precision: 0.1888 - recall: 0.9161 - val_acc: 0.4000 - val_loss: 5.5764 - val_precision: 0.0000e+00 - val_recall: 0.0000e+00\n",
      "Epoch 2/32\n",
      "\u001B[1m9/9\u001B[0m \u001B[32m━━━━━━━━━━━━━━━━━━━━\u001B[0m\u001B[37m\u001B[0m \u001B[1m0s\u001B[0m 6ms/step - acc: 0.3693 - loss: 8.8664 - precision: 0.1386 - recall: 0.7767 - val_acc: 0.4500 - val_loss: 5.5819 - val_precision: 0.0000e+00 - val_recall: 0.0000e+00\n",
      "Epoch 3/32\n",
      "\u001B[1m9/9\u001B[0m \u001B[32m━━━━━━━━━━━━━━━━━━━━\u001B[0m\u001B[37m\u001B[0m \u001B[1m0s\u001B[0m 5ms/step - acc: 0.3317 - loss: 8.9991 - precision: 0.1472 - recall: 0.7351 - val_acc: 0.4500 - val_loss: 4.2165 - val_precision: 0.0000e+00 - val_recall: 0.0000e+00\n",
      "Epoch 4/32\n",
      "\u001B[1m9/9\u001B[0m \u001B[32m━━━━━━━━━━━━━━━━━━━━\u001B[0m\u001B[37m\u001B[0m \u001B[1m0s\u001B[0m 3ms/step - acc: 0.3756 - loss: 8.7993 - precision: 0.1500 - recall: 0.7758 - val_acc: 0.4000 - val_loss: 4.0573 - val_precision: 0.0000e+00 - val_recall: 0.0000e+00\n",
      "Epoch 5/32\n",
      "\u001B[1m9/9\u001B[0m \u001B[32m━━━━━━━━━━━━━━━━━━━━\u001B[0m\u001B[37m\u001B[0m \u001B[1m0s\u001B[0m 3ms/step - acc: 0.3990 - loss: 8.2345 - precision: 0.2021 - recall: 0.8445 - val_acc: 0.4500 - val_loss: 4.5816 - val_precision: 0.0000e+00 - val_recall: 0.0000e+00\n",
      "Epoch 6/32\n",
      "\u001B[1m9/9\u001B[0m \u001B[32m━━━━━━━━━━━━━━━━━━━━\u001B[0m\u001B[37m\u001B[0m \u001B[1m0s\u001B[0m 3ms/step - acc: 0.3852 - loss: 8.7368 - precision: 0.1759 - recall: 0.7811 - val_acc: 0.3500 - val_loss: 4.5973 - val_precision: 0.0000e+00 - val_recall: 0.0000e+00\n",
      "Epoch 7/32\n",
      "\u001B[1m9/9\u001B[0m \u001B[32m━━━━━━━━━━━━━━━━━━━━\u001B[0m\u001B[37m\u001B[0m \u001B[1m0s\u001B[0m 3ms/step - acc: 0.3991 - loss: 7.3876 - precision: 0.1731 - recall: 0.9063 - val_acc: 0.5000 - val_loss: 4.6126 - val_precision: 0.2308 - val_recall: 1.0000\n",
      "Epoch 8/32\n",
      "\u001B[1m9/9\u001B[0m \u001B[32m━━━━━━━━━━━━━━━━━━━━\u001B[0m\u001B[37m\u001B[0m \u001B[1m0s\u001B[0m 3ms/step - acc: 0.3045 - loss: 9.3830 - precision: 0.1315 - recall: 0.6848 - val_acc: 0.4500 - val_loss: 4.6019 - val_precision: 0.2143 - val_recall: 1.0000\n",
      "Epoch 9/32\n",
      "\u001B[1m9/9\u001B[0m \u001B[32m━━━━━━━━━━━━━━━━━━━━\u001B[0m\u001B[37m\u001B[0m \u001B[1m0s\u001B[0m 3ms/step - acc: 0.3214 - loss: 9.0327 - precision: 0.1544 - recall: 0.6521 - val_acc: 0.3500 - val_loss: 4.5937 - val_precision: 0.1875 - val_recall: 1.0000\n",
      "Epoch 10/32\n",
      "\u001B[1m9/9\u001B[0m \u001B[32m━━━━━━━━━━━━━━━━━━━━\u001B[0m\u001B[37m\u001B[0m \u001B[1m0s\u001B[0m 3ms/step - acc: 0.3536 - loss: 8.4102 - precision: 0.1537 - recall: 0.7877 - val_acc: 0.1500 - val_loss: 4.5930 - val_precision: 0.1500 - val_recall: 1.0000\n",
      "Epoch 11/32\n",
      "\u001B[1m9/9\u001B[0m \u001B[32m━━━━━━━━━━━━━━━━━━━━\u001B[0m\u001B[37m\u001B[0m \u001B[1m0s\u001B[0m 3ms/step - acc: 0.3587 - loss: 8.5316 - precision: 0.1173 - recall: 0.5883 - val_acc: 0.1500 - val_loss: 4.6025 - val_precision: 0.1500 - val_recall: 1.0000\n",
      "Epoch 12/32\n",
      "\u001B[1m9/9\u001B[0m \u001B[32m━━━━━━━━━━━━━━━━━━━━\u001B[0m\u001B[37m\u001B[0m \u001B[1m0s\u001B[0m 3ms/step - acc: 0.3402 - loss: 8.5652 - precision: 0.1290 - recall: 0.6702 - val_acc: 0.1500 - val_loss: 4.6392 - val_precision: 0.1500 - val_recall: 1.0000\n",
      "Epoch 13/32\n",
      "\u001B[1m9/9\u001B[0m \u001B[32m━━━━━━━━━━━━━━━━━━━━\u001B[0m\u001B[37m\u001B[0m \u001B[1m0s\u001B[0m 3ms/step - acc: 0.3990 - loss: 7.8913 - precision: 0.1423 - recall: 0.7933 - val_acc: 0.1500 - val_loss: 4.6493 - val_precision: 0.1500 - val_recall: 1.0000\n",
      "Epoch 14/32\n",
      "\u001B[1m9/9\u001B[0m \u001B[32m━━━━━━━━━━━━━━━━━━━━\u001B[0m\u001B[37m\u001B[0m \u001B[1m0s\u001B[0m 3ms/step - acc: 0.4246 - loss: 8.2668 - precision: 0.1604 - recall: 0.6161 - val_acc: 0.1500 - val_loss: 4.0599 - val_precision: 0.1500 - val_recall: 1.0000\n",
      "Epoch 15/32\n",
      "\u001B[1m9/9\u001B[0m \u001B[32m━━━━━━━━━━━━━━━━━━━━\u001B[0m\u001B[37m\u001B[0m \u001B[1m0s\u001B[0m 3ms/step - acc: 0.4451 - loss: 7.7431 - precision: 0.1828 - recall: 0.8501 - val_acc: 0.1500 - val_loss: 3.9806 - val_precision: 0.1500 - val_recall: 1.0000\n",
      "Epoch 16/32\n",
      "\u001B[1m9/9\u001B[0m \u001B[32m━━━━━━━━━━━━━━━━━━━━\u001B[0m\u001B[37m\u001B[0m \u001B[1m0s\u001B[0m 3ms/step - acc: 0.3608 - loss: 8.2620 - precision: 0.0997 - recall: 0.5245 - val_acc: 0.3000 - val_loss: 3.9043 - val_precision: 0.1765 - val_recall: 1.0000\n",
      "Epoch 17/32\n",
      "\u001B[1m9/9\u001B[0m \u001B[32m━━━━━━━━━━━━━━━━━━━━\u001B[0m\u001B[37m\u001B[0m \u001B[1m0s\u001B[0m 3ms/step - acc: 0.3673 - loss: 8.2285 - precision: 0.1368 - recall: 0.5275 - val_acc: 0.3000 - val_loss: 3.8839 - val_precision: 0.1765 - val_recall: 1.0000\n",
      "Epoch 18/32\n",
      "\u001B[1m9/9\u001B[0m \u001B[32m━━━━━━━━━━━━━━━━━━━━\u001B[0m\u001B[37m\u001B[0m \u001B[1m0s\u001B[0m 3ms/step - acc: 0.4221 - loss: 8.0431 - precision: 0.1521 - recall: 0.6291 - val_acc: 0.3000 - val_loss: 3.9314 - val_precision: 0.1765 - val_recall: 1.0000\n",
      "Epoch 19/32\n",
      "\u001B[1m9/9\u001B[0m \u001B[32m━━━━━━━━━━━━━━━━━━━━\u001B[0m\u001B[37m\u001B[0m \u001B[1m0s\u001B[0m 3ms/step - acc: 0.4452 - loss: 7.4199 - precision: 0.1768 - recall: 0.7076 - val_acc: 0.3000 - val_loss: 3.9728 - val_precision: 0.1765 - val_recall: 1.0000\n",
      "Epoch 20/32\n",
      "\u001B[1m9/9\u001B[0m \u001B[32m━━━━━━━━━━━━━━━━━━━━\u001B[0m\u001B[37m\u001B[0m \u001B[1m0s\u001B[0m 3ms/step - acc: 0.5007 - loss: 6.9090 - precision: 0.2251 - recall: 0.7551 - val_acc: 0.2500 - val_loss: 4.6000 - val_precision: 0.1667 - val_recall: 1.0000\n",
      "Epoch 21/32\n",
      "\u001B[1m9/9\u001B[0m \u001B[32m━━━━━━━━━━━━━━━━━━━━\u001B[0m\u001B[37m\u001B[0m \u001B[1m0s\u001B[0m 3ms/step - acc: 0.4129 - loss: 7.7419 - precision: 0.1473 - recall: 0.6318 - val_acc: 0.2500 - val_loss: 4.6609 - val_precision: 0.1667 - val_recall: 1.0000\n",
      "Epoch 22/32\n",
      "\u001B[1m9/9\u001B[0m \u001B[32m━━━━━━━━━━━━━━━━━━━━\u001B[0m\u001B[37m\u001B[0m \u001B[1m0s\u001B[0m 5ms/step - acc: 0.4365 - loss: 7.8600 - precision: 0.1731 - recall: 0.7545 - val_acc: 0.2500 - val_loss: 4.7033 - val_precision: 0.1667 - val_recall: 1.0000\n",
      "Epoch 23/32\n",
      "\u001B[1m9/9\u001B[0m \u001B[32m━━━━━━━━━━━━━━━━━━━━\u001B[0m\u001B[37m\u001B[0m \u001B[1m0s\u001B[0m 4ms/step - acc: 0.4542 - loss: 6.9478 - precision: 0.1769 - recall: 0.7742 - val_acc: 0.4500 - val_loss: 4.6892 - val_precision: 0.2143 - val_recall: 1.0000\n",
      "Epoch 24/32\n",
      "\u001B[1m9/9\u001B[0m \u001B[32m━━━━━━━━━━━━━━━━━━━━\u001B[0m\u001B[37m\u001B[0m \u001B[1m0s\u001B[0m 4ms/step - acc: 0.4020 - loss: 8.6419 - precision: 0.1602 - recall: 0.6702 - val_acc: 0.4500 - val_loss: 4.6789 - val_precision: 0.2143 - val_recall: 1.0000\n",
      "Epoch 25/32\n",
      "\u001B[1m9/9\u001B[0m \u001B[32m━━━━━━━━━━━━━━━━━━━━\u001B[0m\u001B[37m\u001B[0m \u001B[1m0s\u001B[0m 4ms/step - acc: 0.3652 - loss: 7.9933 - precision: 0.1084 - recall: 0.4503 - val_acc: 0.4500 - val_loss: 4.6190 - val_precision: 0.2143 - val_recall: 1.0000\n",
      "Epoch 26/32\n",
      "\u001B[1m9/9\u001B[0m \u001B[32m━━━━━━━━━━━━━━━━━━━━\u001B[0m\u001B[37m\u001B[0m \u001B[1m0s\u001B[0m 4ms/step - acc: 0.4001 - loss: 7.7171 - precision: 0.1660 - recall: 0.6149 - val_acc: 0.4500 - val_loss: 4.6996 - val_precision: 0.2143 - val_recall: 1.0000\n",
      "Epoch 27/32\n",
      "\u001B[1m9/9\u001B[0m \u001B[32m━━━━━━━━━━━━━━━━━━━━\u001B[0m\u001B[37m\u001B[0m \u001B[1m0s\u001B[0m 3ms/step - acc: 0.4710 - loss: 7.3671 - precision: 0.1472 - recall: 0.4891 - val_acc: 0.4500 - val_loss: 4.7325 - val_precision: 0.2143 - val_recall: 1.0000\n",
      "Epoch 28/32\n",
      "\u001B[1m9/9\u001B[0m \u001B[32m━━━━━━━━━━━━━━━━━━━━\u001B[0m\u001B[37m\u001B[0m \u001B[1m0s\u001B[0m 3ms/step - acc: 0.4842 - loss: 7.4896 - precision: 0.1964 - recall: 0.7736 - val_acc: 0.5000 - val_loss: 4.5976 - val_precision: 0.2308 - val_recall: 1.0000\n",
      "Epoch 29/32\n",
      "\u001B[1m9/9\u001B[0m \u001B[32m━━━━━━━━━━━━━━━━━━━━\u001B[0m\u001B[37m\u001B[0m \u001B[1m0s\u001B[0m 3ms/step - acc: 0.4526 - loss: 7.4772 - precision: 0.1178 - recall: 0.7137 - val_acc: 0.5000 - val_loss: 4.6137 - val_precision: 0.2308 - val_recall: 1.0000\n",
      "Epoch 30/32\n",
      "\u001B[1m9/9\u001B[0m \u001B[32m━━━━━━━━━━━━━━━━━━━━\u001B[0m\u001B[37m\u001B[0m \u001B[1m0s\u001B[0m 3ms/step - acc: 0.4157 - loss: 7.6963 - precision: 0.1592 - recall: 0.6715 - val_acc: 0.5000 - val_loss: 4.5410 - val_precision: 0.2308 - val_recall: 1.0000\n",
      "Epoch 31/32\n",
      "\u001B[1m9/9\u001B[0m \u001B[32m━━━━━━━━━━━━━━━━━━━━\u001B[0m\u001B[37m\u001B[0m \u001B[1m0s\u001B[0m 3ms/step - acc: 0.4544 - loss: 6.9210 - precision: 0.1907 - recall: 0.5809 - val_acc: 0.5000 - val_loss: 4.4926 - val_precision: 0.2308 - val_recall: 1.0000\n",
      "Epoch 32/32\n",
      "\u001B[1m9/9\u001B[0m \u001B[32m━━━━━━━━━━━━━━━━━━━━\u001B[0m\u001B[37m\u001B[0m \u001B[1m0s\u001B[0m 3ms/step - acc: 0.4505 - loss: 7.2404 - precision: 0.1418 - recall: 0.5657 - val_acc: 0.5000 - val_loss: 4.5626 - val_precision: 0.2308 - val_recall: 1.0000\n"
     ]
    }
   ],
   "execution_count": 12
  },
  {
   "metadata": {
    "ExecuteTime": {
     "end_time": "2025-09-19T14:24:24.896973Z",
     "start_time": "2025-09-19T14:24:24.891253Z"
    }
   },
   "cell_type": "code",
   "source": [
    "# Create an edges array (sparse adjacency matrix) of shape [2, num_edges].\n",
    "edges = df[[\"source\", \"target\"]].to_numpy().T\n",
    "edge_weights = tf.ones(shape=edges.shape[1])\n",
    "\n",
    "node_features = tf.cast(\n",
    "    nodeset.sort_values(\"node_number\")[list(feature_names)].to_numpy(), dtype=tf.dtypes.float32\n",
    ")\n",
    "# Create graph with node features, edges, and edge_weights.\n",
    "graph_info = (node_features, edges, edge_weights)\n",
    "\n",
    "print(\"Edges shape:\", edges.shape)\n",
    "print(\"Nodes shape:\", node_features.shape)\n",
    "graph_info"
   ],
   "id": "f869046a4e5395a8",
   "outputs": [
    {
     "name": "stdout",
     "output_type": "stream",
     "text": [
      "Edges shape: (2, 556)\n",
      "Nodes shape: (227, 7)\n"
     ]
    },
    {
     "data": {
      "text/plain": [
       "(<tf.Tensor: shape=(227, 7), dtype=float32, numpy=\n",
       " array([[0.000e+00, 0.000e+00, 0.000e+00, ..., 0.000e+00, 2.000e+00,\n",
       "         1.451e+03],\n",
       "        [0.000e+00, 0.000e+00, 0.000e+00, ..., 1.000e+00, 1.000e+00,\n",
       "         0.000e+00],\n",
       "        [0.000e+00, 1.000e+00, 0.000e+00, ..., 0.000e+00, 2.000e+00,\n",
       "         0.000e+00],\n",
       "        ...,\n",
       "        [0.000e+00, 0.000e+00, 0.000e+00, ..., 0.000e+00, 3.000e+00,\n",
       "         0.000e+00],\n",
       "        [0.000e+00, 5.100e+01, 0.000e+00, ..., 0.000e+00, 2.000e+00,\n",
       "         8.000e+00],\n",
       "        [0.000e+00, 5.100e+01, 0.000e+00, ..., 0.000e+00, 2.000e+00,\n",
       "         8.000e+00]], dtype=float32)>,\n",
       " array([[ 71,  31, 119, ..., 220, 146, 133],\n",
       "        [ 51, 101, 138, ..., 144,  63,  52]]),\n",
       " <tf.Tensor: shape=(556,), dtype=float32, numpy=\n",
       " array([1., 1., 1., 1., 1., 1., 1., 1., 1., 1., 1., 1., 1., 1., 1., 1., 1.,\n",
       "        1., 1., 1., 1., 1., 1., 1., 1., 1., 1., 1., 1., 1., 1., 1., 1., 1.,\n",
       "        1., 1., 1., 1., 1., 1., 1., 1., 1., 1., 1., 1., 1., 1., 1., 1., 1.,\n",
       "        1., 1., 1., 1., 1., 1., 1., 1., 1., 1., 1., 1., 1., 1., 1., 1., 1.,\n",
       "        1., 1., 1., 1., 1., 1., 1., 1., 1., 1., 1., 1., 1., 1., 1., 1., 1.,\n",
       "        1., 1., 1., 1., 1., 1., 1., 1., 1., 1., 1., 1., 1., 1., 1., 1., 1.,\n",
       "        1., 1., 1., 1., 1., 1., 1., 1., 1., 1., 1., 1., 1., 1., 1., 1., 1.,\n",
       "        1., 1., 1., 1., 1., 1., 1., 1., 1., 1., 1., 1., 1., 1., 1., 1., 1.,\n",
       "        1., 1., 1., 1., 1., 1., 1., 1., 1., 1., 1., 1., 1., 1., 1., 1., 1.,\n",
       "        1., 1., 1., 1., 1., 1., 1., 1., 1., 1., 1., 1., 1., 1., 1., 1., 1.,\n",
       "        1., 1., 1., 1., 1., 1., 1., 1., 1., 1., 1., 1., 1., 1., 1., 1., 1.,\n",
       "        1., 1., 1., 1., 1., 1., 1., 1., 1., 1., 1., 1., 1., 1., 1., 1., 1.,\n",
       "        1., 1., 1., 1., 1., 1., 1., 1., 1., 1., 1., 1., 1., 1., 1., 1., 1.,\n",
       "        1., 1., 1., 1., 1., 1., 1., 1., 1., 1., 1., 1., 1., 1., 1., 1., 1.,\n",
       "        1., 1., 1., 1., 1., 1., 1., 1., 1., 1., 1., 1., 1., 1., 1., 1., 1.,\n",
       "        1., 1., 1., 1., 1., 1., 1., 1., 1., 1., 1., 1., 1., 1., 1., 1., 1.,\n",
       "        1., 1., 1., 1., 1., 1., 1., 1., 1., 1., 1., 1., 1., 1., 1., 1., 1.,\n",
       "        1., 1., 1., 1., 1., 1., 1., 1., 1., 1., 1., 1., 1., 1., 1., 1., 1.,\n",
       "        1., 1., 1., 1., 1., 1., 1., 1., 1., 1., 1., 1., 1., 1., 1., 1., 1.,\n",
       "        1., 1., 1., 1., 1., 1., 1., 1., 1., 1., 1., 1., 1., 1., 1., 1., 1.,\n",
       "        1., 1., 1., 1., 1., 1., 1., 1., 1., 1., 1., 1., 1., 1., 1., 1., 1.,\n",
       "        1., 1., 1., 1., 1., 1., 1., 1., 1., 1., 1., 1., 1., 1., 1., 1., 1.,\n",
       "        1., 1., 1., 1., 1., 1., 1., 1., 1., 1., 1., 1., 1., 1., 1., 1., 1.,\n",
       "        1., 1., 1., 1., 1., 1., 1., 1., 1., 1., 1., 1., 1., 1., 1., 1., 1.,\n",
       "        1., 1., 1., 1., 1., 1., 1., 1., 1., 1., 1., 1., 1., 1., 1., 1., 1.,\n",
       "        1., 1., 1., 1., 1., 1., 1., 1., 1., 1., 1., 1., 1., 1., 1., 1., 1.,\n",
       "        1., 1., 1., 1., 1., 1., 1., 1., 1., 1., 1., 1., 1., 1., 1., 1., 1.,\n",
       "        1., 1., 1., 1., 1., 1., 1., 1., 1., 1., 1., 1., 1., 1., 1., 1., 1.,\n",
       "        1., 1., 1., 1., 1., 1., 1., 1., 1., 1., 1., 1., 1., 1., 1., 1., 1.,\n",
       "        1., 1., 1., 1., 1., 1., 1., 1., 1., 1., 1., 1., 1., 1., 1., 1., 1.,\n",
       "        1., 1., 1., 1., 1., 1., 1., 1., 1., 1., 1., 1., 1., 1., 1., 1., 1.,\n",
       "        1., 1., 1., 1., 1., 1., 1., 1., 1., 1., 1., 1., 1., 1., 1., 1., 1.,\n",
       "        1., 1., 1., 1., 1., 1., 1., 1., 1., 1., 1., 1.], dtype=float32)>)"
      ]
     },
     "execution_count": 13,
     "metadata": {},
     "output_type": "execute_result"
    }
   ],
   "execution_count": 13
  },
  {
   "metadata": {
    "ExecuteTime": {
     "end_time": "2025-09-19T14:24:24.934957Z",
     "start_time": "2025-09-19T14:24:24.928770Z"
    }
   },
   "cell_type": "code",
   "source": [
    "class GraphConvLayer(layers.Layer):\n",
    "    def __init__(\n",
    "        self,\n",
    "        hidden_units,\n",
    "        dropout_rate=0.3,\n",
    "        aggregation_type=\"mean\",\n",
    "        combination_type=\"concat\",\n",
    "        normalize=False,\n",
    "        *args,\n",
    "        **kwargs,\n",
    "    ):\n",
    "        super().__init__(*args, **kwargs)\n",
    "\n",
    "        self.aggregation_type = aggregation_type\n",
    "        self.combination_type = combination_type\n",
    "        self.normalize = normalize\n",
    "\n",
    "        self.ffn_prepare = create_ffn(hidden_units, dropout_rate)\n",
    "        if self.combination_type == \"gated\":\n",
    "            self.update_fn = layers.GRU(\n",
    "                units=hidden_units,\n",
    "                activation=\"tanh\",\n",
    "                recurrent_activation=\"sigmoid\",\n",
    "                dropout=dropout_rate,\n",
    "                return_state=True,\n",
    "                recurrent_dropout=dropout_rate,\n",
    "            )\n",
    "        else:\n",
    "            self.update_fn = create_ffn(hidden_units, dropout_rate)\n",
    "\n",
    "    def prepare(self, node_repesentations, weights=None):\n",
    "        # node_repesentations shape is [num_edges, embedding_dim].\n",
    "        messages = self.ffn_prepare(node_repesentations)\n",
    "        if weights is not None:\n",
    "            messages = messages * tf.expand_dims(weights, -1)\n",
    "        return messages\n",
    "\n",
    "    def aggregate(self, node_indices, neighbour_messages, node_repesentations):\n",
    "\n",
    "        num_nodes = node_repesentations.shape[0]\n",
    "        if self.aggregation_type == \"sum\":\n",
    "            aggregated_message = tf.math.unsorted_segment_sum(\n",
    "                neighbour_messages, node_indices, num_segments=num_nodes\n",
    "            )\n",
    "        elif self.aggregation_type == \"mean\":\n",
    "            aggregated_message = tf.math.unsorted_segment_mean(\n",
    "                neighbour_messages, node_indices, num_segments=num_nodes\n",
    "            )\n",
    "        elif self.aggregation_type == \"max\":\n",
    "            aggregated_message = tf.math.unsorted_segment_max(\n",
    "                neighbour_messages, node_indices, num_segments=num_nodes\n",
    "            )\n",
    "        else:\n",
    "            raise ValueError(f\"Invalid aggregation type: {self.aggregation_type}.\")\n",
    "\n",
    "        return aggregated_message\n",
    "\n",
    "    def update(self, node_repesentations, aggregated_messages):\n",
    "\n",
    "        if self.combination_type == \"gru\":\n",
    "            # Create a sequence of two elements for the GRU layer.\n",
    "            h = tf.stack([node_repesentations, aggregated_messages], axis=1)\n",
    "        elif self.combination_type == \"concat\":\n",
    "            # Concatenate the node_repesentations and aggregated_messages.\n",
    "            h = tf.concat([node_repesentations, aggregated_messages], axis=1)\n",
    "        elif self.combination_type == \"add\":\n",
    "            # Add node_repesentations and aggregated_messages.\n",
    "            h = node_repesentations + aggregated_messages\n",
    "        else:\n",
    "            raise ValueError(f\"Invalid combination type: {self.combination_type}.\")\n",
    "\n",
    "        node_embeddings = self.update_fn(h)\n",
    "        if self.combination_type == \"gru\":\n",
    "            node_embeddings = tf.unstack(node_embeddings, axis=1)[-1]\n",
    "\n",
    "        if self.normalize:\n",
    "            node_embeddings = tf.nn.l2_normalize(node_embeddings, axis=-1)\n",
    "        return node_embeddings\n",
    "\n",
    "    def call(self, inputs):\n",
    "\n",
    "        node_repesentations, edges, edge_weights = inputs\n",
    "\n",
    "        node_indices, neighbour_indices = edges[0], edges[1]\n",
    "        neighbour_repesentations = tf.gather(node_repesentations, neighbour_indices)\n",
    "        neighbour_messages = self.prepare(neighbour_repesentations, edge_weights)\n",
    "\n",
    "        aggregated_messages = self.aggregate(\n",
    "            node_indices, neighbour_messages, node_repesentations\n",
    "        )\n",
    "\n",
    "        return self.update(node_repesentations, aggregated_messages)"
   ],
   "id": "2e89d01aca6be5ea",
   "outputs": [],
   "execution_count": 14
  },
  {
   "metadata": {
    "ExecuteTime": {
     "end_time": "2025-09-19T14:24:24.943355Z",
     "start_time": "2025-09-19T14:24:24.939355Z"
    }
   },
   "cell_type": "code",
   "source": [
    "class GNNNodeClassifier(tf.keras.Model):\n",
    "    def __init__(\n",
    "        self,\n",
    "        graph_info,\n",
    "        num_classes,\n",
    "        hidden_units,\n",
    "        aggregation_type=\"sum\",\n",
    "        combination_type=\"concat\",\n",
    "        dropout_rate=0.3,\n",
    "        normalize=True,\n",
    "        *args,\n",
    "        **kwargs,\n",
    "    ):\n",
    "        super().__init__(*args, **kwargs)\n",
    "\n",
    "        # Unpack graph_info to three elements: node_features, edges, and edge_weight.\n",
    "        node_features, edges, edge_weights = graph_info\n",
    "        self.node_features = node_features\n",
    "        self.edges = edges\n",
    "        self.edge_weights = edge_weights\n",
    "        # Set edge_weights to ones if not provided.\n",
    "        if self.edge_weights is None:\n",
    "            self.edge_weights = tf.ones(shape=edges.shape[1])\n",
    "        # Scale edge_weights to sum to 1.\n",
    "        self.edge_weights = self.edge_weights / tf.math.reduce_sum(self.edge_weights)\n",
    "\n",
    "        # Create a process layer.\n",
    "        self.preprocess = create_ffn(hidden_units, dropout_rate, name=\"preprocess\")\n",
    "        # Create the first GraphConv layer.\n",
    "        self.conv1 = GraphConvLayer(\n",
    "            hidden_units,\n",
    "            dropout_rate,\n",
    "            aggregation_type,\n",
    "            combination_type,\n",
    "            normalize,\n",
    "            name=\"graph_conv1\",\n",
    "        )\n",
    "        # Create the second GraphConv layer.\n",
    "        self.conv2 = GraphConvLayer(\n",
    "            hidden_units,\n",
    "            dropout_rate,\n",
    "            aggregation_type,\n",
    "            combination_type,\n",
    "            normalize,\n",
    "            name=\"graph_conv2\",\n",
    "        )\n",
    "        # Create a postprocess layer.\n",
    "        self.postprocess = create_ffn(hidden_units, dropout_rate, name=\"postprocess\")\n",
    "        # Create a compute logits layer.\n",
    "        self.compute_logits = layers.Dense(units=num_classes,activation=\"softmax\", name=\"logits\")\n",
    "\n",
    "    def call(self, input_node_indices):\n",
    "        # Preprocess the node_features to produce node representations.\n",
    "        x = self.preprocess(self.node_features)\n",
    "        # Apply the first graph conv layer.\n",
    "        x1 = self.conv1((x, self.edges, self.edge_weights))\n",
    "        # Skip connection.\n",
    "        x = x1 + x\n",
    "        # Apply the second graph conv layer.\n",
    "        x2 = self.conv2((x, self.edges, self.edge_weights))\n",
    "        # Skip connection.\n",
    "        x = x2 + x\n",
    "        # Postprocess node embedding.\n",
    "        x = self.postprocess(x)\n",
    "        # Fetch node embeddings for the input node_indices.\n",
    "        node_embeddings = tf.gather(x, input_node_indices)\n",
    "        print(node_embeddings)\n",
    "        # Compute logits\n",
    "        return self.compute_logits(node_embeddings)\n",
    "\n",
    "    def build(self, input_shape):\n",
    "        super().build(input_shape)"
   ],
   "id": "544a43bfcf72a1b",
   "outputs": [],
   "execution_count": 15
  },
  {
   "metadata": {
    "ExecuteTime": {
     "end_time": "2025-09-19T14:24:25.186425Z",
     "start_time": "2025-09-19T14:24:24.948010Z"
    }
   },
   "cell_type": "code",
   "source": [
    "gnn_model = GNNNodeClassifier(\n",
    "    graph_info=graph_info,\n",
    "    num_classes=num_classes,\n",
    "    hidden_units=hidden_units,\n",
    "    dropout_rate=dropout_rate,\n",
    "    name=\"gnn_model\",\n",
    ")\n",
    "\n",
    "print(\"GNN output shape:\", gnn_model(tf.constant([[1, 10, 100]], dtype=tf.int32)))\n",
    "\n",
    "gnn_model.summary()"
   ],
   "id": "b734f057e4941d05",
   "outputs": [
    {
     "name": "stdout",
     "output_type": "stream",
     "text": [
      "tf.Tensor(\n",
      "[[[0.02003971 0.         0.         0.         0.         0.\n",
      "   0.         0.         0.         0.30862334 0.         0.07438131\n",
      "   0.1022206  0.18588427 0.19887774 0.         0.28273135 0.\n",
      "   0.         0.         0.         0.         0.06755412 0.\n",
      "   0.         0.         0.12248891 0.         0.         0.\n",
      "   0.         0.23446469]\n",
      "  [0.         0.         0.         0.07277139 0.06619395 0.\n",
      "   0.05428777 0.         0.         0.09035148 0.         0.\n",
      "   0.5682612  0.41806152 0.32602882 0.         0.20732953 0.\n",
      "   0.03104911 0.         0.         0.         0.15303479 0.24448371\n",
      "   0.         0.         0.04766712 0.         0.17863433 0.\n",
      "   0.         0.44059458]\n",
      "  [2.8078716  0.         0.         0.         2.2051752  2.6997216\n",
      "   0.         0.         0.36069405 1.2055695  0.         0.\n",
      "   2.1635413  0.03383279 2.1975543  0.         3.0532079  1.7888418\n",
      "   0.         0.         0.         1.1675535  0.         0.\n",
      "   0.         1.8504066  1.1268985  0.         0.         0.\n",
      "   0.         3.3000157 ]]], shape=(1, 3, 32), dtype=float32)\n",
      "GNN output shape: tf.Tensor(\n",
      "[[[0.54103637 0.45896366]\n",
      "  [0.66138715 0.33861285]\n",
      "  [0.94617385 0.05382613]]], shape=(1, 3, 2), dtype=float32)\n"
     ]
    },
    {
     "data": {
      "text/plain": [
       "\u001B[1mModel: \"gnn_model\"\u001B[0m\n"
      ],
      "text/html": [
       "<pre style=\"white-space:pre;overflow-x:auto;line-height:normal;font-family:Menlo,'DejaVu Sans Mono',consolas,'Courier New',monospace\"><span style=\"font-weight: bold\">Model: \"gnn_model\"</span>\n",
       "</pre>\n"
      ]
     },
     "metadata": {},
     "output_type": "display_data"
    },
    {
     "data": {
      "text/plain": [
       "┏━━━━━━━━━━━━━━━━━━━━━━━━━━━━━━━━━┳━━━━━━━━━━━━━━━━━━━━━━━━┳━━━━━━━━━━━━━━━┓\n",
       "┃\u001B[1m \u001B[0m\u001B[1mLayer (type)                   \u001B[0m\u001B[1m \u001B[0m┃\u001B[1m \u001B[0m\u001B[1mOutput Shape          \u001B[0m\u001B[1m \u001B[0m┃\u001B[1m \u001B[0m\u001B[1m      Param #\u001B[0m\u001B[1m \u001B[0m┃\n",
       "┡━━━━━━━━━━━━━━━━━━━━━━━━━━━━━━━━━╇━━━━━━━━━━━━━━━━━━━━━━━━╇━━━━━━━━━━━━━━━┩\n",
       "│ preprocess (\u001B[38;5;33mSequential\u001B[0m)         │ (\u001B[38;5;34m227\u001B[0m, \u001B[38;5;34m32\u001B[0m)              │         \u001B[38;5;34m1,468\u001B[0m │\n",
       "├─────────────────────────────────┼────────────────────────┼───────────────┤\n",
       "│ graph_conv1 (\u001B[38;5;33mGraphConvLayer\u001B[0m)    │ ?                      │         \u001B[38;5;34m5,888\u001B[0m │\n",
       "├─────────────────────────────────┼────────────────────────┼───────────────┤\n",
       "│ graph_conv2 (\u001B[38;5;33mGraphConvLayer\u001B[0m)    │ ?                      │         \u001B[38;5;34m5,888\u001B[0m │\n",
       "├─────────────────────────────────┼────────────────────────┼───────────────┤\n",
       "│ postprocess (\u001B[38;5;33mSequential\u001B[0m)        │ (\u001B[38;5;34m227\u001B[0m, \u001B[38;5;34m32\u001B[0m)              │         \u001B[38;5;34m2,368\u001B[0m │\n",
       "├─────────────────────────────────┼────────────────────────┼───────────────┤\n",
       "│ logits (\u001B[38;5;33mDense\u001B[0m)                  │ (\u001B[38;5;34m1\u001B[0m, \u001B[38;5;34m3\u001B[0m, \u001B[38;5;34m2\u001B[0m)              │            \u001B[38;5;34m66\u001B[0m │\n",
       "└─────────────────────────────────┴────────────────────────┴───────────────┘\n"
      ],
      "text/html": [
       "<pre style=\"white-space:pre;overflow-x:auto;line-height:normal;font-family:Menlo,'DejaVu Sans Mono',consolas,'Courier New',monospace\">┏━━━━━━━━━━━━━━━━━━━━━━━━━━━━━━━━━┳━━━━━━━━━━━━━━━━━━━━━━━━┳━━━━━━━━━━━━━━━┓\n",
       "┃<span style=\"font-weight: bold\"> Layer (type)                    </span>┃<span style=\"font-weight: bold\"> Output Shape           </span>┃<span style=\"font-weight: bold\">       Param # </span>┃\n",
       "┡━━━━━━━━━━━━━━━━━━━━━━━━━━━━━━━━━╇━━━━━━━━━━━━━━━━━━━━━━━━╇━━━━━━━━━━━━━━━┩\n",
       "│ preprocess (<span style=\"color: #0087ff; text-decoration-color: #0087ff\">Sequential</span>)         │ (<span style=\"color: #00af00; text-decoration-color: #00af00\">227</span>, <span style=\"color: #00af00; text-decoration-color: #00af00\">32</span>)              │         <span style=\"color: #00af00; text-decoration-color: #00af00\">1,468</span> │\n",
       "├─────────────────────────────────┼────────────────────────┼───────────────┤\n",
       "│ graph_conv1 (<span style=\"color: #0087ff; text-decoration-color: #0087ff\">GraphConvLayer</span>)    │ ?                      │         <span style=\"color: #00af00; text-decoration-color: #00af00\">5,888</span> │\n",
       "├─────────────────────────────────┼────────────────────────┼───────────────┤\n",
       "│ graph_conv2 (<span style=\"color: #0087ff; text-decoration-color: #0087ff\">GraphConvLayer</span>)    │ ?                      │         <span style=\"color: #00af00; text-decoration-color: #00af00\">5,888</span> │\n",
       "├─────────────────────────────────┼────────────────────────┼───────────────┤\n",
       "│ postprocess (<span style=\"color: #0087ff; text-decoration-color: #0087ff\">Sequential</span>)        │ (<span style=\"color: #00af00; text-decoration-color: #00af00\">227</span>, <span style=\"color: #00af00; text-decoration-color: #00af00\">32</span>)              │         <span style=\"color: #00af00; text-decoration-color: #00af00\">2,368</span> │\n",
       "├─────────────────────────────────┼────────────────────────┼───────────────┤\n",
       "│ logits (<span style=\"color: #0087ff; text-decoration-color: #0087ff\">Dense</span>)                  │ (<span style=\"color: #00af00; text-decoration-color: #00af00\">1</span>, <span style=\"color: #00af00; text-decoration-color: #00af00\">3</span>, <span style=\"color: #00af00; text-decoration-color: #00af00\">2</span>)              │            <span style=\"color: #00af00; text-decoration-color: #00af00\">66</span> │\n",
       "└─────────────────────────────────┴────────────────────────┴───────────────┘\n",
       "</pre>\n"
      ]
     },
     "metadata": {},
     "output_type": "display_data"
    },
    {
     "data": {
      "text/plain": [
       "\u001B[1m Total params: \u001B[0m\u001B[38;5;34m15,678\u001B[0m (61.24 KB)\n"
      ],
      "text/html": [
       "<pre style=\"white-space:pre;overflow-x:auto;line-height:normal;font-family:Menlo,'DejaVu Sans Mono',consolas,'Courier New',monospace\"><span style=\"font-weight: bold\"> Total params: </span><span style=\"color: #00af00; text-decoration-color: #00af00\">15,678</span> (61.24 KB)\n",
       "</pre>\n"
      ]
     },
     "metadata": {},
     "output_type": "display_data"
    },
    {
     "data": {
      "text/plain": [
       "\u001B[1m Trainable params: \u001B[0m\u001B[38;5;34m14,832\u001B[0m (57.94 KB)\n"
      ],
      "text/html": [
       "<pre style=\"white-space:pre;overflow-x:auto;line-height:normal;font-family:Menlo,'DejaVu Sans Mono',consolas,'Courier New',monospace\"><span style=\"font-weight: bold\"> Trainable params: </span><span style=\"color: #00af00; text-decoration-color: #00af00\">14,832</span> (57.94 KB)\n",
       "</pre>\n"
      ]
     },
     "metadata": {},
     "output_type": "display_data"
    },
    {
     "data": {
      "text/plain": [
       "\u001B[1m Non-trainable params: \u001B[0m\u001B[38;5;34m846\u001B[0m (3.30 KB)\n"
      ],
      "text/html": [
       "<pre style=\"white-space:pre;overflow-x:auto;line-height:normal;font-family:Menlo,'DejaVu Sans Mono',consolas,'Courier New',monospace\"><span style=\"font-weight: bold\"> Non-trainable params: </span><span style=\"color: #00af00; text-decoration-color: #00af00\">846</span> (3.30 KB)\n",
       "</pre>\n"
      ]
     },
     "metadata": {},
     "output_type": "display_data"
    }
   ],
   "execution_count": 16
  },
  {
   "metadata": {
    "ExecuteTime": {
     "end_time": "2025-09-19T14:24:25.221810Z",
     "start_time": "2025-09-19T14:24:25.210571Z"
    }
   },
   "cell_type": "code",
   "source": [
    "y_train1 = tf.keras.utils.to_categorical(\n",
    "    y_train, num_classes=2)\n",
    "y_test1 = tf.keras.utils.to_categorical(\n",
    "    y_test, num_classes=2)"
   ],
   "id": "de04a3e8478a9318",
   "outputs": [],
   "execution_count": 17
  },
  {
   "metadata": {
    "ExecuteTime": {
     "end_time": "2025-09-19T14:24:28.866937Z",
     "start_time": "2025-09-19T14:24:25.231953Z"
    }
   },
   "cell_type": "code",
   "source": [
    "x_train = train_data.node_number.to_numpy()\n",
    "history = run_experiment(gnn_model, x_train, y_train1)"
   ],
   "id": "3e6eca5e3fc71512",
   "outputs": [
    {
     "name": "stdout",
     "output_type": "stream",
     "text": [
      "Epoch 1/32\n",
      "Tensor(\"gnn_model_1/GatherV2:0\", shape=(None, 32), dtype=float32)\n",
      "Tensor(\"gnn_model_1/GatherV2:0\", shape=(None, 32), dtype=float32)\n",
      "\u001B[1m1/9\u001B[0m \u001B[32m━━\u001B[0m\u001B[37m━━━━━━━━━━━━━━━━━━\u001B[0m \u001B[1m18s\u001B[0m 2s/step - acc: 0.8500 - loss: 0.3863 - precision_1: 0.8500 - recall_1: 0.8500Tensor(\"gnn_model_1/GatherV2:0\", shape=(20, 32), dtype=float32)\n",
      "\u001B[1m9/9\u001B[0m \u001B[32m━━━━━━━━━━━━━━━━━━━━\u001B[0m\u001B[37m\u001B[0m \u001B[1m3s\u001B[0m 30ms/step - acc: 0.8579 - loss: 0.3423 - precision_1: 0.8579 - recall_1: 0.8579 - val_acc: 0.8500 - val_loss: 0.3188 - val_precision_1: 0.8500 - val_recall_1: 0.8500\n",
      "Epoch 2/32\n",
      "\u001B[1m9/9\u001B[0m \u001B[32m━━━━━━━━━━━━━━━━━━━━\u001B[0m\u001B[37m\u001B[0m \u001B[1m0s\u001B[0m 3ms/step - acc: 0.8492 - loss: 0.3253 - precision_1: 0.8492 - recall_1: 0.8492 - val_acc: 0.8500 - val_loss: 0.3018 - val_precision_1: 0.8500 - val_recall_1: 0.8500\n",
      "Epoch 3/32\n",
      "\u001B[1m9/9\u001B[0m \u001B[32m━━━━━━━━━━━━━━━━━━━━\u001B[0m\u001B[37m\u001B[0m \u001B[1m0s\u001B[0m 3ms/step - acc: 0.8701 - loss: 0.2919 - precision_1: 0.8701 - recall_1: 0.8701 - val_acc: 0.8500 - val_loss: 0.2871 - val_precision_1: 0.8500 - val_recall_1: 0.8500\n",
      "Epoch 4/32\n",
      "\u001B[1m9/9\u001B[0m \u001B[32m━━━━━━━━━━━━━━━━━━━━\u001B[0m\u001B[37m\u001B[0m \u001B[1m0s\u001B[0m 3ms/step - acc: 0.9117 - loss: 0.2472 - precision_1: 0.9117 - recall_1: 0.9117 - val_acc: 0.8500 - val_loss: 0.2738 - val_precision_1: 0.8500 - val_recall_1: 0.8500\n",
      "Epoch 5/32\n",
      "\u001B[1m9/9\u001B[0m \u001B[32m━━━━━━━━━━━━━━━━━━━━\u001B[0m\u001B[37m\u001B[0m \u001B[1m0s\u001B[0m 3ms/step - acc: 0.8473 - loss: 0.2864 - precision_1: 0.8473 - recall_1: 0.8473 - val_acc: 0.8500 - val_loss: 0.2637 - val_precision_1: 0.8500 - val_recall_1: 0.8500\n",
      "Epoch 6/32\n",
      "\u001B[1m9/9\u001B[0m \u001B[32m━━━━━━━━━━━━━━━━━━━━\u001B[0m\u001B[37m\u001B[0m \u001B[1m0s\u001B[0m 3ms/step - acc: 0.8679 - loss: 0.2555 - precision_1: 0.8679 - recall_1: 0.8679 - val_acc: 0.8500 - val_loss: 0.2561 - val_precision_1: 0.8500 - val_recall_1: 0.8500\n",
      "Epoch 7/32\n",
      "\u001B[1m9/9\u001B[0m \u001B[32m━━━━━━━━━━━━━━━━━━━━\u001B[0m\u001B[37m\u001B[0m \u001B[1m0s\u001B[0m 3ms/step - acc: 0.8410 - loss: 0.2681 - precision_1: 0.8410 - recall_1: 0.8410 - val_acc: 1.0000 - val_loss: 0.2477 - val_precision_1: 1.0000 - val_recall_1: 1.0000\n",
      "Epoch 8/32\n",
      "\u001B[1m9/9\u001B[0m \u001B[32m━━━━━━━━━━━━━━━━━━━━\u001B[0m\u001B[37m\u001B[0m \u001B[1m0s\u001B[0m 3ms/step - acc: 0.9312 - loss: 0.2557 - precision_1: 0.9312 - recall_1: 0.9312 - val_acc: 1.0000 - val_loss: 0.2401 - val_precision_1: 1.0000 - val_recall_1: 1.0000\n",
      "Epoch 9/32\n",
      "\u001B[1m9/9\u001B[0m \u001B[32m━━━━━━━━━━━━━━━━━━━━\u001B[0m\u001B[37m\u001B[0m \u001B[1m0s\u001B[0m 3ms/step - acc: 0.9188 - loss: 0.2428 - precision_1: 0.9188 - recall_1: 0.9188 - val_acc: 1.0000 - val_loss: 0.2342 - val_precision_1: 1.0000 - val_recall_1: 1.0000\n",
      "Epoch 10/32\n",
      "\u001B[1m9/9\u001B[0m \u001B[32m━━━━━━━━━━━━━━━━━━━━\u001B[0m\u001B[37m\u001B[0m \u001B[1m0s\u001B[0m 3ms/step - acc: 0.9075 - loss: 0.2353 - precision_1: 0.9075 - recall_1: 0.9075 - val_acc: 1.0000 - val_loss: 0.2284 - val_precision_1: 1.0000 - val_recall_1: 1.0000\n",
      "Epoch 11/32\n",
      "\u001B[1m9/9\u001B[0m \u001B[32m━━━━━━━━━━━━━━━━━━━━\u001B[0m\u001B[37m\u001B[0m \u001B[1m0s\u001B[0m 3ms/step - acc: 0.9441 - loss: 0.2368 - precision_1: 0.9441 - recall_1: 0.9441 - val_acc: 1.0000 - val_loss: 0.2214 - val_precision_1: 1.0000 - val_recall_1: 1.0000\n",
      "Epoch 12/32\n",
      "\u001B[1m9/9\u001B[0m \u001B[32m━━━━━━━━━━━━━━━━━━━━\u001B[0m\u001B[37m\u001B[0m \u001B[1m0s\u001B[0m 3ms/step - acc: 0.9297 - loss: 0.2332 - precision_1: 0.9297 - recall_1: 0.9297 - val_acc: 1.0000 - val_loss: 0.2167 - val_precision_1: 1.0000 - val_recall_1: 1.0000\n",
      "Epoch 13/32\n",
      "\u001B[1m9/9\u001B[0m \u001B[32m━━━━━━━━━━━━━━━━━━━━\u001B[0m\u001B[37m\u001B[0m \u001B[1m0s\u001B[0m 3ms/step - acc: 0.9262 - loss: 0.2160 - precision_1: 0.9262 - recall_1: 0.9262 - val_acc: 1.0000 - val_loss: 0.2122 - val_precision_1: 1.0000 - val_recall_1: 1.0000\n",
      "Epoch 14/32\n",
      "\u001B[1m9/9\u001B[0m \u001B[32m━━━━━━━━━━━━━━━━━━━━\u001B[0m\u001B[37m\u001B[0m \u001B[1m0s\u001B[0m 3ms/step - acc: 0.9386 - loss: 0.2058 - precision_1: 0.9386 - recall_1: 0.9386 - val_acc: 1.0000 - val_loss: 0.2067 - val_precision_1: 1.0000 - val_recall_1: 1.0000\n",
      "Epoch 15/32\n",
      "\u001B[1m9/9\u001B[0m \u001B[32m━━━━━━━━━━━━━━━━━━━━\u001B[0m\u001B[37m\u001B[0m \u001B[1m0s\u001B[0m 3ms/step - acc: 0.9235 - loss: 0.2210 - precision_1: 0.9235 - recall_1: 0.9235 - val_acc: 1.0000 - val_loss: 0.2022 - val_precision_1: 1.0000 - val_recall_1: 1.0000\n",
      "Epoch 16/32\n",
      "\u001B[1m9/9\u001B[0m \u001B[32m━━━━━━━━━━━━━━━━━━━━\u001B[0m\u001B[37m\u001B[0m \u001B[1m0s\u001B[0m 3ms/step - acc: 0.9311 - loss: 0.2052 - precision_1: 0.9311 - recall_1: 0.9311 - val_acc: 1.0000 - val_loss: 0.1946 - val_precision_1: 1.0000 - val_recall_1: 1.0000\n",
      "Epoch 17/32\n",
      "\u001B[1m9/9\u001B[0m \u001B[32m━━━━━━━━━━━━━━━━━━━━\u001B[0m\u001B[37m\u001B[0m \u001B[1m0s\u001B[0m 3ms/step - acc: 0.9366 - loss: 0.1739 - precision_1: 0.9366 - recall_1: 0.9366 - val_acc: 1.0000 - val_loss: 0.1874 - val_precision_1: 1.0000 - val_recall_1: 1.0000\n",
      "Epoch 18/32\n",
      "\u001B[1m9/9\u001B[0m \u001B[32m━━━━━━━━━━━━━━━━━━━━\u001B[0m\u001B[37m\u001B[0m \u001B[1m0s\u001B[0m 3ms/step - acc: 0.9199 - loss: 0.1962 - precision_1: 0.9199 - recall_1: 0.9199 - val_acc: 1.0000 - val_loss: 0.1804 - val_precision_1: 1.0000 - val_recall_1: 1.0000\n",
      "Epoch 19/32\n",
      "\u001B[1m9/9\u001B[0m \u001B[32m━━━━━━━━━━━━━━━━━━━━\u001B[0m\u001B[37m\u001B[0m \u001B[1m0s\u001B[0m 3ms/step - acc: 0.9210 - loss: 0.2006 - precision_1: 0.9210 - recall_1: 0.9210 - val_acc: 1.0000 - val_loss: 0.1731 - val_precision_1: 1.0000 - val_recall_1: 1.0000\n",
      "Epoch 20/32\n",
      "\u001B[1m9/9\u001B[0m \u001B[32m━━━━━━━━━━━━━━━━━━━━\u001B[0m\u001B[37m\u001B[0m \u001B[1m0s\u001B[0m 3ms/step - acc: 0.9285 - loss: 0.1860 - precision_1: 0.9285 - recall_1: 0.9285 - val_acc: 1.0000 - val_loss: 0.1660 - val_precision_1: 1.0000 - val_recall_1: 1.0000\n",
      "Epoch 21/32\n",
      "\u001B[1m9/9\u001B[0m \u001B[32m━━━━━━━━━━━━━━━━━━━━\u001B[0m\u001B[37m\u001B[0m \u001B[1m0s\u001B[0m 3ms/step - acc: 0.9163 - loss: 0.1604 - precision_1: 0.9163 - recall_1: 0.9163 - val_acc: 1.0000 - val_loss: 0.1617 - val_precision_1: 1.0000 - val_recall_1: 1.0000\n",
      "Epoch 22/32\n",
      "\u001B[1m9/9\u001B[0m \u001B[32m━━━━━━━━━━━━━━━━━━━━\u001B[0m\u001B[37m\u001B[0m \u001B[1m0s\u001B[0m 3ms/step - acc: 0.9198 - loss: 0.1642 - precision_1: 0.9198 - recall_1: 0.9198 - val_acc: 1.0000 - val_loss: 0.1558 - val_precision_1: 1.0000 - val_recall_1: 1.0000\n",
      "Epoch 23/32\n",
      "\u001B[1m9/9\u001B[0m \u001B[32m━━━━━━━━━━━━━━━━━━━━\u001B[0m\u001B[37m\u001B[0m \u001B[1m0s\u001B[0m 3ms/step - acc: 0.9216 - loss: 0.1501 - precision_1: 0.9216 - recall_1: 0.9216 - val_acc: 1.0000 - val_loss: 0.1517 - val_precision_1: 1.0000 - val_recall_1: 1.0000\n",
      "Epoch 24/32\n",
      "\u001B[1m9/9\u001B[0m \u001B[32m━━━━━━━━━━━━━━━━━━━━\u001B[0m\u001B[37m\u001B[0m \u001B[1m0s\u001B[0m 3ms/step - acc: 0.9254 - loss: 0.1528 - precision_1: 0.9254 - recall_1: 0.9254 - val_acc: 1.0000 - val_loss: 0.1469 - val_precision_1: 1.0000 - val_recall_1: 1.0000\n",
      "Epoch 25/32\n",
      "\u001B[1m9/9\u001B[0m \u001B[32m━━━━━━━━━━━━━━━━━━━━\u001B[0m\u001B[37m\u001B[0m \u001B[1m0s\u001B[0m 3ms/step - acc: 0.9150 - loss: 0.1509 - precision_1: 0.9150 - recall_1: 0.9150 - val_acc: 1.0000 - val_loss: 0.1429 - val_precision_1: 1.0000 - val_recall_1: 1.0000\n",
      "Epoch 26/32\n",
      "\u001B[1m9/9\u001B[0m \u001B[32m━━━━━━━━━━━━━━━━━━━━\u001B[0m\u001B[37m\u001B[0m \u001B[1m0s\u001B[0m 3ms/step - acc: 0.8977 - loss: 0.1526 - precision_1: 0.8977 - recall_1: 0.8977 - val_acc: 1.0000 - val_loss: 0.1383 - val_precision_1: 1.0000 - val_recall_1: 1.0000\n",
      "Epoch 27/32\n",
      "\u001B[1m9/9\u001B[0m \u001B[32m━━━━━━━━━━━━━━━━━━━━\u001B[0m\u001B[37m\u001B[0m \u001B[1m0s\u001B[0m 3ms/step - acc: 0.9346 - loss: 0.1421 - precision_1: 0.9346 - recall_1: 0.9346 - val_acc: 1.0000 - val_loss: 0.1336 - val_precision_1: 1.0000 - val_recall_1: 1.0000\n",
      "Epoch 28/32\n",
      "\u001B[1m9/9\u001B[0m \u001B[32m━━━━━━━━━━━━━━━━━━━━\u001B[0m\u001B[37m\u001B[0m \u001B[1m0s\u001B[0m 3ms/step - acc: 0.9000 - loss: 0.1556 - precision_1: 0.9000 - recall_1: 0.9000 - val_acc: 1.0000 - val_loss: 0.1291 - val_precision_1: 1.0000 - val_recall_1: 1.0000\n",
      "Epoch 29/32\n",
      "\u001B[1m9/9\u001B[0m \u001B[32m━━━━━━━━━━━━━━━━━━━━\u001B[0m\u001B[37m\u001B[0m \u001B[1m0s\u001B[0m 3ms/step - acc: 1.0000 - loss: 0.1130 - precision_1: 1.0000 - recall_1: 1.0000 - val_acc: 1.0000 - val_loss: 0.1244 - val_precision_1: 1.0000 - val_recall_1: 1.0000\n",
      "Epoch 30/32\n",
      "\u001B[1m9/9\u001B[0m \u001B[32m━━━━━━━━━━━━━━━━━━━━\u001B[0m\u001B[37m\u001B[0m \u001B[1m0s\u001B[0m 3ms/step - acc: 1.0000 - loss: 0.1402 - precision_1: 1.0000 - recall_1: 1.0000 - val_acc: 1.0000 - val_loss: 0.1203 - val_precision_1: 1.0000 - val_recall_1: 1.0000\n",
      "Epoch 31/32\n",
      "\u001B[1m9/9\u001B[0m \u001B[32m━━━━━━━━━━━━━━━━━━━━\u001B[0m\u001B[37m\u001B[0m \u001B[1m0s\u001B[0m 3ms/step - acc: 1.0000 - loss: 0.1256 - precision_1: 1.0000 - recall_1: 1.0000 - val_acc: 1.0000 - val_loss: 0.1163 - val_precision_1: 1.0000 - val_recall_1: 1.0000\n",
      "Epoch 32/32\n",
      "\u001B[1m9/9\u001B[0m \u001B[32m━━━━━━━━━━━━━━━━━━━━\u001B[0m\u001B[37m\u001B[0m \u001B[1m0s\u001B[0m 3ms/step - acc: 1.0000 - loss: 0.1178 - precision_1: 1.0000 - recall_1: 1.0000 - val_acc: 1.0000 - val_loss: 0.1126 - val_precision_1: 1.0000 - val_recall_1: 1.0000\n"
     ]
    }
   ],
   "execution_count": 18
  },
  {
   "metadata": {
    "ExecuteTime": {
     "end_time": "2025-09-19T14:24:29.114777Z",
     "start_time": "2025-09-19T14:24:28.882476Z"
    }
   },
   "cell_type": "code",
   "source": [
    "from keras import backend as K\n",
    "\n",
    "x_test = test_data.node_number.to_numpy()\n",
    "_, test_accuracy, precision, recall = gnn_model.evaluate(x=x_test, y=y_test1, verbose=0)\n",
    "print(f\"Test accuracy: {round(test_accuracy * 100, 2)}%\")\n",
    "print(f\"Test precision: {(precision* 100)}%\")\n",
    "print(f\"Test recall: {(recall * 100)}%\")"
   ],
   "id": "90a92d7ca8e770b2",
   "outputs": [
    {
     "name": "stdout",
     "output_type": "stream",
     "text": [
      "Tensor(\"gnn_model_1/GatherV2:0\", shape=(None, 32), dtype=float32)\n",
      "Test accuracy: 93.55%\n",
      "Test precision: 93.54838728904724%\n",
      "Test recall: 93.54838728904724%\n"
     ]
    }
   ],
   "execution_count": 19
  },
  {
   "metadata": {
    "ExecuteTime": {
     "end_time": "2025-09-19T14:24:29.254072Z",
     "start_time": "2025-09-19T14:24:29.119565Z"
    }
   },
   "cell_type": "code",
   "source": [
    "from sklearn.metrics import confusion_matrix\n",
    "from sklearn.metrics import classification_report\n",
    "\n",
    "y_pred= gnn_model.predict(x_test)\n",
    "y_pred = np.argmax(y_pred, axis=1)\n",
    "y_testt = np.argmax(y_test1, axis=1)\n",
    "cm = confusion_matrix(y_testt, y_pred)\n",
    "print(cm)\n",
    "print(classification_report(y_testt,y_pred))"
   ],
   "id": "6c25594b470593c4",
   "outputs": [
    {
     "name": "stdout",
     "output_type": "stream",
     "text": [
      "Tensor(\"gnn_model_1/GatherV2:0\", shape=(31, 32), dtype=float32)\n",
      "\u001B[1m1/1\u001B[0m \u001B[32m━━━━━━━━━━━━━━━━━━━━\u001B[0m\u001B[37m\u001B[0m \u001B[1m0s\u001B[0m 112ms/step\n",
      "[[28  0]\n",
      " [ 2  1]]\n",
      "              precision    recall  f1-score   support\n",
      "\n",
      "           0       0.93      1.00      0.97        28\n",
      "           1       1.00      0.33      0.50         3\n",
      "\n",
      "    accuracy                           0.94        31\n",
      "   macro avg       0.97      0.67      0.73        31\n",
      "weighted avg       0.94      0.94      0.92        31\n",
      "\n"
     ]
    }
   ],
   "execution_count": 20
  },
  {
   "metadata": {
    "ExecuteTime": {
     "end_time": "2025-09-19T14:24:36.844508Z",
     "start_time": "2025-09-19T14:24:29.261331Z"
    }
   },
   "cell_type": "code",
   "source": [
    "!python Feature_Extract.py AES_PPRM1/AES_PPRM1 Kin AES_PPRM1\n",
    "!python Feature_Extract.py AES_PPRM3/AES_PPRM3 Kin AES_PPRM3\n",
    "!python Feature_Extract.py AES_TBL/AES_TBL Kin AES_TBL\n",
    "!python Feature_Extract.py RSA/RSA Kin RSA"
   ],
   "id": "64b1a4050e371bc9",
   "outputs": [
    {
     "name": "stdout",
     "output_type": "stream",
     "text": [
      "Generating LALR tables\r\n",
      "WARNING: 183 shift/reduce conflicts\r\n",
      "[INFO] Features written to ../test/AES_PPRM1_features.csv\r\n",
      "[INFO] Edges written to ../test/AES_PPRM1_edges.csv\r\n",
      "Generating LALR tables\r\n",
      "WARNING: 183 shift/reduce conflicts\r\n",
      "[INFO] Features written to ../test/AES_PPRM3_features.csv\r\n",
      "[INFO] Edges written to ../test/AES_PPRM3_edges.csv\r\n",
      "Generating LALR tables\r\n",
      "WARNING: 183 shift/reduce conflicts\r\n",
      "[INFO] Features written to ../test/AES_TBL_features.csv\r\n",
      "[INFO] Edges written to ../test/AES_TBL_edges.csv\r\n",
      "Generating LALR tables\r\n",
      "WARNING: 183 shift/reduce conflicts\r\n",
      "[INFO] Features written to ../test/RSA_features.csv\r\n",
      "[INFO] Edges written to ../test/RSA_edges.csv\r\n"
     ]
    }
   ],
   "execution_count": 21
  },
  {
   "metadata": {
    "ExecuteTime": {
     "end_time": "2025-09-19T14:40:37.430961Z",
     "start_time": "2025-09-19T14:40:37.250085Z"
    }
   },
   "cell_type": "code",
   "source": [
    "import os, glob\n",
    "import numpy as np\n",
    "import pandas as pd\n",
    "import tensorflow as tf\n",
    "\n",
    "TEST_DIR = \"../test\"\n",
    "\n",
    "feature_files = sorted(glob.glob(os.path.join(TEST_DIR, \"*_features.csv\")))\n",
    "paired = []\n",
    "for fpath in feature_files:\n",
    "    base = os.path.basename(fpath).replace(\"_features.csv\", \"\")\n",
    "    epath = os.path.join(TEST_DIR, f\"{base}_edges.csv\")\n",
    "    if os.path.exists(epath):\n",
    "        paired.append((base, fpath, epath))\n",
    "\n",
    "if not paired:\n",
    "    print(\"No dataset pairs found under ./test (expect *_features.csv + *_edges.csv)\")\n",
    "else:\n",
    "    print(f\"Found {len(paired)} dataset(s):\", [b for b,_,_ in paired])\n",
    "\n",
    "leaky_module = {\n",
    "    \"AES_PPRM1\": [\"SBOX\", \"Mixcolumns\"],\n",
    "    \"AES_PPRM3\": [\"SBOX\", \"Mixcolumns\"],\n",
    "    \"AES_TBL\": [\"SBOX\", \"Mixcolumns\"],\n",
    "}\n",
    "\n",
    "for base, ffeat, fedge in paired:\n",
    "    print(f\"\\n=== [{base}] ===\")\n",
    "    test_nodeset = pd.read_csv(ffeat)\n",
    "    test_edge = pd.read_csv(fedge)\n",
    "    keywords = leaky_module.get(base, [])\n",
    "    def contains_any(value, keywords):\n",
    "        return any(kw in str(value) for kw in keywords)\n",
    "    test_nodeset[\"label\"] = test_nodeset[\"node\"].apply(\n",
    "        lambda x: 1 if contains_any(x, keywords) else 0\n",
    "    )\n",
    "\n",
    "    test_feature = test_nodeset.node_number.to_numpy()\n",
    "    test_target = tf.keras.utils.to_categorical(test_nodeset[\"label\"], num_classes=2)\n",
    "\n",
    "        # ===== Chunked evaluation (avoid indices out of training bound) =====\n",
    "    # 1) Automatically detect training upper bound (max index = TRAIN_N - 1)\n",
    "    def _detect_train_N(model):\n",
    "        # Try to get from Embedding layer\n",
    "        for layer in model.layers:\n",
    "            try:\n",
    "                from tensorflow.keras.layers import Embedding\n",
    "            except Exception:\n",
    "                Embedding = tf.keras.layers.Embedding\n",
    "            if isinstance(layer, Embedding):\n",
    "                if getattr(layer, \"embeddings\", None) is not None and layer.embeddings.shape.rank == 2:\n",
    "                    return int(layer.embeddings.shape[0])\n",
    "                if getattr(layer, \"input_dim\", None) is not None:\n",
    "                    return int(layer.input_dim)\n",
    "        # Try common variable names (if custom feature table exists)\n",
    "        for attr in [\"feature_table\", \"node_features\", \"features\"]:\n",
    "            if hasattr(model, attr):\n",
    "                var = getattr(model, attr)\n",
    "                try:\n",
    "                    return int(var.shape[0])\n",
    "                except Exception:\n",
    "                    pass\n",
    "        return None\n",
    "\n",
    "    TRAIN_N = _detect_train_N(gnn_model)\n",
    "    if TRAIN_N is None:\n",
    "        TRAIN_N = 227  # fallback\n",
    "        print(f\"[{base}] Warning: cannot detect train_N from model; fallback TRAIN_N={TRAIN_N}\")\n",
    "\n",
    "    # 2) Split test set into chunks of at most TRAIN_N samples\n",
    "    CHUNK = TRAIN_N\n",
    "    n_total = test_feature.shape[0]\n",
    "\n",
    "    # Ensure dtype and shape\n",
    "    test_feature = np.asarray(test_feature, dtype=np.int32)\n",
    "    test_target  = np.asarray(test_target,  dtype=np.float32)\n",
    "\n",
    "    total_samples = 0\n",
    "    acc_sum = 0.0\n",
    "    prec_sum = 0.0\n",
    "    rec_sum = 0.0\n",
    "\n",
    "    for start in range(0, n_total, CHUNK):\n",
    "        end = min(start + CHUNK, n_total)\n",
    "        idx_chunk = test_feature[start:end]\n",
    "        y_chunk   = test_target[start:end]\n",
    "\n",
    "        # Filter out indices >= TRAIN_N (would cause Gather out of range)\n",
    "        unique_idx = np.unique(idx_chunk)\n",
    "        remap = {old: new for new, old in enumerate(unique_idx)}\n",
    "        idx_valid = np.array([remap[i] for i in idx_chunk], dtype=np.int32)\n",
    "        y_valid   = y_chunk\n",
    "\n",
    "        # Evaluate this chunk\n",
    "        loss, acc, prec, rec = gnn_model.evaluate(x=idx_valid, y=y_valid, verbose=0)\n",
    "\n",
    "        m = idx_valid.shape[0]\n",
    "        total_samples += m\n",
    "        acc_sum  += float(acc)  * m\n",
    "        prec_sum += float(prec) * m\n",
    "        rec_sum  += float(rec)  * m\n",
    "\n",
    "    if total_samples == 0:\n",
    "        print(f\"[{base}] Warning: no valid indices (< {TRAIN_N}) in test set; skipped.\")\n",
    "    else:\n",
    "        test_accuracy = acc_sum / total_samples\n",
    "        precision     = prec_sum / total_samples\n",
    "        recall        = rec_sum / total_samples\n",
    "        print(f\"Test accuracy: {acc_sum} / {total_samples} = {round(test_accuracy * 100, 2)}%\")\n",
    "        # Optional: print precision/recall as well\n",
    "        # print(f\"Test precision: {round(precision * 100, 2)}%\")\n",
    "        # print(f\"Test recall:    {round(recall * 100, 2)}%\")\n"
   ],
   "id": "27b3257f40a98719",
   "outputs": [
    {
     "name": "stdout",
     "output_type": "stream",
     "text": [
      "Found 4 dataset(s): ['AES_PPRM1', 'AES_PPRM3', 'AES_TBL', 'RSA']\n",
      "\n",
      "=== [AES_PPRM1] ===\n",
      "Test accuracy: 55.00000011920929 / 58 = 94.83%\n",
      "\n",
      "=== [AES_PPRM3] ===\n",
      "Test accuracy: 387.9999958872795 / 418 = 92.82%\n",
      "\n",
      "=== [AES_TBL] ===\n",
      "Test accuracy: 55.00000011920929 / 58 = 94.83%\n",
      "\n",
      "=== [RSA] ===\n",
      "Test accuracy: 409.00000435113907 / 441 = 92.74%\n"
     ]
    }
   ],
   "execution_count": 36
  }
 ],
 "metadata": {
  "kernelspec": {
   "display_name": "Python 3",
   "language": "python",
   "name": "python3"
  },
  "language_info": {
   "codemirror_mode": {
    "name": "ipython",
    "version": 2
   },
   "file_extension": ".py",
   "mimetype": "text/x-python",
   "name": "python",
   "nbconvert_exporter": "python",
   "pygments_lexer": "ipython2",
   "version": "2.7.6"
  }
 },
 "nbformat": 4,
 "nbformat_minor": 5
}
