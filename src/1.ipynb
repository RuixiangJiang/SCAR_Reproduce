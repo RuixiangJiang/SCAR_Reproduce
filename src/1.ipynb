{
 "cells": [
  {
   "metadata": {
    "ExecuteTime": {
     "end_time": "2025-10-08T16:05:16.336409Z",
     "start_time": "2025-10-08T16:04:29.662698Z"
    }
   },
   "cell_type": "code",
   "source": [
    "!python Feature_Extract.py aes128_table_ecb key_in\n",
    "\n",
    "!python Feature_Extract.py AES_PPRM1 Kin AES_PPRM1\n",
    "!python Feature_Extract.py AES_PPRM3 Kin AES_PPRM3\n",
    "!python Feature_Extract.py AES_TBL Kin AES_TBL\n",
    "!python Feature_Extract.py RSA Kin RSA\n",
    "!python Feature_Extract.py SABER pol_64bit_in SABER # change PLC's label to 0 manually\n",
    "!python Feature_Extract.py PRESENT key PRESENT"
   ],
   "id": "20a0d4c2da617730",
   "outputs": [
    {
     "name": "stdout",
     "output_type": "stream",
     "text": [
      "/Users/ruixiang/PycharmProjects/SCAR/.venv/lib/python3.9/site-packages/urllib3/__init__.py:35: NotOpenSSLWarning: urllib3 v2 only supports OpenSSL 1.1.1+, currently the 'ssl' module is compiled with 'LibreSSL 2.8.3'. See: https://github.com/urllib3/urllib3/issues/3020\r\n",
      "  warnings.warn(\r\n",
      "Loading cached VCD object from: ../data/aes128_table_ecb/aes128_table_ecb_vcd.pkl\r\n",
      "Loading toggle counts from cache: ../data/aes128_table_ecb/aes128_table_ecb_toggle.txt\r\n",
      "Successfully loaded toggle counts from cache.\r\n",
      "[INFO] Features written to ../out/features.csv\r\n",
      "[INFO] Edges written to ../out/edges.csv\r\n",
      "/Users/ruixiang/PycharmProjects/SCAR/.venv/lib/python3.9/site-packages/urllib3/__init__.py:35: NotOpenSSLWarning: urllib3 v2 only supports OpenSSL 1.1.1+, currently the 'ssl' module is compiled with 'LibreSSL 2.8.3'. See: https://github.com/urllib3/urllib3/issues/3020\r\n",
      "  warnings.warn(\r\n",
      "Loading cached VCD object from: ../data/AES_PPRM1/AES_PPRM1_vcd.pkl\r\n",
      "Loading toggle counts from cache: ../data/AES_PPRM1/AES_PPRM1_toggle.txt\r\n",
      "Successfully loaded toggle counts from cache.\r\n",
      "[INFO] Features written to ../test/AES_PPRM1_features.csv\r\n",
      "[INFO] Edges written to ../test/AES_PPRM1_edges.csv\r\n",
      "/Users/ruixiang/PycharmProjects/SCAR/.venv/lib/python3.9/site-packages/urllib3/__init__.py:35: NotOpenSSLWarning: urllib3 v2 only supports OpenSSL 1.1.1+, currently the 'ssl' module is compiled with 'LibreSSL 2.8.3'. See: https://github.com/urllib3/urllib3/issues/3020\r\n",
      "  warnings.warn(\r\n",
      "Loading cached VCD object from: ../data/AES_PPRM3/AES_PPRM3_vcd.pkl\r\n",
      "Loading toggle counts from cache: ../data/AES_PPRM3/AES_PPRM3_toggle.txt\r\n",
      "Successfully loaded toggle counts from cache.\r\n",
      "[INFO] Features written to ../test/AES_PPRM3_features.csv\r\n",
      "[INFO] Edges written to ../test/AES_PPRM3_edges.csv\r\n",
      "/Users/ruixiang/PycharmProjects/SCAR/.venv/lib/python3.9/site-packages/urllib3/__init__.py:35: NotOpenSSLWarning: urllib3 v2 only supports OpenSSL 1.1.1+, currently the 'ssl' module is compiled with 'LibreSSL 2.8.3'. See: https://github.com/urllib3/urllib3/issues/3020\r\n",
      "  warnings.warn(\r\n",
      "Loading cached VCD object from: ../data/AES_TBL/AES_TBL_vcd.pkl\r\n",
      "Loading toggle counts from cache: ../data/AES_TBL/AES_TBL_toggle.txt\r\n",
      "Successfully loaded toggle counts from cache.\r\n",
      "[INFO] Features written to ../test/AES_TBL_features.csv\r\n",
      "[INFO] Edges written to ../test/AES_TBL_edges.csv\r\n",
      "/Users/ruixiang/PycharmProjects/SCAR/.venv/lib/python3.9/site-packages/urllib3/__init__.py:35: NotOpenSSLWarning: urllib3 v2 only supports OpenSSL 1.1.1+, currently the 'ssl' module is compiled with 'LibreSSL 2.8.3'. See: https://github.com/urllib3/urllib3/issues/3020\r\n",
      "  warnings.warn(\r\n",
      "Loading cached VCD object from: ../data/RSA/RSA_vcd.pkl\r\n",
      "Loading toggle counts from cache: ../data/RSA/RSA_toggle.txt\r\n",
      "Successfully loaded toggle counts from cache.\r\n",
      "[INFO] Features written to ../test/RSA_features.csv\r\n",
      "[INFO] Edges written to ../test/RSA_edges.csv\r\n",
      "/Users/ruixiang/PycharmProjects/SCAR/.venv/lib/python3.9/site-packages/urllib3/__init__.py:35: NotOpenSSLWarning: urllib3 v2 only supports OpenSSL 1.1.1+, currently the 'ssl' module is compiled with 'LibreSSL 2.8.3'. See: https://github.com/urllib3/urllib3/issues/3020\r\n",
      "  warnings.warn(\r\n",
      "Loading cached VCD object from: ../data/SABER/SABER_vcd.pkl\r\n",
      "Loading toggle counts from cache: ../data/SABER/SABER_toggle.txt\r\n",
      "Successfully loaded toggle counts from cache.\r\n",
      "[INFO] Features written to ../test/SABER_features.csv\r\n",
      "[INFO] Edges written to ../test/SABER_edges.csv\r\n"
     ]
    }
   ],
   "execution_count": 18
  },
  {
   "metadata": {
    "ExecuteTime": {
     "end_time": "2025-10-16T21:48:25.961315Z",
     "start_time": "2025-10-16T21:48:23.500656Z"
    }
   },
   "cell_type": "code",
   "source": "!python SCAR_GNN.py",
   "id": "36d97c0413864c34",
   "outputs": [
    {
     "name": "stdout",
     "output_type": "stream",
     "text": [
      "^C\r\n"
     ]
    }
   ],
   "execution_count": 12
  },
  {
   "metadata": {
    "ExecuteTime": {
     "end_time": "2025-10-17T22:11:33.425417Z",
     "start_time": "2025-10-17T22:11:27.080115Z"
    }
   },
   "cell_type": "code",
   "source": "!python test.py",
   "id": "eea6aaf04f5b9b84",
   "outputs": [
    {
     "name": "stdout",
     "output_type": "stream",
     "text": [
      "/Users/ruixiang/PycharmProjects/SCAR/.venv/lib/python3.9/site-packages/urllib3/__init__.py:35: NotOpenSSLWarning: urllib3 v2 only supports OpenSSL 1.1.1+, currently the 'ssl' module is compiled with 'LibreSSL 2.8.3'. See: https://github.com/urllib3/urllib3/issues/3020\r\n",
      "  warnings.warn(\r\n",
      "Found 6 dataset(s): ['AES_PPRM1', 'AES_PPRM3', 'AES_TBL', 'PRESENT', 'RSA', 'SABER']\r\n",
      "Testing AES_PPRM1: read ../test/AES_PPRM1_features.csv and ../test/AES_PPRM1_edges.csv\r\n",
      "Tensor(\"GatherV2:0\", shape=(1, 32), dtype=float32)\r\n",
      "Tensor(\"gnn_model_1/GatherV2:0\", shape=(1, 32), dtype=float32)\r\n",
      "Tensor(\"gnn_model_1/GatherV2:0\", shape=(1, 32), dtype=float32)\r\n",
      "\u001B[1m1/1\u001B[0m \u001B[32m━━━━━━━━━━━━━━━━━━━━\u001B[0m\u001B[37m\u001B[0m \u001B[1m0s\u001B[0m 308ms/step\r\n",
      "Tensor(\"gnn_model_1/GatherV2:0\", shape=(None, 32), dtype=float32)\r\n",
      "Testing AES_PPRM3: read ../test/AES_PPRM3_features.csv and ../test/AES_PPRM3_edges.csv\r\n",
      "Tensor(\"GatherV2:0\", shape=(1, 32), dtype=float32)\r\n",
      "Tensor(\"gnn_model_1/GatherV2:0\", shape=(1, 32), dtype=float32)\r\n",
      "Tensor(\"gnn_model_1/GatherV2:0\", shape=(1, 32), dtype=float32)\r\n",
      "\u001B[1m1/1\u001B[0m \u001B[32m━━━━━━━━━━━━━━━━━━━━\u001B[0m\u001B[37m\u001B[0m \u001B[1m0s\u001B[0m 301ms/step\r\n",
      "Tensor(\"gnn_model_1/GatherV2:0\", shape=(None, 32), dtype=float32)\r\n",
      "Testing AES_TBL: read ../test/AES_TBL_features.csv and ../test/AES_TBL_edges.csv\r\n",
      "Tensor(\"GatherV2:0\", shape=(1, 32), dtype=float32)\r\n",
      "Tensor(\"gnn_model_1/GatherV2:0\", shape=(1, 32), dtype=float32)\r\n",
      "Tensor(\"gnn_model_1/GatherV2:0\", shape=(1, 32), dtype=float32)\r\n",
      "\u001B[1m1/1\u001B[0m \u001B[32m━━━━━━━━━━━━━━━━━━━━\u001B[0m\u001B[37m\u001B[0m \u001B[1m0s\u001B[0m 306ms/step\r\n",
      "Tensor(\"gnn_model_1/GatherV2:0\", shape=(None, 32), dtype=float32)\r\n",
      "Testing PRESENT: read ../test/PRESENT_features.csv and ../test/PRESENT_edges.csv\r\n",
      "Tensor(\"GatherV2:0\", shape=(1, 32), dtype=float32)\r\n",
      "Tensor(\"gnn_model_1/GatherV2:0\", shape=(1, 32), dtype=float32)\r\n",
      "Tensor(\"gnn_model_1/GatherV2:0\", shape=(1, 32), dtype=float32)\r\n",
      "\u001B[1m1/1\u001B[0m \u001B[32m━━━━━━━━━━━━━━━━━━━━\u001B[0m\u001B[37m\u001B[0m \u001B[1m0s\u001B[0m 312ms/step\r\n",
      "Tensor(\"gnn_model_1/GatherV2:0\", shape=(None, 32), dtype=float32)\r\n",
      "WARNING:tensorflow:5 out of the last 18 calls to <function TensorFlowTrainer.make_predict_function.<locals>.one_step_on_data_distributed at 0x308e8f4c0> triggered tf.function retracing. Tracing is expensive and the excessive number of tracings could be due to (1) creating @tf.function repeatedly in a loop, (2) passing tensors with different shapes, (3) passing Python objects instead of tensors. For (1), please define your @tf.function outside of the loop. For (2), @tf.function has reduce_retracing=True option that can avoid unnecessary retracing. For (3), please refer to https://www.tensorflow.org/guide/function#controlling_retracing and https://www.tensorflow.org/api_docs/python/tf/function for  more details.\r\n",
      "Testing RSA: read ../test/RSA_features.csv and ../test/RSA_edges.csv\r\n",
      "Tensor(\"GatherV2:0\", shape=(1, 32), dtype=float32)\r\n",
      "Tensor(\"gnn_model_1/GatherV2:0\", shape=(1, 32), dtype=float32)\r\n",
      "Tensor(\"gnn_model_1/GatherV2:0\", shape=(1, 32), dtype=float32)\r\n",
      "WARNING:tensorflow:5 out of the last 11 calls to <function TensorFlowTrainer.make_predict_function.<locals>.one_step_on_data_distributed at 0x308f054c0> triggered tf.function retracing. Tracing is expensive and the excessive number of tracings could be due to (1) creating @tf.function repeatedly in a loop, (2) passing tensors with different shapes, (3) passing Python objects instead of tensors. For (1), please define your @tf.function outside of the loop. For (2), @tf.function has reduce_retracing=True option that can avoid unnecessary retracing. For (3), please refer to https://www.tensorflow.org/guide/function#controlling_retracing and https://www.tensorflow.org/api_docs/python/tf/function for  more details.\r\n",
      "\u001B[1m1/1\u001B[0m \u001B[32m━━━━━━━━━━━━━━━━━━━━\u001B[0m\u001B[37m\u001B[0m \u001B[1m0s\u001B[0m 314ms/step\r\n",
      "Tensor(\"gnn_model_1/GatherV2:0\", shape=(None, 32), dtype=float32)\r\n",
      "Testing SABER: read ../test/SABER_features.csv and ../test/SABER_edges.csv\r\n",
      "Tensor(\"GatherV2:0\", shape=(1, 32), dtype=float32)\r\n",
      "Tensor(\"gnn_model_1/GatherV2:0\", shape=(1, 32), dtype=float32)\r\n",
      "Tensor(\"gnn_model_1/GatherV2:0\", shape=(1, 32), dtype=float32)\r\n",
      "\u001B[1m1/1\u001B[0m \u001B[32m━━━━━━━━━━━━━━━━━━━━\u001B[0m\u001B[37m\u001B[0m \u001B[1m0s\u001B[0m 307ms/step\r\n",
      "Tensor(\"gnn_model_1/GatherV2:0\", shape=(None, 32), dtype=float32)\r\n",
      "for AES_PPRM1: Acc=0.8736  F1=0.9076  AUC=0.8126\r\n",
      "for AES_PPRM3: Acc=0.9108  F1=0.9506  AUC=0.6103\r\n",
      "for AES_TBL: Acc=0.8333  F1=0.8485  AUC=0.7640\r\n",
      "for PRESENT: Acc=0.3006  F1=0.3596  AUC=0.4387\r\n",
      "for RSA: Acc=0.6064  F1=0.2893  AUC=0.5783\r\n",
      "for SABER: Acc=0.9027  F1=0.9484  AUC=0.9303\r\n"
     ]
    }
   ],
   "execution_count": 18
  }
 ],
 "metadata": {
  "kernelspec": {
   "display_name": "Python 3",
   "language": "python",
   "name": "python3"
  },
  "language_info": {
   "codemirror_mode": {
    "name": "ipython",
    "version": 2
   },
   "file_extension": ".py",
   "mimetype": "text/x-python",
   "name": "python",
   "nbconvert_exporter": "python",
   "pygments_lexer": "ipython2",
   "version": "2.7.6"
  }
 },
 "nbformat": 4,
 "nbformat_minor": 5
}
